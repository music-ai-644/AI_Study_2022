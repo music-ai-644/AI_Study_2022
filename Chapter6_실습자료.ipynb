{
  "cells": [
    {
      "cell_type": "markdown",
      "metadata": {
        "id": "view-in-github",
        "colab_type": "text"
      },
      "source": [
        "<a href=\"https://colab.research.google.com/github/music-ai-644/AI_Study_2022/blob/main/Chapter6_%EC%8B%A4%EC%8A%B5%EC%9E%90%EB%A3%8C.ipynb\" target=\"_parent\"><img src=\"https://colab.research.google.com/assets/colab-badge.svg\" alt=\"Open In Colab\"/></a>"
      ]
    },
    {
      "cell_type": "markdown",
      "source": [
        "# 로지스틱 회귀 + 데이터 전처리 + 미니 배치 "
      ],
      "metadata": {
        "id": "gtvXxVU7ngtN"
      }
    },
    {
      "cell_type": "markdown",
      "source": [
        "## 문제 해결을 위한 데이터셋 준비\n",
        "\n",
        "1. 필요한 패키지, 데이터셋 불러오기\n"
      ],
      "metadata": {
        "id": "Jm3czD6BoDAk"
      }
    },
    {
      "cell_type": "code",
      "source": [
        "import random\n",
        "import torch \n",
        "import torch.nn as nn \n",
        "import numpy as np \n",
        "import matplotlib.pyplot as plt\n",
        "\n",
        "from sklearn.datasets import load_breast_cancer\n",
        "from sklearn.model_selection import train_test_split\n",
        "\n",
        "cancer = load_breast_cancer()\n",
        "\n",
        "x = cancer.data\n",
        "y = cancer.target \n",
        "\n",
        "x_train, x_test, y_train, y_test = train_test_split(x, y, stratify=y, test_size=0.2, random_state=42)  # 수정 금지 \n",
        "x_train, x_eval, y_train, y_eval = train_test_split(x_train, y_train, stratify=y_train, test_size=0.125, random_state=999)\n",
        "\n",
        "# train에 대해서 평균과 표준편차를 구한다. \n",
        "mean_x = np.mean(x_train, 0)\n",
        "mean_x = np.expand_dims(mean_x, 0)\n",
        "\n",
        "std_x = np.std(x_train, 0)\n",
        "std_x = np.expand_dims(std_x, 0) \n",
        "\n",
        "x_train_1 = (x_train - mean_x) / std_x\n",
        "x_test_1 = (x_test - mean_x) / std_x\n",
        "x_eval_1 = (x_eval - mean_x) / std_x\n",
        "\n",
        "# train에 대해서 최댓값과 최솟값을 구한다. \n",
        "max_x = np.max(x_train, 0)\n",
        "min_x = np.min(x_train, 0)\n",
        "\n",
        "x_train_2 = (x_train - min_x) / (max_x - min_x)\n",
        "x_test_2 = (x_test - min_x) / (max_x - min_x)\n",
        "x_eval_2 = (x_eval - min_x) / (max_x - min_x)"
      ],
      "metadata": {
        "id": "ZRiv5fNUBdof"
      },
      "execution_count": 33,
      "outputs": []
    },
    {
      "cell_type": "code",
      "source": [
        "x_train_torch = torch.FloatTensor(x_train)\n",
        "y_train_torch = torch.FloatTensor(y_train)\n",
        "x_eval_torch = torch.FloatTensor(x_eval)\n",
        "y_eval_torch = torch.FloatTensor(y_eval) \n",
        "x_test_torch = torch.FloatTensor(x_test)\n",
        "y_test_torch = torch.FloatTensor(y_test)\n",
        "\n",
        "x_train_1_torch = torch.FloatTensor(x_train_1)\n",
        "x_test_1_torch = torch.FloatTensor(x_test_1)\n",
        "x_eval_1_torch = torch.FloatTensor(x_eval_1)\n",
        "\n",
        "x_train_2_torch = torch.FloatTensor(x_train_2)\n",
        "x_test_2_torch = torch.FloatTensor(x_test_2)\n",
        "x_eval_2_torch = torch.FloatTensor(x_eval_2)"
      ],
      "metadata": {
        "id": "qUUt0qqiLPkg"
      },
      "execution_count": 34,
      "outputs": []
    },
    {
      "cell_type": "markdown",
      "source": [
        "\n",
        "2. 미니 배치 준비 \n",
        "- np.random.permutation \n",
        "- data indexing "
      ],
      "metadata": {
        "id": "Dtf4Q9BeJIBp"
      }
    },
    {
      "cell_type": "code",
      "source": [
        ""
      ],
      "metadata": {
        "id": "62Er-L3mEZWX"
      },
      "execution_count": 34,
      "outputs": []
    },
    {
      "cell_type": "markdown",
      "source": [
        "3. 직접 모델 만들어보기 "
      ],
      "metadata": {
        "id": "byBbnRrcJoc6"
      }
    },
    {
      "cell_type": "code",
      "source": [
        "# Step 1 모델 생성 \n",
        "model = nn.Sequential(\n",
        "        nn.Linear(30, 100),\n",
        "        nn.ReLU(), \n",
        "        nn.Linear(100, 1),\n",
        "        nn.Sigmoid()\n",
        "        )"
      ],
      "metadata": {
        "id": "4H_I57BkKEPp"
      },
      "execution_count": 35,
      "outputs": []
    },
    {
      "cell_type": "code",
      "source": [
        "# Step 2 업데이트 툴 설정 \n",
        "optim = torch.optim.Adam(model.parameters(), lr=1e-4)"
      ],
      "metadata": {
        "id": "94N06QlqKHsh"
      },
      "execution_count": 36,
      "outputs": []
    },
    {
      "cell_type": "code",
      "source": [
        "# Step 3 오차 함수 설정 \n",
        "criterion = nn.BCELoss() "
      ],
      "metadata": {
        "id": "x7R6YpCeKRJy"
      },
      "execution_count": 37,
      "outputs": []
    },
    {
      "cell_type": "code",
      "source": [
        "# Step 4 오차 계산 함수 설정\n",
        "def cal_loss(x, y):\n",
        "  loss = criterion(x, y)\n",
        "  return loss "
      ],
      "metadata": {
        "id": "zvsDyTuRKW7W"
      },
      "execution_count": 38,
      "outputs": []
    },
    {
      "cell_type": "code",
      "source": [
        "# Step 5 학습 \n",
        "epochs = 10\n",
        "for i in range(epochs):\n",
        "    for x_i, y_i in zip(x_train_torch, y_train_torch):\n",
        "      pred_y = model(x_i)\n",
        "      loss = cal_loss(pred_y[0], y_i)\n",
        "      model.zero_grad() \n",
        "      optim.zero_grad()\n",
        "      loss.backward()\n",
        "      optim.step()\n",
        "    \n",
        "    print(\"epoch {} : err = {:.4f}\".format(i + 1, loss))"
      ],
      "metadata": {
        "id": "7xg605n1KlZp",
        "outputId": "cbd236b6-d2e3-41a2-b3ca-a10a30c4d813",
        "colab": {
          "base_uri": "https://localhost:8080/"
        }
      },
      "execution_count": 39,
      "outputs": [
        {
          "output_type": "stream",
          "name": "stdout",
          "text": [
            "epoch 1 : err = 0.0511\n",
            "epoch 2 : err = 0.0317\n",
            "epoch 3 : err = 0.0172\n",
            "epoch 4 : err = 0.0135\n",
            "epoch 5 : err = 0.0117\n",
            "epoch 6 : err = 0.0105\n",
            "epoch 7 : err = 0.0095\n",
            "epoch 8 : err = 0.0086\n",
            "epoch 9 : err = 0.0079\n",
            "epoch 10 : err = 0.0073\n"
          ]
        }
      ]
    },
    {
      "cell_type": "code",
      "source": [
        "# Step 6 예측\n",
        "def predict(x):\n",
        "    pred = [model(x_i).data.numpy()[0] for x_i in x]\n",
        "    return np.array(pred) > 0.5"
      ],
      "metadata": {
        "id": "NSoRUWgkK1rt"
      },
      "execution_count": 43,
      "outputs": []
    },
    {
      "cell_type": "code",
      "source": [
        "result = np.mean(predict(x_test_torch) == y_test)\n",
        "print(\"정확도 : {:%}\".format(result))"
      ],
      "metadata": {
        "id": "Hz-9Ge_hJ2E-",
        "outputId": "f3cc8ffe-c0d6-46c8-ea0e-9fc0ae2fab4a",
        "colab": {
          "base_uri": "https://localhost:8080/"
        }
      },
      "execution_count": 44,
      "outputs": [
        {
          "output_type": "stream",
          "name": "stdout",
          "text": [
            "정확도 : 92.982456%\n"
          ]
        }
      ]
    },
    {
      "cell_type": "code",
      "source": [
        ""
      ],
      "metadata": {
        "id": "BWTdBCqALsUr"
      },
      "execution_count": null,
      "outputs": []
    }
  ],
  "metadata": {
    "colab": {
      "name": "Chapter2_1.ipynb",
      "provenance": [],
      "include_colab_link": true
    },
    "language_info": {
      "name": "python"
    },
    "kernelspec": {
      "name": "python3",
      "display_name": "Python 3"
    }
  },
  "nbformat": 4,
  "nbformat_minor": 0
}