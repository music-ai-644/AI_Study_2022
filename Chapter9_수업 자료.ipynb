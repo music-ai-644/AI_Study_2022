{
  "nbformat": 4,
  "nbformat_minor": 0,
  "metadata": {
    "colab": {
      "name": "Untitled0.ipynb",
      "provenance": [],
      "authorship_tag": "ABX9TyNMS5I3Lj4OVZcMZrlZvxrY",
      "include_colab_link": true
    },
    "kernelspec": {
      "name": "python3",
      "display_name": "Python 3"
    },
    "language_info": {
      "name": "python"
    },
    "accelerator": "GPU",
    "gpuClass": "standard"
  },
  "cells": [
    {
      "cell_type": "markdown",
      "metadata": {
        "id": "view-in-github",
        "colab_type": "text"
      },
      "source": [
        "<a href=\"https://colab.research.google.com/github/music-ai-644/AI_Study_2022/blob/main/Chapter9_%EC%88%98%EC%97%85%20%EC%9E%90%EB%A3%8C.ipynb\" target=\"_parent\"><img src=\"https://colab.research.google.com/assets/colab-badge.svg\" alt=\"Open In Colab\"/></a>"
      ]
    },
    {
      "cell_type": "markdown",
      "source": [
        "# 영화 리뷰 데이터셋\n",
        "## 텍스트 분류하기 "
      ],
      "metadata": {
        "id": "KbCz2l36VL-Q"
      }
    },
    {
      "cell_type": "markdown",
      "source": [
        "### 1. 데이터 불러오기 "
      ],
      "metadata": {
        "id": "Ym09lvkZVYHv"
      }
    },
    {
      "cell_type": "code",
      "source": [
        "import numpy as np \n",
        "from tensorflow.keras.datasets import imdb"
      ],
      "metadata": {
        "id": "mdO90EZpUtN0"
      },
      "execution_count": 77,
      "outputs": []
    },
    {
      "cell_type": "markdown",
      "source": [
        "![figure3](https://github.com/music-ai-644/AI_Study_2022/blob/main/figure/Chapter9_3.PNG?raw=true)"
      ],
      "metadata": {
        "id": "KQUSH588Z281"
      }
    },
    {
      "cell_type": "markdown",
      "source": [
        "- 인터넷 영화 평점 사이트의 댓글 데이터 셋 \n",
        "- 리뷰 하나가 들어왔을 때 문장(문자열)을 보고 긍정(1) 인지, 부정(0)인지 예측하는 학습에 사용\n",
        "- 이러한 task를 감성 분석(sentimental analysis)이라고 함"
      ],
      "metadata": {
        "id": "mnuN5CA8Z8W_"
      }
    },
    {
      "cell_type": "code",
      "source": [
        "(x_train_all, y_train_all), (x_test, y_test) = imdb.load_data(skip_top=20, num_words=100)\n",
        "# skip_top 제일 많이 나오는 단어 20개는 삭제 (a, the 같은 관사일 수 있음)\n",
        "# num_words 단어의 개수를 설정 \n",
        "\n",
        "for i in range(len(x_train_all)):\n",
        "    x_train_all[i] = [w for w in x_train_all[i] if w > 2]\n",
        "print(x_train_all.shape, y_train_all.shape)"
      ],
      "metadata": {
        "id": "zNwJOBz_VLM9",
        "outputId": "56b00501-a981-4ae6-d80f-78ad89fb3087",
        "colab": {
          "base_uri": "https://localhost:8080/"
        }
      },
      "execution_count": 78,
      "outputs": [
        {
          "output_type": "stream",
          "name": "stdout",
          "text": [
            "(25000,) (25000,)\n",
            "(25000,) (25000,)\n"
          ]
        }
      ]
    },
    {
      "cell_type": "code",
      "source": [
        "word_to_index = imdb.get_word_index()\n",
        "word_to_index['movie']\n",
        "index_to_word = {word_to_index[k]: k for k in word_to_index}\n",
        "\n",
        "for w in x_train_all[0]:\n",
        "    print(index_to_word[w - 3], end=' ')"
      ],
      "metadata": {
        "colab": {
          "base_uri": "https://localhost:8080/"
        },
        "id": "oMlrC22FvwxS",
        "outputId": "6735d8db-4ae4-4d6a-eb2c-2b566094b778"
      },
      "execution_count": 79,
      "outputs": [
        {
          "output_type": "stream",
          "name": "stdout",
          "text": [
            "film just story really they you just there an from so there film film were great just so much film would really at so you what they if you at film have been good also they were just are out because them all up are film but are be what they have don't you story so because all all "
          ]
        }
      ]
    },
    {
      "cell_type": "markdown",
      "source": [
        "![figure4](https://github.com/music-ai-644/AI_Study_2022/blob/main/figure/Chapter9_4.PNG?raw=true)"
      ],
      "metadata": {
        "id": "3ZcZDUuBahLQ"
      }
    },
    {
      "cell_type": "code",
      "source": [
        "print(\"첫 번째 sequence의 길이 : \", len(x_train_all[0]))\n",
        "print(\"두 번째 sequence의 길이 : \", len(x_train_all[1]))"
      ],
      "metadata": {
        "id": "lOfjk4sGVm2t",
        "outputId": "d081a4e2-f91a-48ac-b017-5852b1d8d045",
        "colab": {
          "base_uri": "https://localhost:8080/"
        }
      },
      "execution_count": 80,
      "outputs": [
        {
          "output_type": "stream",
          "name": "stdout",
          "text": [
            "첫 번째 sequence의 길이 :  59\n",
            "두 번째 sequence의 길이 :  32\n"
          ]
        }
      ]
    },
    {
      "cell_type": "code",
      "source": [
        "print(\"첫 번째 sequence의 타겟값 : \", y_train_all[0])\n",
        "print(\"두 번째 sequence의 타겟값 : \", y_train_all[1])"
      ],
      "metadata": {
        "id": "y5cHBGsHVouJ",
        "outputId": "6c766914-7584-43f7-842a-b3cf8d222bca",
        "colab": {
          "base_uri": "https://localhost:8080/"
        }
      },
      "execution_count": 81,
      "outputs": [
        {
          "output_type": "stream",
          "name": "stdout",
          "text": [
            "첫 번째 sequence의 타겟값 :  1\n",
            "두 번째 sequence의 타겟값 :  0\n"
          ]
        }
      ]
    },
    {
      "cell_type": "code",
      "source": [
        "from sklearn.model_selection import train_test_split \n",
        "x_train, x_valid, y_train, y_valid = train_test_split(x_train_all, y_train_all, stratify=y_train_all, test_size=0.2, random_state=42)"
      ],
      "metadata": {
        "id": "5YWWgCuwYXld"
      },
      "execution_count": 54,
      "outputs": []
    },
    {
      "cell_type": "code",
      "source": [
        "import matplotlib.pyplot as plt \n",
        "lengths = np.array([len(x) for x in x_train])  # train set의 sequence의 길이들을 모음 \n",
        "print(\"훈련 데이터 셋 길이의 평균   : \", np.mean(lengths))\n",
        "print(\"훈련 데이터 셋 길이의 중간값 : \", np.median(lengths))\n",
        "\n",
        "plt.hist(lengths)\n",
        "plt.grid()\n",
        "plt.xlabel(\"length\")\n",
        "plt.ylabel(\"frequency\")"
      ],
      "metadata": {
        "id": "Mz1wX7Xra0F0",
        "outputId": "a14f0b13-d715-4751-8c8c-d4953860a890",
        "colab": {
          "base_uri": "https://localhost:8080/",
          "height": 334
        }
      },
      "execution_count": 82,
      "outputs": [
        {
          "output_type": "stream",
          "name": "stdout",
          "text": [
            "훈련 데이터 셋 길이의 평균   :  238.4934\n",
            "훈련 데이터 셋 길이의 중간값 :  178.0\n"
          ]
        },
        {
          "output_type": "execute_result",
          "data": {
            "text/plain": [
              "Text(0, 0.5, 'frequency')"
            ]
          },
          "metadata": {},
          "execution_count": 82
        },
        {
          "output_type": "display_data",
          "data": {
            "text/plain": [
              "<Figure size 432x288 with 1 Axes>"
            ],
            "image/png": "[encoded data removed]"
          },
          "metadata": {
            "needs_background": "light"
          }
        }
      ]
    },
    {
      "cell_type": "markdown",
      "source": [
        "### 2. 샘플 길이 맞추고 원-핫 인코딩하기"
      ],
      "metadata": {
        "id": "FjP7djoYXqBY"
      }
    },
    {
      "cell_type": "markdown",
      "source": [
        "![figure1](https://github.com/music-ai-644/AI_Study_2022/blob/main/figure/Chapter9_1.PNG?raw=true)\n",
        "- 순환 신경망의 경우, sequence의 길이가 짧은 경우, 뒤에 하는 것이 아니라 앞에 함\n",
        "- 텍스트 분류를 위해서 신경망의 가장 마지막 output을 사용하게 되는데, 이 때 뒤에 패딩한 값(zero 혹은 기타)이 영향을 주게 되어 실제 데이터와 무관한 값이 나올 수 있음\n",
        "\n",
        "![figure2](https://github.com/music-ai-644/AI_Study_2022/blob/main/figure/Chapter9_2.PNG?raw=true)"
      ],
      "metadata": {
        "id": "hkSid-9ZWilO"
      }
    },
    {
      "cell_type": "code",
      "source": [
        "from tensorflow.keras.preprocessing import sequence \n",
        "\n",
        "maxlen = 100  # 배치 내의 sequence의 길이를 최대 100으로 함 \n",
        "x_train_seq = sequence.pad_sequences(x_train, maxlen=maxlen)\n",
        "x_valid_seq = sequence.pad_sequences(x_valid, maxlen=maxlen)\n",
        "x_test_seq = sequence.pad_sequences(x_test, maxlen=maxlen)"
      ],
      "metadata": {
        "id": "FSZl_CHBV411"
      },
      "execution_count": 83,
      "outputs": []
    },
    {
      "cell_type": "markdown",
      "source": [
        "![figure5](https://github.com/music-ai-644/AI_Study_2022/blob/main/figure/Chapter9_5.PNG?raw=true)"
      ],
      "metadata": {
        "id": "qxLeyDb9bz_k"
      }
    },
    {
      "cell_type": "code",
      "source": [
        "print(\"훈련 데이터 셋의 형태 : \", np.shape(x_train_seq))"
      ],
      "metadata": {
        "id": "IOZ8ZEzrYtSh",
        "outputId": "61eeaee8-9075-4e2b-8080-b660763b8b7c",
        "colab": {
          "base_uri": "https://localhost:8080/"
        }
      },
      "execution_count": 84,
      "outputs": [
        {
          "output_type": "stream",
          "name": "stdout",
          "text": [
            "훈련 데이터 셋의 형태 :  (20000, 100)\n"
          ]
        }
      ]
    },
    {
      "cell_type": "code",
      "source": [
        "print(\"훈련 데이터 셋의 타겟 : \", np.shape(x_train_seq))  # (전체 샘플 개수, sequence 길이, 단어의 개수)\n",
        "print(\"평가 데이터 셋의 타겟 : \", np.shape(x_valid_seq))  # (전체 샘플 개수, sequence 길이, 단어의 개수)"
      ],
      "metadata": {
        "id": "kjLL9aKgY-NZ",
        "outputId": "f84db712-0218-4f9e-f9c7-060fb69b6370",
        "colab": {
          "base_uri": "https://localhost:8080/"
        }
      },
      "execution_count": 85,
      "outputs": [
        {
          "output_type": "stream",
          "name": "stdout",
          "text": [
            "훈련 데이터 셋의 타겟 :  (20000, 100)\n",
            "평가 데이터 셋의 타겟 :  (5000, 100)\n"
          ]
        }
      ]
    },
    {
      "cell_type": "code",
      "source": [
        "import torch\n",
        "x_train_torch = torch.FloatTensor(x_train_seq)\n",
        "y_train_torch = torch.FloatTensor(y_train)\n",
        "x_valid_torch = torch.FloatTensor(x_valid_seq)\n",
        "y_valid_torch = torch.FloatTensor(y_valid) \n",
        "x_test_torch = torch.FloatTensor(x_test_seq)\n",
        "y_test_torch = torch.FloatTensor(y_test) "
      ],
      "metadata": {
        "id": "JiSTADR5ZDhV"
      },
      "execution_count": 86,
      "outputs": []
    },
    {
      "cell_type": "code",
      "source": [
        "import torch.nn as nn \n",
        "from torch.utils.data import Dataset, DataLoader "
      ],
      "metadata": {
        "id": "quyQx0-DdXey"
      },
      "execution_count": 87,
      "outputs": []
    },
    {
      "cell_type": "code",
      "source": [
        "class IMDBDataset(Dataset):\n",
        "  def __init__(self, x, y):\n",
        "    self.x_data = x \n",
        "    self.y_data = y \n",
        "\n",
        "  def __getitem__(self, index):\n",
        "    x = self.x_data[index]\n",
        "    y = self.y_data[index]\n",
        "    return x, y\n",
        "\n",
        "  def collate_fn(self, batch):\n",
        "    x, y = zip(*batch)\n",
        "    return x, y \n",
        "\n",
        "  def __len__(self):\n",
        "    return len(self.x_data)\n"
      ],
      "metadata": {
        "id": "C6M5hK5-dnAP"
      },
      "execution_count": 88,
      "outputs": []
    },
    {
      "cell_type": "code",
      "source": [
        "dataset = IMDBDataset(x_train_torch, y_train_torch)\n",
        "dataloader = DataLoader(dataset, batch_size=16, shuffle=True, drop_last=True)"
      ],
      "metadata": {
        "id": "N5cD5sEVIPTC"
      },
      "execution_count": 89,
      "outputs": []
    },
    {
      "cell_type": "markdown",
      "source": [
        "![figure6](https://github.com/music-ai-644/AI_Study_2022/blob/main/figure/Chapter9_6.PNG?raw=true)"
      ],
      "metadata": {
        "id": "ofTN95pnyBYc"
      }
    },
    {
      "cell_type": "code",
      "source": [
        "class MyModel(nn.Module):\n",
        "  def __init__(self):\n",
        "    super(MyModel, self).__init__()\n",
        "    self.n_layer = 1\n",
        "    self.n_hidden = 100\n",
        "    self.embedding = nn.Embedding(200, self.n_hidden)\n",
        "    self.rnn = nn.RNN(self.n_hidden, self.n_hidden)\n",
        "    self.linear = nn.Linear(self.n_hidden, 1)\n",
        "    self.sigmoid = nn.Sigmoid()\n",
        "  \n",
        "  def forward(self, x):\n",
        "    x = self.embedding(x)\n",
        "    output, hidden = self.rnn(x)\n",
        "    predicts = self.linear(output[-1, :, :])\n",
        "    predicts = self.sigmoid(predicts)\n",
        "    return predicts\n",
        "\n",
        "  def predict(self, x):\n",
        "    predicts = []\n",
        "    len_x = x.size(1)\n",
        "    for i in range(len_x):\n",
        "      pred = model(x[:, i].unsqueeze(1))\n",
        "      predicts.append(pred.data.numpy()[0])\n",
        "    return np.array(predicts) > 0.5"
      ],
      "metadata": {
        "id": "IP5CcmxSM-az"
      },
      "execution_count": 101,
      "outputs": []
    },
    {
      "cell_type": "code",
      "source": [
        "from tqdm import tqdm \n",
        "import random \n",
        "\n",
        "random_seed = 123\n",
        "np.random.seed(random_seed)\n",
        "torch.manual_seed(random_seed)\n",
        "random.seed(random_seed)\n",
        "\n",
        "model = MyModel() \n",
        "model.train()\n",
        "\n",
        "optim = torch.optim.Adam(model.parameters(), lr=1e-4)\n",
        "criterion = nn.BCELoss()\n",
        "\n",
        "global_step = 0 \n",
        "for epoch in range(10):\n",
        "  t = tqdm(dataloader, ncols=100)\n",
        "  for i, batch in enumerate(t):\n",
        "    x_batch = batch[0]\n",
        "    y_batch = batch[1]\n",
        "    x_batch = x_batch.transpose(0, 1)\n",
        "    model.zero_grad()\n",
        "    predicts = model(x_batch.long())\n",
        "    loss = criterion(predicts[:,0], y_batch)\n",
        "    loss.backward()\n",
        "    optim.step()\n",
        "\n",
        "    global_step += 1\n",
        "    t.set_description(\"epoch: {} | global_step: {:8d} | loss: {:.4f}\".format(epoch + 1, global_step, loss))\n",
        "  \n",
        "  with torch.no_grad():\n",
        "    model.eval()\n",
        "    predicts = model.predict(x_valid_torch.transpose(0, 1).long())\n",
        "    result = np.mean(predicts == y_test)\n",
        "    print(\"정확도 : {:%}\".format(result))\n",
        "    model.train()"
      ],
      "metadata": {
        "id": "QTrbnA3qI4Si",
        "outputId": "58536a54-dc1f-489f-e016-cfa48cb7486b",
        "colab": {
          "base_uri": "https://localhost:8080/"
        }
      },
      "execution_count": null,
      "outputs": [
        {
          "output_type": "stream",
          "name": "stderr",
          "text": [
            "epoch: 1 | global_step:      378 | loss: 0.6771:  30%|███▎       | 378/1250 [00:59<02:05,  6.93it/s]"
          ]
        }
      ]
    },
    {
      "cell_type": "code",
      "source": [
        "result = np.mean(predicts(x_test_torch) == y_test)\n",
        "print(\"epoch: {} | global_step: {} | valid acc: {:%}\".format(epoch + 1, global_step, acc))"
      ],
      "metadata": {
        "id": "IKz-kkBlJxB6"
      },
      "execution_count": null,
      "outputs": []
    },
    {
      "cell_type": "code",
      "source": [
        ""
      ],
      "metadata": {
        "id": "LhCsVr_bYPIN"
      },
      "execution_count": null,
      "outputs": []
    }
  ]
}