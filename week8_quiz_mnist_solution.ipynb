{
  "nbformat": 4,
  "nbformat_minor": 0,
  "metadata": {
    "colab": {
      "name": "Untitled0.ipynb",
      "provenance": [],
      "authorship_tag": "ABX9TyOhE62omxkEBRjJijlJVo+T",
      "include_colab_link": true
    },
    "kernelspec": {
      "name": "python3",
      "display_name": "Python 3"
    },
    "language_info": {
      "name": "python"
    }
  },
  "cells": [
    {
      "cell_type": "markdown",
      "metadata": {
        "id": "view-in-github",
        "colab_type": "text"
      },
      "source": [
        "<a href=\"https://colab.research.google.com/github/music-ai-644/AI_Study_2022/blob/main/week8_quiz_mnist_solution.ipynb\" target=\"_parent\"><img src=\"https://colab.research.google.com/assets/colab-badge.svg\" alt=\"Open In Colab\"/></a>"
      ]
    },
    {
      "cell_type": "code",
      "execution_count": 1,
      "metadata": {
        "id": "IMRHgENqVdcU"
      },
      "outputs": [],
      "source": [
        "import matplotlib.pyplot as plt \n",
        "import tensorflow as tf\n",
        "import numpy as np "
      ]
    },
    {
      "cell_type": "code",
      "source": [
        "(x_train_all, y_train_all), (x_test, y_test) = tf.keras.datasets.mnist.load_data()"
      ],
      "metadata": {
        "id": "AeZiHPuBVgce",
        "outputId": "f897b68d-f885-4359-c38b-496ada60f693",
        "colab": {
          "base_uri": "https://localhost:8080/"
        }
      },
      "execution_count": 2,
      "outputs": [
        {
          "output_type": "stream",
          "name": "stdout",
          "text": [
            "Downloading data from https://storage.googleapis.com/tensorflow/tf-keras-datasets/mnist.npz\n",
            "11493376/11490434 [==============================] - 0s 0us/step\n",
            "11501568/11490434 [==============================] - 0s 0us/step\n"
          ]
        }
      ]
    },
    {
      "cell_type": "code",
      "source": [
        "fig = plt.figure(figsize=(15, 4))\n",
        "\n",
        "for i in range(10):\n",
        "    plottable_image = np.reshape(x_train_all[i], (28, 28))\n",
        "    ax = fig.add_subplot(2, 5, i+1)\n",
        "    ax.imshow(plottable_image, cmap='gray_r')"
      ],
      "metadata": {
        "colab": {
          "base_uri": "https://localhost:8080/",
          "height": 268
        },
        "id": "KqZcE_KvV7_w",
        "outputId": "bfb3fd13-1b9c-48bf-e3e0-aa15774e9b74"
      },
      "execution_count": 4,
      "outputs": [
        {
          "output_type": "display_data",
          "data": {
            "text/plain": [
              "<Figure size 1080x288 with 10 Axes>"
            ],
            "image/png": "[encoded data removed]"
          },
          "metadata": {
            "needs_background": "light"
          }
        }
      ]
    },
    {
      "cell_type": "code",
      "source": [
        "from sklearn.model_selection import train_test_split \n",
        "x_train, x_valid, y_train, y_valid = train_test_split(x_train_all, y_train_all, stratify=y_train_all, test_size=0.2, random_state=42)"
      ],
      "metadata": {
        "id": "6hRrkl0MYjtf"
      },
      "execution_count": 5,
      "outputs": []
    },
    {
      "cell_type": "code",
      "source": [
        "print(\"학습 데이터셋 클래스별 샘플 수 : \", np.bincount(y_train))\n",
        "print(\"평가 데이터셋 클래스별 샘플 수 : \", np.bincount(y_valid))"
      ],
      "metadata": {
        "id": "KV8-3RyM77wG",
        "outputId": "f45f4ff7-d243-466b-b14e-9c6b9118f504",
        "colab": {
          "base_uri": "https://localhost:8080/"
        }
      },
      "execution_count": 6,
      "outputs": [
        {
          "output_type": "stream",
          "name": "stdout",
          "text": [
            "학습 데이터셋 클래스별 샘플 수 :  [4738 5394 4766 4905 4674 4337 4734 5012 4681 4759]\n",
            "평가 데이터셋 클래스별 샘플 수 :  [1185 1348 1192 1226 1168 1084 1184 1253 1170 1190]\n"
          ]
        }
      ]
    },
    {
      "cell_type": "code",
      "source": [
        "x_train = x_train / 255\n",
        "x_valid = x_valid / 255 \n",
        "x_test = x_test / 255"
      ],
      "metadata": {
        "id": "NhZZk3xO-oD6"
      },
      "execution_count": 7,
      "outputs": []
    },
    {
      "cell_type": "code",
      "source": [
        "x_train_reshape = x_train.reshape(-1, 784)\n",
        "x_valid_reshape = x_valid.reshape(-1, 784)\n",
        "x_test_reshape = x_test.reshape(-1, 784)\n",
        "\n",
        "print(\"학습 데이터 셋의 형태 : \", x_train_reshape.shape)\n",
        "print(\"검증 데이터 셋의 형태 : \", x_valid_reshape.shape)"
      ],
      "metadata": {
        "id": "HBLQwYNa-xbc",
        "outputId": "76a1692a-ba4c-4757-dba7-393b19551fc4",
        "colab": {
          "base_uri": "https://localhost:8080/"
        }
      },
      "execution_count": 8,
      "outputs": [
        {
          "output_type": "stream",
          "name": "stdout",
          "text": [
            "학습 데이터 셋의 형태 :  (48000, 784)\n",
            "검증 데이터 셋의 형태 :  (12000, 784)\n"
          ]
        }
      ]
    },
    {
      "cell_type": "code",
      "source": [
        "y_train_encoded = tf.keras.utils.to_categorical(y_train)\n",
        "y_valid_encoded = tf.keras.utils.to_categorical(y_valid)"
      ],
      "metadata": {
        "id": "vgg4WjtQ-1Uj"
      },
      "execution_count": 9,
      "outputs": []
    },
    {
      "cell_type": "code",
      "source": [
        "import torch\n",
        "x_train_torch = torch.FloatTensor(x_train_reshape)\n",
        "y_train_torch = torch.FloatTensor(y_train_encoded)\n",
        "x_valid_torch = torch.FloatTensor(x_valid_reshape)\n",
        "y_valid_torch = torch.FloatTensor(y_valid_encoded) \n",
        "x_test_torch = torch.FloatTensor(x_test_reshape)\n",
        "y_test_torch = torch.FloatTensor(y_test)"
      ],
      "metadata": {
        "id": "qnQdS3hC-9Y1"
      },
      "execution_count": 10,
      "outputs": []
    },
    {
      "cell_type": "code",
      "source": [
        "import torch.nn as nn\n",
        "from torch.utils.data import Dataset, DataLoader"
      ],
      "metadata": {
        "id": "XQdNujZG-_wB"
      },
      "execution_count": 11,
      "outputs": []
    },
    {
      "cell_type": "code",
      "source": [
        "class MNISTDataset(Dataset):\n",
        "  def __init__(self, x, y):\n",
        "    self.x_data = x\n",
        "    self.y_data = y\n",
        "  \n",
        "  def __getitem__(self, index):\n",
        "    x = self.x_data[index]\n",
        "    y = self.y_data[index]\n",
        "    return x, y\n",
        "  \n",
        "  def collate_fn(self, batch):\n",
        "    x, y = zip(*batch)\n",
        "    return x, y\n",
        "\n",
        "  def __len__(self):\n",
        "    return len(self.x_data)"
      ],
      "metadata": {
        "id": "PeaZr0cW_CaN"
      },
      "execution_count": 12,
      "outputs": []
    },
    {
      "cell_type": "code",
      "source": [
        "dataset = MNISTDataset(x_train_torch, y_train_torch)\n",
        "dataloader = DataLoader(dataset, batch_size=32, shuffle=True, drop_last=True)"
      ],
      "metadata": {
        "id": "x79gTlDC_H8i"
      },
      "execution_count": 13,
      "outputs": []
    },
    {
      "cell_type": "code",
      "source": [
        "from tqdm import tqdm \n",
        "import random \n",
        "\n",
        "random_seed = 123\n",
        "np.random.seed(random_seed)\n",
        "torch.manual_seed(random_seed)\n",
        "random.seed(random_seed)\n",
        "\n",
        "model = nn.Sequential(\n",
        "    nn.Linear(784, 100),\n",
        "    nn.ReLU(), \n",
        "    nn.Linear(100, 10)\n",
        "    )\n",
        "\n",
        "optim = torch.optim.Adam(model.parameters(), lr=1e-4)\n",
        "criterion = nn.CrossEntropyLoss()\n",
        "\n",
        "global_step = 0 \n",
        "for epoch in range(10):\n",
        "  t = tqdm(dataloader, ncols=100)\n",
        "  for i, batch in enumerate(t):\n",
        "    x_batch = batch[0]\n",
        "    y_batch = batch[1]\n",
        "    output = model(x_batch)\n",
        "    loss = criterion(output, y_batch)\n",
        "    model.zero_grad() \n",
        "    optim.zero_grad()\n",
        "    loss.backward()\n",
        "    optim.step()\n",
        "\n",
        "    global_step += 1\n",
        "    t.set_description(\"epoch: {} | global_step: {:8d} | loss: {:.4f}\".format(epoch + 1, global_step, loss))\n",
        "\n",
        "  predicts = model(x_valid_torch)\n",
        "  predicts = torch.argmax(predicts, 1)\n",
        "\n",
        "  correct = 0 \n",
        "  for i in range(len(predicts)):\n",
        "    if predicts[i].item() == y_valid[i]:\n",
        "      correct += 1\n",
        "  acc = correct / len(predicts)\n",
        "  print(\"epoch: {} | global_step: {} | valid acc: {:%}\".format(epoch + 1, global_step, acc))"
      ],
      "metadata": {
        "id": "bljjZ8HA_LG6",
        "outputId": "4c5d1463-59c0-4912-b213-98aa6a19104c",
        "colab": {
          "base_uri": "https://localhost:8080/"
        }
      },
      "execution_count": 14,
      "outputs": [
        {
          "output_type": "stream",
          "name": "stderr",
          "text": [
            "epoch: 1 | global_step:     1500 | loss: 0.4733: 100%|█████████| 1500/1500 [00:13<00:00, 109.04it/s]\n"
          ]
        },
        {
          "output_type": "stream",
          "name": "stdout",
          "text": [
            "epoch: 1 | global_step: 1500 | valid acc: 89.183333%\n"
          ]
        },
        {
          "output_type": "stream",
          "name": "stderr",
          "text": [
            "epoch: 2 | global_step:     3000 | loss: 0.5338: 100%|█████████| 1500/1500 [00:13<00:00, 109.50it/s]\n"
          ]
        },
        {
          "output_type": "stream",
          "name": "stdout",
          "text": [
            "epoch: 2 | global_step: 3000 | valid acc: 91.175000%\n"
          ]
        },
        {
          "output_type": "stream",
          "name": "stderr",
          "text": [
            "epoch: 3 | global_step:     4500 | loss: 0.4489: 100%|██████████| 1500/1500 [00:16<00:00, 89.56it/s]\n"
          ]
        },
        {
          "output_type": "stream",
          "name": "stdout",
          "text": [
            "epoch: 3 | global_step: 4500 | valid acc: 91.800000%\n"
          ]
        },
        {
          "output_type": "stream",
          "name": "stderr",
          "text": [
            "epoch: 4 | global_step:     6000 | loss: 0.3670: 100%|█████████| 1500/1500 [00:14<00:00, 105.39it/s]\n"
          ]
        },
        {
          "output_type": "stream",
          "name": "stdout",
          "text": [
            "epoch: 4 | global_step: 6000 | valid acc: 92.583333%\n"
          ]
        },
        {
          "output_type": "stream",
          "name": "stderr",
          "text": [
            "epoch: 5 | global_step:     7500 | loss: 0.2323: 100%|█████████| 1500/1500 [00:13<00:00, 113.81it/s]\n"
          ]
        },
        {
          "output_type": "stream",
          "name": "stdout",
          "text": [
            "epoch: 5 | global_step: 7500 | valid acc: 93.066667%\n"
          ]
        },
        {
          "output_type": "stream",
          "name": "stderr",
          "text": [
            "epoch: 6 | global_step:     9000 | loss: 0.0793: 100%|█████████| 1500/1500 [00:13<00:00, 112.93it/s]\n"
          ]
        },
        {
          "output_type": "stream",
          "name": "stdout",
          "text": [
            "epoch: 6 | global_step: 9000 | valid acc: 93.641667%\n"
          ]
        },
        {
          "output_type": "stream",
          "name": "stderr",
          "text": [
            "epoch: 7 | global_step:    10500 | loss: 0.0491: 100%|█████████| 1500/1500 [00:13<00:00, 112.71it/s]\n"
          ]
        },
        {
          "output_type": "stream",
          "name": "stdout",
          "text": [
            "epoch: 7 | global_step: 10500 | valid acc: 94.025000%\n"
          ]
        },
        {
          "output_type": "stream",
          "name": "stderr",
          "text": [
            "epoch: 8 | global_step:    12000 | loss: 0.0975: 100%|█████████| 1500/1500 [00:13<00:00, 114.31it/s]\n"
          ]
        },
        {
          "output_type": "stream",
          "name": "stdout",
          "text": [
            "epoch: 8 | global_step: 12000 | valid acc: 94.308333%\n"
          ]
        },
        {
          "output_type": "stream",
          "name": "stderr",
          "text": [
            "epoch: 9 | global_step:    13500 | loss: 0.2594: 100%|█████████| 1500/1500 [00:12<00:00, 116.64it/s]\n"
          ]
        },
        {
          "output_type": "stream",
          "name": "stdout",
          "text": [
            "epoch: 9 | global_step: 13500 | valid acc: 94.525000%\n"
          ]
        },
        {
          "output_type": "stream",
          "name": "stderr",
          "text": [
            "epoch: 10 | global_step:    15000 | loss: 0.2979: 100%|████████| 1500/1500 [00:13<00:00, 113.13it/s]\n"
          ]
        },
        {
          "output_type": "stream",
          "name": "stdout",
          "text": [
            "epoch: 10 | global_step: 15000 | valid acc: 94.883333%\n"
          ]
        }
      ]
    },
    {
      "cell_type": "code",
      "source": [
        "predict = model(x_test_torch)\n",
        "predict = torch.argmax(predict, 1)"
      ],
      "metadata": {
        "id": "AjjOC02cA6_m"
      },
      "execution_count": 15,
      "outputs": []
    },
    {
      "cell_type": "code",
      "source": [
        "correct = 0 \n",
        "for i in range(len(predict)):\n",
        "  if predict[i].item() == y_test[i]:\n",
        "    correct += 1\n",
        "acc = correct/len(predict)\n",
        "print(\"Test accuracy : {:.2%}\".format(acc))"
      ],
      "metadata": {
        "id": "USlMv0T1A_hk",
        "outputId": "afa1bc6f-4978-4235-bdfa-e9640bee3a14",
        "colab": {
          "base_uri": "https://localhost:8080/"
        }
      },
      "execution_count": 16,
      "outputs": [
        {
          "output_type": "stream",
          "name": "stdout",
          "text": [
            "Test accuracy : 94.94%\n"
          ]
        }
      ]
    },
    {
      "cell_type": "code",
      "source": [
        "fig = plt.figure(figsize=(15, 7))\n",
        "\n",
        "for i in range(5):\n",
        "    plottable_image = x_test[i+10]\n",
        "    ax = fig.add_subplot(2, 5, i+1)\n",
        "    ax.title.set_text(str(y_test[i]))\n",
        "    ax.imshow(plottable_image, cmap='gray_r')\n",
        "  \n",
        "for i in range(5):\n",
        "    plottable_image = x_test[i+10]\n",
        "    ax = fig.add_subplot(2, 5, i+6)\n",
        "    ax.title.set_text(str(predict[i].item()))\n",
        "    ax.imshow(plottable_image, cmap='gray_r')\n",
        "\n",
        "plt.show()"
      ],
      "metadata": {
        "id": "EOhPxQLrBBik",
        "outputId": "3585e39f-0a23-49a0-cbc1-205d0af7c4a0",
        "colab": {
          "base_uri": "https://localhost:8080/",
          "height": 416
        }
      },
      "execution_count": 19,
      "outputs": [
        {
          "output_type": "display_data",
          "data": {
            "text/plain": [
              "<Figure size 1080x504 with 10 Axes>"
            ],
            "image/png": "[encoded data removed]"
          },
          "metadata": {
            "needs_background": "light"
          }
        }
      ]
    },
    {
      "cell_type": "code",
      "source": [
        ""
      ],
      "metadata": {
        "id": "s0wsF8LNBfgE"
      },
      "execution_count": null,
      "outputs": []
    }
  ]
}