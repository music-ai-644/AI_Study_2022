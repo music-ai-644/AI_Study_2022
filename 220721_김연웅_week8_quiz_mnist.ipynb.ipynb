{
 "cells": [
  {
   "cell_type": "code",
   "execution_count": 284,
   "id": "2c707efd",
   "metadata": {},
   "outputs": [],
   "source": [
    "import matplotlib.pyplot as plt \n",
    "from torch import nn\n",
    "import tensorflow as tf\n",
    "import numpy as np\n",
    "import torch\n",
    "from sklearn.model_selection import train_test_split\n",
    "from torch.utils.data import Dataset, DataLoader,TensorDataset \n",
    "from tqdm import tqdm\n",
    "import torchsummary"
   ]
  },
  {
   "cell_type": "markdown",
   "id": "910dc5e3",
   "metadata": {},
   "source": [
    "### Cuda Check"
   ]
  },
  {
   "cell_type": "code",
   "execution_count": 12,
   "id": "85f0d6d0",
   "metadata": {},
   "outputs": [],
   "source": [
    "USE_CUDA = torch.cuda.is_available()\n",
    "device = torch.device('cuda:0' if USE_CUDA else 'cpu')"
   ]
  },
  {
   "cell_type": "markdown",
   "id": "e6367878",
   "metadata": {},
   "source": [
    "### getting ready for data"
   ]
  },
  {
   "cell_type": "code",
   "execution_count": 117,
   "id": "4817e5b3",
   "metadata": {},
   "outputs": [],
   "source": [
    "def get_one_hot(data, type_num):  # valid for any shape\n",
    "\n",
    "        table = np.eye(type_num)\n",
    "        def mapping(x): return table[x]\n",
    "\n",
    "        _new = mapping(data)\n",
    "\n",
    "        new_shape = [data.shape[i] for i in range(len(data.shape))]\n",
    "        new_shape.append(type_num)\n",
    "        _new = _new.reshape(new_shape)\n",
    "\n",
    "        return _new"
   ]
  },
  {
   "cell_type": "code",
   "execution_count": 144,
   "id": "7e62e57b",
   "metadata": {},
   "outputs": [],
   "source": [
    "_random_state = 32"
   ]
  },
  {
   "cell_type": "code",
   "execution_count": 145,
   "id": "6898dc1d",
   "metadata": {},
   "outputs": [],
   "source": [
    "def get_MNIST_data(device):\n",
    "    (x_train, y_train), (x_test, y_test) = tf.keras.datasets.mnist.load_data()\n",
    "    x_train, x_valid, y_train, y_valid = train_test_split(x_train, y_train, stratify=y_train, test_size=0.1, random_state=_random_state)\n",
    "    \n",
    "    y_train_encoded = get_one_hot(y_train, 10)\n",
    "    y_valid_encoded = get_one_hot(y_valid, 10)\n",
    "    y_test_encoded = get_one_hot(y_test, 10)\n",
    "    \n",
    "    x_train = torch.FloatTensor(x_train).to(device)\n",
    "    y_train_encoded = torch.FloatTensor(y_train_encoded).to(device)\n",
    "\n",
    "    x_valid = torch.FloatTensor(x_valid).to(device)\n",
    "    y_valid_encoded = torch.FloatTensor(y_valid_encoded).to(device)\n",
    "\n",
    "    x_test = torch.FloatTensor(x_test).to(device)\n",
    "    y_test_encoded = torch.FloatTensor(y_test_encoded).to(device)\n",
    "\n",
    "    x_train /= 255\n",
    "    x_valid /= 255\n",
    "    x_test /= 255\n",
    "    \n",
    "    x_train = x_train.unsqueeze(1)\n",
    "    x_valid = x_valid.unsqueeze(1)\n",
    "    x_test = x_test.unsqueeze(1)\n",
    "    \n",
    "    \n",
    "    \n",
    "    return x_train, y_train_encoded, x_valid, y_valid_encoded, x_test, y_test_encoded"
   ]
  },
  {
   "cell_type": "code",
   "execution_count": 146,
   "id": "68cd493c",
   "metadata": {},
   "outputs": [],
   "source": [
    "x_train, y_train, x_valid, y_valid, x_test, y_test = get_MNIST_data(device)"
   ]
  },
  {
   "cell_type": "markdown",
   "id": "edf86a03",
   "metadata": {},
   "source": [
    "### dataloader"
   ]
  },
  {
   "cell_type": "code",
   "execution_count": 147,
   "id": "788b395a",
   "metadata": {},
   "outputs": [],
   "source": [
    "class MNISTDataset(Dataset):\n",
    "    \n",
    "    \n",
    "    def __init__(self,x,y):\n",
    "        \n",
    "        self.len = len(x)\n",
    "        self.x_data = x\n",
    "        self.y_data = y\n",
    "        \n",
    "        \n",
    "    def __getitem__(self, index):\n",
    "        return self.x_data[index], self.y_data[index]\n",
    "        \n",
    "        \n",
    "    def __len__(self):\n",
    "        return self.len\n",
    "    "
   ]
  },
  {
   "cell_type": "code",
   "execution_count": 148,
   "id": "27ea497d",
   "metadata": {},
   "outputs": [],
   "source": [
    "train_dataset = MNISTDataset(x_train, y_train)\n",
    "train_loader = DataLoader(dataset = train_dataset, batch_size = 32, shuffle = True)\n",
    "\n",
    "test_dataset = MNISTDataset(x_test, y_test)\n",
    "test_loader = DataLoader(dataset = test_dataset, batch_size = 32, shuffle = True)"
   ]
  },
  {
   "cell_type": "code",
   "execution_count": 149,
   "id": "47577618",
   "metadata": {},
   "outputs": [
    {
     "data": {
      "text/plain": [
       "torch.Size([32, 1, 28, 28])"
      ]
     },
     "execution_count": 149,
     "metadata": {},
     "output_type": "execute_result"
    }
   ],
   "source": [
    "next(iter(train_loader))[0].shape"
   ]
  },
  {
   "cell_type": "markdown",
   "id": "f59d15bd",
   "metadata": {},
   "source": [
    "### model"
   ]
  },
  {
   "cell_type": "code",
   "execution_count": 150,
   "id": "107b8b9b",
   "metadata": {},
   "outputs": [],
   "source": [
    "#n_input = 784\n",
    "#n_hidden = 128\n",
    "#n_target = 10\n",
    "\n",
    "#epochs = 50\n",
    "#learning_rate = 1e-3"
   ]
  },
  {
   "cell_type": "code",
   "execution_count": 278,
   "id": "85621e4f",
   "metadata": {},
   "outputs": [],
   "source": [
    "n_input = 784\n",
    "n_hidden1 = 2500\n",
    "n_hidden2 = 2000\n",
    "n_hidden3 = 1500\n",
    "n_hidden4 = 1000\n",
    "n_hidden5 = 500\n",
    "n_target = 10\n",
    "\n",
    "epochs = 50\n",
    "learning_rate = 5e-4"
   ]
  },
  {
   "cell_type": "code",
   "execution_count": 279,
   "id": "90809fa8",
   "metadata": {},
   "outputs": [],
   "source": [
    "class MyModel(nn.Module):\n",
    "    def __init__(self):\n",
    "        super(MyModel, self).__init__()\n",
    "        self.n_input = n_input\n",
    "        self.n_hidden1 = n_hidden1\n",
    "        self.n_hidden2 = n_hidden2\n",
    "        self.n_hidden3 = n_hidden3\n",
    "        self.n_hidden4 = n_hidden4\n",
    "        self.n_hidden5 = n_hidden5\n",
    "        self.n_target = n_target\n",
    "        self._build()\n",
    "\n",
    "    def _build(self):\n",
    "        self.layer = nn.Sequential(\n",
    "            nn.Linear(self.n_input, self.n_hidden1),\n",
    "            nn.LeakyReLU(),\n",
    "            \n",
    "            nn.Linear(self.n_hidden1, self.n_hidden2),\n",
    "            nn.LeakyReLU(),\n",
    "            \n",
    "            nn.Linear(self.n_hidden2, self.n_hidden3),\n",
    "            nn.LeakyReLU(),\n",
    "            \n",
    "            nn.Linear(self.n_hidden3, self.n_hidden4),\n",
    "            nn.LeakyReLU(),\n",
    "            \n",
    "            nn.Linear(self.n_hidden4, self.n_hidden5),\n",
    "            nn.LeakyReLU(),\n",
    "            \n",
    "            nn.Linear(self.n_hidden5, self.n_target)\n",
    "        )\n",
    "\n",
    "    \n",
    "    def forward(self, x):\n",
    "        x = x.view(-1, self.n_input)\n",
    "        return self.layer(x)\n",
    "\n",
    "    def train(self,):\n",
    "        self.criterion = nn.CrossEntropyLoss()\n",
    "        self.optimizer = torch.optim.Adam(self.parameters(), lr=learning_rate)\n",
    "        self.scheduler = torch.optim.lr_scheduler.StepLR(self.optimizer, step_size=int(epochs/10), gamma=0.6)\n",
    "        \n",
    "        \n",
    "        \n",
    "        self.dataloader = train_loader\n",
    "        self.epochs = epochs\n",
    "        \n",
    "        global_step = 0\n",
    "        for epoch in range(self.epochs):\n",
    "\n",
    "            t = tqdm(self.dataloader)\n",
    "            for i, data in enumerate(t):\n",
    "                inputs, labels = data\n",
    "\n",
    "                inputs = inputs.to(device)\n",
    "                labels = labels.to(device)\n",
    "\n",
    "                self.optimizer.zero_grad()\n",
    "                self.zero_grad()\n",
    "\n",
    "                y_pred = self.forward(inputs)\n",
    "                loss = self.criterion(y_pred, labels)\n",
    "\n",
    "                loss.backward()\n",
    "                self.optimizer.step()\n",
    "                \n",
    "                global_step += 1\n",
    "                t.set_description(\"epoch: {} | global_step: {:8d} | loss: {:.4f}\".format(\n",
    "                    epoch + 1, global_step, loss))\n",
    "        \n",
    "            predicts = self.forward(x_valid)\n",
    "            predicts = torch.argmax(predicts, 1)\n",
    "            label = torch.argmax(y_valid, 1)\n",
    "            \n",
    "\n",
    "            correct = 0\n",
    "            for i in range(len(predicts)):\n",
    "                if(predicts[i].item() == label[i]):\n",
    "                    correct += 1\n",
    "\n",
    "            acc = correct / len(predicts)\n",
    "            print(\"epoch: {} | global_step: {} | valid acc: {:.3%}\".format(\n",
    "                epoch + 1, global_step, acc))\n",
    "            \n",
    "            \n",
    "            self.scheduler.step()\n",
    "            if(epoch % 5 == 0):\n",
    "                print('lr:{}'.format(self.optimizer.param_groups[0]['lr']))\n",
    "            \n",
    "        \n",
    "        \n",
    "        \n",
    "        \n",
    "    def evaluate(self, x, y):\n",
    "\n",
    "        pred = self.forward(x)\n",
    "        pred = torch.argmax(pred, 1)\n",
    "\n",
    "        label = y\n",
    "        label = torch.argmax(label, 1)\n",
    "        data_len = len(pred)\n",
    "        cor = 0\n",
    "\n",
    "        for i in range(data_len):\n",
    "            if(pred[i] == label[i]):\n",
    "                cor += 1\n",
    "\n",
    "        acc = cor / data_len\n",
    "        print(\"acc: {}\".format(acc))\n",
    "\n",
    "    def inference(self, x, y):\n",
    "        pred = self.forward(x)\n",
    "        pred = torch.argmax(pred, 1)\n",
    "\n",
    "        print(\"inference: {}, label: {}\".format(pred.item(), y.item()))\n"
   ]
  },
  {
   "cell_type": "code",
   "execution_count": 280,
   "id": "94404dba",
   "metadata": {},
   "outputs": [],
   "source": [
    "model = MyModel().to(device)"
   ]
  },
  {
   "cell_type": "code",
   "execution_count": 281,
   "id": "1fbb8ad9",
   "metadata": {},
   "outputs": [
    {
     "name": "stdout",
     "output_type": "stream",
     "text": [
      "----------------------------------------------------------------\n",
      "        Layer (type)               Output Shape         Param #\n",
      "================================================================\n",
      "            Linear-1                 [-1, 2500]       1,962,500\n",
      "         LeakyReLU-2                 [-1, 2500]               0\n",
      "            Linear-3                 [-1, 2000]       5,002,000\n",
      "         LeakyReLU-4                 [-1, 2000]               0\n",
      "            Linear-5                 [-1, 1500]       3,001,500\n",
      "         LeakyReLU-6                 [-1, 1500]               0\n",
      "            Linear-7                 [-1, 1000]       1,501,000\n",
      "         LeakyReLU-8                 [-1, 1000]               0\n",
      "            Linear-9                  [-1, 500]         500,500\n",
      "        LeakyReLU-10                  [-1, 500]               0\n",
      "           Linear-11                   [-1, 10]           5,010\n",
      "================================================================\n",
      "Total params: 11,972,510\n",
      "Trainable params: 11,972,510\n",
      "Non-trainable params: 0\n",
      "----------------------------------------------------------------\n",
      "Input size (MB): 0.00\n",
      "Forward/backward pass size (MB): 0.11\n",
      "Params size (MB): 45.67\n",
      "Estimated Total Size (MB): 45.79\n",
      "----------------------------------------------------------------\n"
     ]
    }
   ],
   "source": [
    "torchsummary.summary(model,(1,28,28,))"
   ]
  },
  {
   "cell_type": "markdown",
   "id": "8449a8d5",
   "metadata": {},
   "source": [
    "### Train"
   ]
  },
  {
   "cell_type": "code",
   "execution_count": 282,
   "id": "ade590c1",
   "metadata": {
    "scrolled": true
   },
   "outputs": [
    {
     "name": "stderr",
     "output_type": "stream",
     "text": [
      "epoch: 1 | global_step:     1688 | loss: 0.1393: 100%|████████████████████████████| 1688/1688 [00:09<00:00, 171.76it/s]\n"
     ]
    },
    {
     "name": "stdout",
     "output_type": "stream",
     "text": [
      "epoch: 1 | global_step: 1688 | valid acc: 96.133%\n",
      "lr:0.0005\n"
     ]
    },
    {
     "name": "stderr",
     "output_type": "stream",
     "text": [
      "epoch: 2 | global_step:     3376 | loss: 0.2642: 100%|████████████████████████████| 1688/1688 [00:08<00:00, 190.51it/s]\n"
     ]
    },
    {
     "name": "stdout",
     "output_type": "stream",
     "text": [
      "epoch: 2 | global_step: 3376 | valid acc: 96.733%\n"
     ]
    },
    {
     "name": "stderr",
     "output_type": "stream",
     "text": [
      "epoch: 3 | global_step:     5064 | loss: 0.1220: 100%|████████████████████████████| 1688/1688 [00:09<00:00, 185.13it/s]\n"
     ]
    },
    {
     "name": "stdout",
     "output_type": "stream",
     "text": [
      "epoch: 3 | global_step: 5064 | valid acc: 97.450%\n"
     ]
    },
    {
     "name": "stderr",
     "output_type": "stream",
     "text": [
      "epoch: 4 | global_step:     6752 | loss: 0.0607: 100%|████████████████████████████| 1688/1688 [00:09<00:00, 177.10it/s]\n"
     ]
    },
    {
     "name": "stdout",
     "output_type": "stream",
     "text": [
      "epoch: 4 | global_step: 6752 | valid acc: 97.667%\n"
     ]
    },
    {
     "name": "stderr",
     "output_type": "stream",
     "text": [
      "epoch: 5 | global_step:     8440 | loss: 0.0366: 100%|████████████████████████████| 1688/1688 [00:09<00:00, 180.33it/s]\n"
     ]
    },
    {
     "name": "stdout",
     "output_type": "stream",
     "text": [
      "epoch: 5 | global_step: 8440 | valid acc: 97.717%\n"
     ]
    },
    {
     "name": "stderr",
     "output_type": "stream",
     "text": [
      "epoch: 6 | global_step:    10128 | loss: 0.0066: 100%|████████████████████████████| 1688/1688 [00:09<00:00, 181.70it/s]\n"
     ]
    },
    {
     "name": "stdout",
     "output_type": "stream",
     "text": [
      "epoch: 6 | global_step: 10128 | valid acc: 98.150%\n",
      "lr:0.0003\n"
     ]
    },
    {
     "name": "stderr",
     "output_type": "stream",
     "text": [
      "epoch: 7 | global_step:    11816 | loss: 0.0437: 100%|████████████████████████████| 1688/1688 [00:09<00:00, 186.51it/s]\n"
     ]
    },
    {
     "name": "stdout",
     "output_type": "stream",
     "text": [
      "epoch: 7 | global_step: 11816 | valid acc: 98.167%\n"
     ]
    },
    {
     "name": "stderr",
     "output_type": "stream",
     "text": [
      "epoch: 8 | global_step:    13504 | loss: 0.0002: 100%|████████████████████████████| 1688/1688 [00:08<00:00, 192.49it/s]\n"
     ]
    },
    {
     "name": "stdout",
     "output_type": "stream",
     "text": [
      "epoch: 8 | global_step: 13504 | valid acc: 97.717%\n"
     ]
    },
    {
     "name": "stderr",
     "output_type": "stream",
     "text": [
      "epoch: 9 | global_step:    15192 | loss: 0.0004: 100%|████████████████████████████| 1688/1688 [00:08<00:00, 196.71it/s]\n"
     ]
    },
    {
     "name": "stdout",
     "output_type": "stream",
     "text": [
      "epoch: 9 | global_step: 15192 | valid acc: 98.183%\n"
     ]
    },
    {
     "name": "stderr",
     "output_type": "stream",
     "text": [
      "epoch: 10 | global_step:    16880 | loss: 0.0024: 100%|███████████████████████████| 1688/1688 [00:08<00:00, 196.74it/s]\n"
     ]
    },
    {
     "name": "stdout",
     "output_type": "stream",
     "text": [
      "epoch: 10 | global_step: 16880 | valid acc: 98.083%\n"
     ]
    },
    {
     "name": "stderr",
     "output_type": "stream",
     "text": [
      "epoch: 11 | global_step:    18568 | loss: 0.0000: 100%|███████████████████████████| 1688/1688 [00:08<00:00, 195.92it/s]\n"
     ]
    },
    {
     "name": "stdout",
     "output_type": "stream",
     "text": [
      "epoch: 11 | global_step: 18568 | valid acc: 98.433%\n",
      "lr:0.00017999999999999998\n"
     ]
    },
    {
     "name": "stderr",
     "output_type": "stream",
     "text": [
      "epoch: 12 | global_step:    20256 | loss: 0.0001: 100%|███████████████████████████| 1688/1688 [00:09<00:00, 182.46it/s]\n"
     ]
    },
    {
     "name": "stdout",
     "output_type": "stream",
     "text": [
      "epoch: 12 | global_step: 20256 | valid acc: 98.350%\n"
     ]
    },
    {
     "name": "stderr",
     "output_type": "stream",
     "text": [
      "epoch: 13 | global_step:    21944 | loss: -0.0000: 100%|██████████████████████████| 1688/1688 [00:09<00:00, 180.79it/s]\n"
     ]
    },
    {
     "name": "stdout",
     "output_type": "stream",
     "text": [
      "epoch: 13 | global_step: 21944 | valid acc: 98.050%\n"
     ]
    },
    {
     "name": "stderr",
     "output_type": "stream",
     "text": [
      "epoch: 14 | global_step:    23632 | loss: 0.0000: 100%|███████████████████████████| 1688/1688 [00:09<00:00, 179.50it/s]\n"
     ]
    },
    {
     "name": "stdout",
     "output_type": "stream",
     "text": [
      "epoch: 14 | global_step: 23632 | valid acc: 98.333%\n"
     ]
    },
    {
     "name": "stderr",
     "output_type": "stream",
     "text": [
      "epoch: 15 | global_step:    25320 | loss: 0.0000: 100%|███████████████████████████| 1688/1688 [00:09<00:00, 181.50it/s]\n"
     ]
    },
    {
     "name": "stdout",
     "output_type": "stream",
     "text": [
      "epoch: 15 | global_step: 25320 | valid acc: 98.467%\n"
     ]
    },
    {
     "name": "stderr",
     "output_type": "stream",
     "text": [
      "epoch: 16 | global_step:    27008 | loss: 0.0000: 100%|███████████████████████████| 1688/1688 [00:09<00:00, 183.91it/s]\n"
     ]
    },
    {
     "name": "stdout",
     "output_type": "stream",
     "text": [
      "epoch: 16 | global_step: 27008 | valid acc: 98.283%\n",
      "lr:0.00010799999999999998\n"
     ]
    },
    {
     "name": "stderr",
     "output_type": "stream",
     "text": [
      "epoch: 17 | global_step:    28696 | loss: -0.0000: 100%|██████████████████████████| 1688/1688 [00:08<00:00, 189.59it/s]\n"
     ]
    },
    {
     "name": "stdout",
     "output_type": "stream",
     "text": [
      "epoch: 17 | global_step: 28696 | valid acc: 98.317%\n"
     ]
    },
    {
     "name": "stderr",
     "output_type": "stream",
     "text": [
      "epoch: 18 | global_step:    30384 | loss: -0.0000: 100%|██████████████████████████| 1688/1688 [00:08<00:00, 188.35it/s]\n"
     ]
    },
    {
     "name": "stdout",
     "output_type": "stream",
     "text": [
      "epoch: 18 | global_step: 30384 | valid acc: 98.450%\n"
     ]
    },
    {
     "name": "stderr",
     "output_type": "stream",
     "text": [
      "epoch: 19 | global_step:    32072 | loss: -0.0000: 100%|██████████████████████████| 1688/1688 [00:08<00:00, 190.47it/s]\n"
     ]
    },
    {
     "name": "stdout",
     "output_type": "stream",
     "text": [
      "epoch: 19 | global_step: 32072 | valid acc: 98.467%\n"
     ]
    },
    {
     "name": "stderr",
     "output_type": "stream",
     "text": [
      "epoch: 20 | global_step:    33760 | loss: -0.0000: 100%|██████████████████████████| 1688/1688 [00:08<00:00, 190.25it/s]\n"
     ]
    },
    {
     "name": "stdout",
     "output_type": "stream",
     "text": [
      "epoch: 20 | global_step: 33760 | valid acc: 98.500%\n"
     ]
    },
    {
     "name": "stderr",
     "output_type": "stream",
     "text": [
      "epoch: 21 | global_step:    35448 | loss: -0.0000: 100%|██████████████████████████| 1688/1688 [00:08<00:00, 192.39it/s]\n"
     ]
    },
    {
     "name": "stdout",
     "output_type": "stream",
     "text": [
      "epoch: 21 | global_step: 35448 | valid acc: 98.517%\n",
      "lr:6.479999999999999e-05\n"
     ]
    },
    {
     "name": "stderr",
     "output_type": "stream",
     "text": [
      "epoch: 22 | global_step:    37136 | loss: 0.0000: 100%|███████████████████████████| 1688/1688 [00:08<00:00, 189.37it/s]\n"
     ]
    },
    {
     "name": "stdout",
     "output_type": "stream",
     "text": [
      "epoch: 22 | global_step: 37136 | valid acc: 98.500%\n"
     ]
    },
    {
     "name": "stderr",
     "output_type": "stream",
     "text": [
      "epoch: 23 | global_step:    38824 | loss: -0.0000: 100%|██████████████████████████| 1688/1688 [00:08<00:00, 189.30it/s]\n"
     ]
    },
    {
     "name": "stdout",
     "output_type": "stream",
     "text": [
      "epoch: 23 | global_step: 38824 | valid acc: 98.483%\n"
     ]
    },
    {
     "name": "stderr",
     "output_type": "stream",
     "text": [
      "epoch: 24 | global_step:    40512 | loss: -0.0000: 100%|██████████████████████████| 1688/1688 [00:09<00:00, 184.87it/s]\n"
     ]
    },
    {
     "name": "stdout",
     "output_type": "stream",
     "text": [
      "epoch: 24 | global_step: 40512 | valid acc: 98.417%\n"
     ]
    },
    {
     "name": "stderr",
     "output_type": "stream",
     "text": [
      "epoch: 25 | global_step:    42200 | loss: -0.0000: 100%|██████████████████████████| 1688/1688 [00:08<00:00, 191.10it/s]\n"
     ]
    },
    {
     "name": "stdout",
     "output_type": "stream",
     "text": [
      "epoch: 25 | global_step: 42200 | valid acc: 98.417%\n"
     ]
    },
    {
     "name": "stderr",
     "output_type": "stream",
     "text": [
      "epoch: 26 | global_step:    43888 | loss: -0.0000: 100%|██████████████████████████| 1688/1688 [00:09<00:00, 179.57it/s]\n"
     ]
    },
    {
     "name": "stdout",
     "output_type": "stream",
     "text": [
      "epoch: 26 | global_step: 43888 | valid acc: 98.417%\n",
      "lr:3.8879999999999994e-05\n"
     ]
    },
    {
     "name": "stderr",
     "output_type": "stream",
     "text": [
      "epoch: 27 | global_step:    45576 | loss: -0.0000: 100%|██████████████████████████| 1688/1688 [00:09<00:00, 183.05it/s]\n"
     ]
    },
    {
     "name": "stdout",
     "output_type": "stream",
     "text": [
      "epoch: 27 | global_step: 45576 | valid acc: 98.433%\n"
     ]
    },
    {
     "name": "stderr",
     "output_type": "stream",
     "text": [
      "epoch: 28 | global_step:    47264 | loss: -0.0000: 100%|██████████████████████████| 1688/1688 [00:10<00:00, 163.35it/s]\n"
     ]
    },
    {
     "name": "stdout",
     "output_type": "stream",
     "text": [
      "epoch: 28 | global_step: 47264 | valid acc: 98.433%\n"
     ]
    },
    {
     "name": "stderr",
     "output_type": "stream",
     "text": [
      "epoch: 29 | global_step:    48952 | loss: -0.0000: 100%|██████████████████████████| 1688/1688 [00:09<00:00, 177.03it/s]\n"
     ]
    },
    {
     "name": "stdout",
     "output_type": "stream",
     "text": [
      "epoch: 29 | global_step: 48952 | valid acc: 98.433%\n"
     ]
    },
    {
     "name": "stderr",
     "output_type": "stream",
     "text": [
      "epoch: 30 | global_step:    50640 | loss: -0.0000: 100%|██████████████████████████| 1688/1688 [00:09<00:00, 178.33it/s]\n"
     ]
    },
    {
     "name": "stdout",
     "output_type": "stream",
     "text": [
      "epoch: 30 | global_step: 50640 | valid acc: 98.450%\n"
     ]
    },
    {
     "name": "stderr",
     "output_type": "stream",
     "text": [
      "epoch: 31 | global_step:    52328 | loss: -0.0000: 100%|██████████████████████████| 1688/1688 [00:08<00:00, 190.66it/s]\n"
     ]
    },
    {
     "name": "stdout",
     "output_type": "stream",
     "text": [
      "epoch: 31 | global_step: 52328 | valid acc: 98.450%\n",
      "lr:2.3327999999999994e-05\n"
     ]
    },
    {
     "name": "stderr",
     "output_type": "stream",
     "text": [
      "epoch: 32 | global_step:    54016 | loss: -0.0000: 100%|██████████████████████████| 1688/1688 [00:08<00:00, 190.45it/s]\n"
     ]
    },
    {
     "name": "stdout",
     "output_type": "stream",
     "text": [
      "epoch: 32 | global_step: 54016 | valid acc: 98.450%\n"
     ]
    },
    {
     "name": "stderr",
     "output_type": "stream",
     "text": [
      "epoch: 33 | global_step:    55704 | loss: -0.0000: 100%|██████████████████████████| 1688/1688 [00:09<00:00, 185.07it/s]\n"
     ]
    },
    {
     "name": "stdout",
     "output_type": "stream",
     "text": [
      "epoch: 33 | global_step: 55704 | valid acc: 98.450%\n"
     ]
    },
    {
     "name": "stderr",
     "output_type": "stream",
     "text": [
      "epoch: 34 | global_step:    57392 | loss: -0.0000: 100%|██████████████████████████| 1688/1688 [00:08<00:00, 188.68it/s]\n"
     ]
    },
    {
     "name": "stdout",
     "output_type": "stream",
     "text": [
      "epoch: 34 | global_step: 57392 | valid acc: 98.450%\n"
     ]
    },
    {
     "name": "stderr",
     "output_type": "stream",
     "text": [
      "epoch: 35 | global_step:    59080 | loss: -0.0000: 100%|██████████████████████████| 1688/1688 [00:09<00:00, 184.91it/s]\n"
     ]
    },
    {
     "name": "stdout",
     "output_type": "stream",
     "text": [
      "epoch: 35 | global_step: 59080 | valid acc: 98.450%\n"
     ]
    },
    {
     "name": "stderr",
     "output_type": "stream",
     "text": [
      "epoch: 36 | global_step:    60768 | loss: -0.0000: 100%|██████████████████████████| 1688/1688 [00:08<00:00, 191.01it/s]\n"
     ]
    },
    {
     "name": "stdout",
     "output_type": "stream",
     "text": [
      "epoch: 36 | global_step: 60768 | valid acc: 98.450%\n",
      "lr:1.3996799999999996e-05\n"
     ]
    },
    {
     "name": "stderr",
     "output_type": "stream",
     "text": [
      "epoch: 37 | global_step:    62456 | loss: -0.0000: 100%|██████████████████████████| 1688/1688 [00:08<00:00, 193.08it/s]\n"
     ]
    },
    {
     "name": "stdout",
     "output_type": "stream",
     "text": [
      "epoch: 37 | global_step: 62456 | valid acc: 98.450%\n"
     ]
    },
    {
     "name": "stderr",
     "output_type": "stream",
     "text": [
      "epoch: 38 | global_step:    64144 | loss: -0.0000: 100%|██████████████████████████| 1688/1688 [00:08<00:00, 188.31it/s]\n"
     ]
    },
    {
     "name": "stdout",
     "output_type": "stream",
     "text": [
      "epoch: 38 | global_step: 64144 | valid acc: 98.450%\n"
     ]
    },
    {
     "name": "stderr",
     "output_type": "stream",
     "text": [
      "epoch: 39 | global_step:    65832 | loss: -0.0000: 100%|██████████████████████████| 1688/1688 [00:09<00:00, 170.10it/s]\n"
     ]
    },
    {
     "name": "stdout",
     "output_type": "stream",
     "text": [
      "epoch: 39 | global_step: 65832 | valid acc: 98.450%\n"
     ]
    },
    {
     "name": "stderr",
     "output_type": "stream",
     "text": [
      "epoch: 40 | global_step:    67520 | loss: -0.0000: 100%|██████████████████████████| 1688/1688 [00:09<00:00, 170.86it/s]\n"
     ]
    },
    {
     "name": "stdout",
     "output_type": "stream",
     "text": [
      "epoch: 40 | global_step: 67520 | valid acc: 98.467%\n"
     ]
    },
    {
     "name": "stderr",
     "output_type": "stream",
     "text": [
      "epoch: 41 | global_step:    69208 | loss: -0.0000: 100%|██████████████████████████| 1688/1688 [00:09<00:00, 185.51it/s]\n"
     ]
    },
    {
     "name": "stdout",
     "output_type": "stream",
     "text": [
      "epoch: 41 | global_step: 69208 | valid acc: 98.467%\n",
      "lr:8.398079999999997e-06\n"
     ]
    },
    {
     "name": "stderr",
     "output_type": "stream",
     "text": [
      "epoch: 42 | global_step:    70896 | loss: -0.0000: 100%|██████████████████████████| 1688/1688 [00:08<00:00, 192.75it/s]\n"
     ]
    },
    {
     "name": "stdout",
     "output_type": "stream",
     "text": [
      "epoch: 42 | global_step: 70896 | valid acc: 98.483%\n"
     ]
    },
    {
     "name": "stderr",
     "output_type": "stream",
     "text": [
      "epoch: 43 | global_step:    72584 | loss: -0.0000: 100%|██████████████████████████| 1688/1688 [00:09<00:00, 186.16it/s]\n"
     ]
    },
    {
     "name": "stdout",
     "output_type": "stream",
     "text": [
      "epoch: 43 | global_step: 72584 | valid acc: 98.483%\n"
     ]
    },
    {
     "name": "stderr",
     "output_type": "stream",
     "text": [
      "epoch: 44 | global_step:    74272 | loss: -0.0000: 100%|██████████████████████████| 1688/1688 [00:09<00:00, 182.05it/s]\n"
     ]
    },
    {
     "name": "stdout",
     "output_type": "stream",
     "text": [
      "epoch: 44 | global_step: 74272 | valid acc: 98.500%\n"
     ]
    },
    {
     "name": "stderr",
     "output_type": "stream",
     "text": [
      "epoch: 45 | global_step:    75960 | loss: -0.0000: 100%|██████████████████████████| 1688/1688 [00:09<00:00, 181.04it/s]\n"
     ]
    },
    {
     "name": "stdout",
     "output_type": "stream",
     "text": [
      "epoch: 45 | global_step: 75960 | valid acc: 98.500%\n"
     ]
    },
    {
     "name": "stderr",
     "output_type": "stream",
     "text": [
      "epoch: 46 | global_step:    77648 | loss: -0.0000: 100%|██████████████████████████| 1688/1688 [00:09<00:00, 179.35it/s]\n"
     ]
    },
    {
     "name": "stdout",
     "output_type": "stream",
     "text": [
      "epoch: 46 | global_step: 77648 | valid acc: 98.500%\n",
      "lr:5.038847999999998e-06\n"
     ]
    },
    {
     "name": "stderr",
     "output_type": "stream",
     "text": [
      "epoch: 47 | global_step:    79336 | loss: -0.0000: 100%|██████████████████████████| 1688/1688 [00:09<00:00, 182.93it/s]\n"
     ]
    },
    {
     "name": "stdout",
     "output_type": "stream",
     "text": [
      "epoch: 47 | global_step: 79336 | valid acc: 98.483%\n"
     ]
    },
    {
     "name": "stderr",
     "output_type": "stream",
     "text": [
      "epoch: 48 | global_step:    81024 | loss: -0.0000: 100%|██████████████████████████| 1688/1688 [00:09<00:00, 186.69it/s]\n"
     ]
    },
    {
     "name": "stdout",
     "output_type": "stream",
     "text": [
      "epoch: 48 | global_step: 81024 | valid acc: 98.483%\n"
     ]
    },
    {
     "name": "stderr",
     "output_type": "stream",
     "text": [
      "epoch: 49 | global_step:    82712 | loss: -0.0000: 100%|██████████████████████████| 1688/1688 [00:08<00:00, 194.47it/s]\n"
     ]
    },
    {
     "name": "stdout",
     "output_type": "stream",
     "text": [
      "epoch: 49 | global_step: 82712 | valid acc: 98.483%\n"
     ]
    },
    {
     "name": "stderr",
     "output_type": "stream",
     "text": [
      "epoch: 50 | global_step:    84400 | loss: -0.0000: 100%|██████████████████████████| 1688/1688 [00:09<00:00, 187.28it/s]\n"
     ]
    },
    {
     "name": "stdout",
     "output_type": "stream",
     "text": [
      "epoch: 50 | global_step: 84400 | valid acc: 98.483%\n"
     ]
    }
   ],
   "source": [
    "model.train()"
   ]
  },
  {
   "cell_type": "markdown",
   "id": "1b4432f4",
   "metadata": {},
   "source": [
    "### evaluation w/ test set\n",
    "- 98.66%"
   ]
  },
  {
   "cell_type": "code",
   "execution_count": 283,
   "id": "98d22b4b",
   "metadata": {
    "scrolled": true
   },
   "outputs": [
    {
     "name": "stdout",
     "output_type": "stream",
     "text": [
      "acc: 0.9866\n"
     ]
    }
   ],
   "source": [
    "model.evaluate(x_test, y_test)"
   ]
  }
 ],
 "metadata": {
  "kernelspec": {
   "display_name": "Python 3 (ipykernel)",
   "language": "python",
   "name": "python3"
  },
  "language_info": {
   "codemirror_mode": {
    "name": "ipython",
    "version": 3
   },
   "file_extension": ".py",
   "mimetype": "text/x-python",
   "name": "python",
   "nbconvert_exporter": "python",
   "pygments_lexer": "ipython3",
   "version": "3.10.5"
  }
 },
 "nbformat": 4,
 "nbformat_minor": 5
}
