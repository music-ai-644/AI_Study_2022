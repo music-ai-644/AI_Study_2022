{
  "nbformat": 4,
  "nbformat_minor": 0,
  "metadata": {
    "colab": {
      "name": "Untitled0.ipynb",
      "provenance": [],
      "include_colab_link": true
    },
    "kernelspec": {
      "name": "python3",
      "display_name": "Python 3"
    },
    "language_info": {
      "name": "python"
    },
    "accelerator": "GPU",
    "gpuClass": "standard"
  },
  "cells": [
    {
      "cell_type": "markdown",
      "metadata": {
        "id": "view-in-github",
        "colab_type": "text"
      },
      "source": [
        "<a href=\"https://colab.research.google.com/github/music-ai-644/AI_Study_2022/blob/main/Quiz/220721_%EC%B5%9C%EB%B3%B4%EA%B2%BD_week8_quiz_mnist.ipynb\" target=\"_parent\"><img src=\"https://colab.research.google.com/assets/colab-badge.svg\" alt=\"Open In Colab\"/></a>"
      ]
    },
    {
      "cell_type": "code",
      "execution_count": 388,
      "metadata": {
        "id": "IMRHgENqVdcU"
      },
      "outputs": [],
      "source": [
        "import matplotlib.pyplot as plt \n",
        "import tensorflow as tf\n",
        "import numpy as np "
      ]
    },
    {
      "cell_type": "code",
      "source": [
        "(x_train, y_train), (x_test, y_test) = tf.keras.datasets.mnist.load_data()\n",
        "print(x_train.shape, y_train.shape)"
      ],
      "metadata": {
        "id": "AeZiHPuBVgce",
        "outputId": "36aa3500-64b9-4c5e-ca84-f74a25b1efbf",
        "colab": {
          "base_uri": "https://localhost:8080/"
        }
      },
      "execution_count": 389,
      "outputs": [
        {
          "output_type": "stream",
          "name": "stdout",
          "text": [
            "(60000, 28, 28) (60000,)\n"
          ]
        }
      ]
    },
    {
      "cell_type": "code",
      "source": [
        "print(y_train[:10])"
      ],
      "metadata": {
        "id": "GeJ7KTBasC0G",
        "outputId": "bdfcdf23-eede-43ba-f19f-dc7117137067",
        "colab": {
          "base_uri": "https://localhost:8080/"
        }
      },
      "execution_count": 390,
      "outputs": [
        {
          "output_type": "stream",
          "name": "stdout",
          "text": [
            "[5 0 4 1 9 2 1 3 1 4]\n"
          ]
        }
      ]
    },
    {
      "cell_type": "code",
      "source": [
        "class_names = [\"0\", \"1\", \"2\", \"3\", \"4\", \"5\", \"6\", \"7\", \"8\", \"9\"] #인덱스별 네이밍리스트"
      ],
      "metadata": {
        "id": "A22IpIY4Nq_l"
      },
      "execution_count": 391,
      "outputs": []
    },
    {
      "cell_type": "code",
      "source": [
        "fig = plt.figure(figsize=(15, 7)) #잘 나오는지확인하는 과정\n",
        "\n",
        "for i in range(10):\n",
        "    plottable_image = np.reshape(x_train[i], (28, 28))\n",
        "    ax = fig.add_subplot(2, 5, i+1)\n",
        "    ax.title.set_text(class_names[y_train[i]])\n",
        "    ax.imshow(plottable_image, cmap='gray_r')"
      ],
      "metadata": {
        "colab": {
          "base_uri": "https://localhost:8080/",
          "height": 416
        },
        "id": "KqZcE_KvV7_w",
        "outputId": "ac130a7b-446f-4bcd-d814-78cbf596e79b"
      },
      "execution_count": 392,
      "outputs": [
        {
          "output_type": "display_data",
          "data": {
            "text/plain": [
              "<Figure size 1080x504 with 10 Axes>"
            ],
            "image/png": "[encoded data removed]"
          },
          "metadata": {
            "needs_background": "light"
          }
        }
      ]
    },
    {
      "cell_type": "code",
      "source": [
        "from sklearn.model_selection import train_test_split \n",
        "x_train, x_valid, y_train, y_valid = train_test_split(x_train, y_train, stratify=y_train, test_size=0.2, random_state=42) #테스트는 20퍼센트비율"
      ],
      "metadata": {
        "id": "6hRrkl0MYjtf"
      },
      "execution_count": 393,
      "outputs": []
    },
    {
      "cell_type": "code",
      "source": [
        "x_train = x_train / 255\n",
        "x_valid = x_valid / 255 \n",
        "x_test = x_test / 255"
      ],
      "metadata": {
        "id": "FpJ5ncN-p_OZ"
      },
      "execution_count": 394,
      "outputs": []
    },
    {
      "cell_type": "code",
      "source": [
        "np.bincount(y_train)"
      ],
      "metadata": {
        "id": "ePtk2GaPzwnk",
        "outputId": "b5259edd-b9ce-40e0-8371-74540de1a456",
        "colab": {
          "base_uri": "https://localhost:8080/"
        }
      },
      "execution_count": 395,
      "outputs": [
        {
          "output_type": "execute_result",
          "data": {
            "text/plain": [
              "array([4738, 5394, 4766, 4905, 4674, 4337, 4734, 5012, 4681, 4759])"
            ]
          },
          "metadata": {},
          "execution_count": 395
        }
      ]
    },
    {
      "cell_type": "code",
      "source": [
        "np.bincount(y_valid)"
      ],
      "metadata": {
        "id": "xH6jJfSlzx4c",
        "outputId": "978fb255-e9e9-4385-85a5-b9538b7e45f5",
        "colab": {
          "base_uri": "https://localhost:8080/"
        }
      },
      "execution_count": 396,
      "outputs": [
        {
          "output_type": "execute_result",
          "data": {
            "text/plain": [
              "array([1185, 1348, 1192, 1226, 1168, 1084, 1184, 1253, 1170, 1190])"
            ]
          },
          "metadata": {},
          "execution_count": 396
        }
      ]
    },
    {
      "cell_type": "code",
      "source": [
        "x_train_reshape = x_train.reshape(-1, 784)\n",
        "x_valid_reshape = x_valid.reshape(-1, 784)\n",
        "x_test_reshape = x_test.reshape(-1, 784)\n",
        "\n",
        "print(\"학습 데이터 셋의 형태 : \", x_train_reshape.shape) #60000개의 데이터 중 80퍼센트\n",
        "print(\"검증 데이터 셋의 형태 : \", x_valid_reshape.shape) #60000개의 데이터 중 20퍼센트"
      ],
      "metadata": {
        "id": "38uBD7z6qEn5",
        "outputId": "34ad1642-43bc-4358-8f75-a6d5cac4a140",
        "colab": {
          "base_uri": "https://localhost:8080/"
        }
      },
      "execution_count": 397,
      "outputs": [
        {
          "output_type": "stream",
          "name": "stdout",
          "text": [
            "학습 데이터 셋의 형태 :  (48000, 784)\n",
            "검증 데이터 셋의 형태 :  (12000, 784)\n"
          ]
        }
      ]
    },
    {
      "cell_type": "code",
      "source": [
        "tf.keras.utils.to_categorical([0, 1, 3])"
      ],
      "metadata": {
        "id": "-XrtHG-uqGtp",
        "outputId": "54c55adc-8c47-454e-8aee-718ffd8abc38",
        "colab": {
          "base_uri": "https://localhost:8080/"
        }
      },
      "execution_count": 398,
      "outputs": [
        {
          "output_type": "execute_result",
          "data": {
            "text/plain": [
              "array([[1., 0., 0., 0.],\n",
              "       [0., 1., 0., 0.],\n",
              "       [0., 0., 0., 1.]], dtype=float32)"
            ]
          },
          "metadata": {},
          "execution_count": 398
        }
      ]
    },
    {
      "cell_type": "code",
      "source": [
        "y_train_encoded = tf.keras.utils.to_categorical(y_train) #원핫 인코딩\n",
        "y_valid_encoded = tf.keras.utils.to_categorical(y_valid)"
      ],
      "metadata": {
        "id": "05GzKNUhqIX4"
      },
      "execution_count": 399,
      "outputs": []
    },
    {
      "cell_type": "code",
      "source": [
        "print(y_train[0], y_train_encoded[0], class_names[y_train[0]]) #인덱스가 제대로 일치하는지 확인"
      ],
      "metadata": {
        "id": "6Dzq8r6JqJ4Y",
        "outputId": "3b0dcba6-b9ab-42ba-d10f-a2848a09009e",
        "colab": {
          "base_uri": "https://localhost:8080/"
        }
      },
      "execution_count": 400,
      "outputs": [
        {
          "output_type": "stream",
          "name": "stdout",
          "text": [
            "1 [0. 1. 0. 0. 0. 0. 0. 0. 0. 0.] 1\n"
          ]
        }
      ]
    },
    {
      "cell_type": "code",
      "source": [
        "import torch\n",
        "x_train_torch = torch.FloatTensor(x_train_reshape)\n",
        "y_train_torch = torch.FloatTensor(y_train_encoded)\n",
        "x_valid_torch = torch.FloatTensor(x_valid_reshape)\n",
        "y_valid_torch = torch.FloatTensor(y_valid_encoded) \n",
        "x_test_torch = torch.FloatTensor(x_test_reshape)\n",
        "y_test_torch = torch.FloatTensor(y_test)"
      ],
      "metadata": {
        "id": "DfwqoQ0RqLbd"
      },
      "execution_count": 401,
      "outputs": []
    },
    {
      "cell_type": "code",
      "source": [
        "cuda_ = torch.cuda.is_available()\n",
        "device = torch.device(\"cuda\" if cuda_ else \"cpu\")\n",
        "print(device)"
      ],
      "metadata": {
        "id": "a0tU5YIEx3Lo",
        "outputId": "7e91316f-f009-449c-d26f-ca948c2e9454",
        "colab": {
          "base_uri": "https://localhost:8080/"
        }
      },
      "execution_count": 402,
      "outputs": [
        {
          "output_type": "stream",
          "name": "stdout",
          "text": [
            "cuda\n"
          ]
        }
      ]
    },
    {
      "cell_type": "code",
      "source": [
        "import torch.nn as nn\n",
        "from torch.utils.data import Dataset, DataLoader"
      ],
      "metadata": {
        "id": "DbZx_p_GqPgd"
      },
      "execution_count": 403,
      "outputs": []
    },
    {
      "cell_type": "code",
      "source": [
        "class FigureDataset(Dataset):\n",
        "  def __init__(self, x, y):\n",
        "    self.x_data = x\n",
        "    self.y_data = y\n",
        "  \n",
        "  def __getitem__(self, index):\n",
        "    x = self.x_data[index]\n",
        "    y = self.y_data[index]\n",
        "    return x, y\n",
        "    \n",
        "  def collate_fn(self, batch):\n",
        "    x, y = zip(*batch)\n",
        "    return x, y\n",
        "\n",
        "  def __len__(self):\n",
        "    return len(self.x_data)"
      ],
      "metadata": {
        "id": "BbKEkDxGqQ_d"
      },
      "execution_count": 404,
      "outputs": []
    },
    {
      "cell_type": "code",
      "source": [
        "dataset = FigureDataset(x_train_torch, y_train_torch)\n",
        "dataloader = DataLoader(dataset, batch_size=32, shuffle=True, drop_last=True)"
      ],
      "metadata": {
        "id": "3PfXISeRqWcN"
      },
      "execution_count": 405,
      "outputs": []
    },
    {
      "cell_type": "code",
      "source": [
        "for b in dataloader:\n",
        "    x_batch=b[0]\n",
        "    y_batch=b[1]\n",
        "    print(\"배치사이즈:\", len(x_batch))\n",
        "    print(\"데이터 크기:\", (x_batch.size()))\n",
        "    print(\"타겟 크기:\", (y_batch.size()))\n",
        "    break"
      ],
      "metadata": {
        "id": "6fMTWyyxV02T",
        "outputId": "377d3ea6-c032-438e-c2ba-cee38bf72b8f",
        "colab": {
          "base_uri": "https://localhost:8080/"
        }
      },
      "execution_count": 406,
      "outputs": [
        {
          "output_type": "stream",
          "name": "stdout",
          "text": [
            "배치사이즈: 32\n",
            "데이터 크기: torch.Size([32, 784])\n",
            "타겟 크기: torch.Size([32, 10])\n"
          ]
        }
      ]
    },
    {
      "cell_type": "code",
      "source": [
        "from tqdm import tqdm \n",
        "import random \n",
        "\n",
        "random_seed = 100000\n",
        "np.random.seed(random_seed)\n",
        "torch.manual_seed(random_seed)\n",
        "random.seed(random_seed)\n",
        "\n",
        "model = nn.Sequential(\n",
        "    nn.Linear(784, 392),\n",
        "    nn.ReLU(),\n",
        "    nn.Linear(392, 196),\n",
        "    nn.ReLU(),\n",
        "    nn.Linear(196, 10),\n",
        "    nn.Softmax(dim=1),\n",
        "    )\n",
        "\n",
        "optim = torch.optim.Adam(model.parameters(), lr=1e-4)\n",
        "criterion = nn.CrossEntropyLoss()\n",
        "\n",
        "global_step = 0 \n",
        "for epoch in range(20):\n",
        "  t = tqdm(dataloader, ncols=100)\n",
        "  for i, batch in enumerate(t):\n",
        "    x_batch = batch[0]\n",
        "    y_batch = batch[1]\n",
        "    output = model(x_batch)\n",
        "    loss = criterion(output, y_batch)\n",
        "    model.zero_grad() \n",
        "    optim.zero_grad()\n",
        "    loss.backward()\n",
        "    optim.step() \n",
        "\n",
        "    global_step += 1\n",
        "    t.set_description(\"epoch: {} | global_step: {:8d} | loss: {:.4f}\".format(epoch + 1, global_step, loss))\n",
        "\n",
        "  predicts = model(x_valid_torch)\n",
        "  predicts = torch.argmax(predicts, 1)\n",
        "\n",
        "  correct = 0 \n",
        "  for i in range(len(predicts)):\n",
        "    if predicts[i].item() == y_valid[i]:\n",
        "      correct += 1\n",
        "  acc = correct / len(predicts)\n",
        "  print(\"epoch: {} | global_step: {} | valid acc: {:%}\".format(epoch + 1, global_step, acc))"
      ],
      "metadata": {
        "id": "LjBTOvxaqaaa",
        "outputId": "ed6ae7a1-adbe-4396-f51b-553cce718dbe",
        "colab": {
          "base_uri": "https://localhost:8080/"
        }
      },
      "execution_count": 407,
      "outputs": [
        {
          "output_type": "stream",
          "name": "stderr",
          "text": [
            "epoch: 1 | global_step:     1500 | loss: 1.5621: 100%|█████████| 1500/1500 [00:13<00:00, 112.50it/s]\n"
          ]
        },
        {
          "output_type": "stream",
          "name": "stdout",
          "text": [
            "epoch: 1 | global_step: 1500 | valid acc: 90.916667%\n"
          ]
        },
        {
          "output_type": "stream",
          "name": "stderr",
          "text": [
            "epoch: 2 | global_step:     3000 | loss: 1.4747: 100%|█████████| 1500/1500 [00:13<00:00, 107.33it/s]\n"
          ]
        },
        {
          "output_type": "stream",
          "name": "stdout",
          "text": [
            "epoch: 2 | global_step: 3000 | valid acc: 92.091667%\n"
          ]
        },
        {
          "output_type": "stream",
          "name": "stderr",
          "text": [
            "epoch: 3 | global_step:     4500 | loss: 1.5274: 100%|█████████| 1500/1500 [00:13<00:00, 107.26it/s]\n"
          ]
        },
        {
          "output_type": "stream",
          "name": "stdout",
          "text": [
            "epoch: 3 | global_step: 4500 | valid acc: 92.983333%\n"
          ]
        },
        {
          "output_type": "stream",
          "name": "stderr",
          "text": [
            "epoch: 4 | global_step:     6000 | loss: 1.4672: 100%|██████████| 1500/1500 [00:16<00:00, 91.32it/s]\n"
          ]
        },
        {
          "output_type": "stream",
          "name": "stdout",
          "text": [
            "epoch: 4 | global_step: 6000 | valid acc: 93.466667%\n"
          ]
        },
        {
          "output_type": "stream",
          "name": "stderr",
          "text": [
            "epoch: 5 | global_step:     7500 | loss: 1.4965: 100%|█████████| 1500/1500 [00:14<00:00, 100.19it/s]\n"
          ]
        },
        {
          "output_type": "stream",
          "name": "stdout",
          "text": [
            "epoch: 5 | global_step: 7500 | valid acc: 94.016667%\n"
          ]
        },
        {
          "output_type": "stream",
          "name": "stderr",
          "text": [
            "epoch: 6 | global_step:     9000 | loss: 1.4910: 100%|█████████| 1500/1500 [00:14<00:00, 105.61it/s]\n"
          ]
        },
        {
          "output_type": "stream",
          "name": "stdout",
          "text": [
            "epoch: 6 | global_step: 9000 | valid acc: 94.575000%\n"
          ]
        },
        {
          "output_type": "stream",
          "name": "stderr",
          "text": [
            "epoch: 7 | global_step:    10500 | loss: 1.5628: 100%|█████████| 1500/1500 [00:13<00:00, 107.39it/s]\n"
          ]
        },
        {
          "output_type": "stream",
          "name": "stdout",
          "text": [
            "epoch: 7 | global_step: 10500 | valid acc: 94.891667%\n"
          ]
        },
        {
          "output_type": "stream",
          "name": "stderr",
          "text": [
            "epoch: 8 | global_step:    12000 | loss: 1.4664: 100%|█████████| 1500/1500 [00:14<00:00, 105.19it/s]\n"
          ]
        },
        {
          "output_type": "stream",
          "name": "stdout",
          "text": [
            "epoch: 8 | global_step: 12000 | valid acc: 94.891667%\n"
          ]
        },
        {
          "output_type": "stream",
          "name": "stderr",
          "text": [
            "epoch: 9 | global_step:    13500 | loss: 1.4937: 100%|█████████| 1500/1500 [00:14<00:00, 105.22it/s]\n"
          ]
        },
        {
          "output_type": "stream",
          "name": "stdout",
          "text": [
            "epoch: 9 | global_step: 13500 | valid acc: 95.508333%\n"
          ]
        },
        {
          "output_type": "stream",
          "name": "stderr",
          "text": [
            "epoch: 10 | global_step:    15000 | loss: 1.4624: 100%|████████| 1500/1500 [00:14<00:00, 104.60it/s]\n"
          ]
        },
        {
          "output_type": "stream",
          "name": "stdout",
          "text": [
            "epoch: 10 | global_step: 15000 | valid acc: 95.550000%\n"
          ]
        },
        {
          "output_type": "stream",
          "name": "stderr",
          "text": [
            "epoch: 11 | global_step:    16500 | loss: 1.4956: 100%|████████| 1500/1500 [00:14<00:00, 105.91it/s]\n"
          ]
        },
        {
          "output_type": "stream",
          "name": "stdout",
          "text": [
            "epoch: 11 | global_step: 16500 | valid acc: 95.933333%\n"
          ]
        },
        {
          "output_type": "stream",
          "name": "stderr",
          "text": [
            "epoch: 12 | global_step:    18000 | loss: 1.4827: 100%|████████| 1500/1500 [00:14<00:00, 102.56it/s]\n"
          ]
        },
        {
          "output_type": "stream",
          "name": "stdout",
          "text": [
            "epoch: 12 | global_step: 18000 | valid acc: 96.050000%\n"
          ]
        },
        {
          "output_type": "stream",
          "name": "stderr",
          "text": [
            "epoch: 13 | global_step:    19500 | loss: 1.4930: 100%|████████| 1500/1500 [00:14<00:00, 101.37it/s]\n"
          ]
        },
        {
          "output_type": "stream",
          "name": "stdout",
          "text": [
            "epoch: 13 | global_step: 19500 | valid acc: 96.158333%\n"
          ]
        },
        {
          "output_type": "stream",
          "name": "stderr",
          "text": [
            "epoch: 14 | global_step:    21000 | loss: 1.4634: 100%|████████| 1500/1500 [00:14<00:00, 105.33it/s]\n"
          ]
        },
        {
          "output_type": "stream",
          "name": "stdout",
          "text": [
            "epoch: 14 | global_step: 21000 | valid acc: 96.366667%\n"
          ]
        },
        {
          "output_type": "stream",
          "name": "stderr",
          "text": [
            "epoch: 15 | global_step:    22500 | loss: 1.5042: 100%|████████| 1500/1500 [00:14<00:00, 102.77it/s]\n"
          ]
        },
        {
          "output_type": "stream",
          "name": "stdout",
          "text": [
            "epoch: 15 | global_step: 22500 | valid acc: 96.433333%\n"
          ]
        },
        {
          "output_type": "stream",
          "name": "stderr",
          "text": [
            "epoch: 16 | global_step:    24000 | loss: 1.4954: 100%|████████| 1500/1500 [00:14<00:00, 104.01it/s]\n"
          ]
        },
        {
          "output_type": "stream",
          "name": "stdout",
          "text": [
            "epoch: 16 | global_step: 24000 | valid acc: 96.558333%\n"
          ]
        },
        {
          "output_type": "stream",
          "name": "stderr",
          "text": [
            "epoch: 17 | global_step:    25500 | loss: 1.5512: 100%|████████| 1500/1500 [00:14<00:00, 103.57it/s]\n"
          ]
        },
        {
          "output_type": "stream",
          "name": "stdout",
          "text": [
            "epoch: 17 | global_step: 25500 | valid acc: 96.658333%\n"
          ]
        },
        {
          "output_type": "stream",
          "name": "stderr",
          "text": [
            "epoch: 18 | global_step:    27000 | loss: 1.4635: 100%|████████| 1500/1500 [00:14<00:00, 100.45it/s]\n"
          ]
        },
        {
          "output_type": "stream",
          "name": "stdout",
          "text": [
            "epoch: 18 | global_step: 27000 | valid acc: 96.700000%\n"
          ]
        },
        {
          "output_type": "stream",
          "name": "stderr",
          "text": [
            "epoch: 19 | global_step:    28500 | loss: 1.4625: 100%|████████| 1500/1500 [00:14<00:00, 106.25it/s]\n"
          ]
        },
        {
          "output_type": "stream",
          "name": "stdout",
          "text": [
            "epoch: 19 | global_step: 28500 | valid acc: 97.041667%\n"
          ]
        },
        {
          "output_type": "stream",
          "name": "stderr",
          "text": [
            "epoch: 20 | global_step:    30000 | loss: 1.4969: 100%|████████| 1500/1500 [00:14<00:00, 106.36it/s]\n"
          ]
        },
        {
          "output_type": "stream",
          "name": "stdout",
          "text": [
            "epoch: 20 | global_step: 30000 | valid acc: 96.841667%\n"
          ]
        }
      ]
    },
    {
      "cell_type": "code",
      "source": [
        "predict = model(x_test_torch)\n",
        "predict = torch.argmax(predict, 1)"
      ],
      "metadata": {
        "id": "cHs_9Mpwqdt0"
      },
      "execution_count": 417,
      "outputs": []
    },
    {
      "cell_type": "code",
      "source": [
        "correct = 0 \n",
        "for i in range(len(predict)):\n",
        "  if predict[i].item() == y_test[i]:\n",
        "    correct += 1\n",
        "acc = correct/len(predict)\n",
        "print(\"Test accuracy : {:.2%}\".format(acc))"
      ],
      "metadata": {
        "id": "D5K_LLORqeW6",
        "outputId": "72b4327f-2c65-4013-c551-ee0e6123df09",
        "colab": {
          "base_uri": "https://localhost:8080/"
        }
      },
      "execution_count": 409,
      "outputs": [
        {
          "output_type": "stream",
          "name": "stdout",
          "text": [
            "Test accuracy : 96.94%\n"
          ]
        }
      ]
    },
    {
      "cell_type": "code",
      "source": [
        "fig = plt.figure(figsize=(15, 7))\n",
        "\n",
        "for i in range(5):\n",
        "    plottable_image = x_test[i+10]\n",
        "    ax = fig.add_subplot(2, 5, i+1)\n",
        "    ax.title.set_text(class_names[y_test[i+10]])\n",
        "    ax.imshow(plottable_image, cmap='gray_r')\n",
        "  \n",
        "for i in range(5):\n",
        "    plottable_image = x_test[i+10]\n",
        "    ax = fig.add_subplot(2, 5, i+6)\n",
        "    ax.title.set_text(class_names[predict[i+10].item()])\n",
        "    ax.imshow(plottable_image, cmap='gray_r')\n",
        "\n",
        "plt.show()"
      ],
      "metadata": {
        "id": "xucudhyUabvG",
        "outputId": "99e5eaae-c269-4348-9a94-bc1c82148bd3",
        "colab": {
          "base_uri": "https://localhost:8080/",
          "height": 416
        }
      },
      "execution_count": 423,
      "outputs": [
        {
          "output_type": "display_data",
          "data": {
            "text/plain": [
              "<Figure size 1080x504 with 10 Axes>"
            ],
            "image/png": "[encoded data removed]"
          },
          "metadata": {
            "needs_background": "light"
          }
        }
      ]
    },
    {
      "cell_type": "code",
      "source": [
        ""
      ],
      "metadata": {
        "id": "Uaaxob8sNcyE"
      },
      "execution_count": null,
      "outputs": []
    }
  ]
}