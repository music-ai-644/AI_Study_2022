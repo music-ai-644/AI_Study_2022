{
 "cells": [
  {
   "cell_type": "code",
   "execution_count": 1,
   "metadata": {},
   "outputs": [
    {
     "name": "stderr",
     "output_type": "stream",
     "text": [
      "/usr/local/lib/python3.6/dist-packages/tensorflow/python/framework/dtypes.py:516: FutureWarning: Passing (type, 1) or '1type' as a synonym of type is deprecated; in a future version of numpy, it will be understood as (type, (1,)) / '(1,)type'.\n",
      "  _np_qint8 = np.dtype([(\"qint8\", np.int8, 1)])\n",
      "/usr/local/lib/python3.6/dist-packages/tensorflow/python/framework/dtypes.py:517: FutureWarning: Passing (type, 1) or '1type' as a synonym of type is deprecated; in a future version of numpy, it will be understood as (type, (1,)) / '(1,)type'.\n",
      "  _np_quint8 = np.dtype([(\"quint8\", np.uint8, 1)])\n",
      "/usr/local/lib/python3.6/dist-packages/tensorflow/python/framework/dtypes.py:518: FutureWarning: Passing (type, 1) or '1type' as a synonym of type is deprecated; in a future version of numpy, it will be understood as (type, (1,)) / '(1,)type'.\n",
      "  _np_qint16 = np.dtype([(\"qint16\", np.int16, 1)])\n",
      "/usr/local/lib/python3.6/dist-packages/tensorflow/python/framework/dtypes.py:519: FutureWarning: Passing (type, 1) or '1type' as a synonym of type is deprecated; in a future version of numpy, it will be understood as (type, (1,)) / '(1,)type'.\n",
      "  _np_quint16 = np.dtype([(\"quint16\", np.uint16, 1)])\n",
      "/usr/local/lib/python3.6/dist-packages/tensorflow/python/framework/dtypes.py:520: FutureWarning: Passing (type, 1) or '1type' as a synonym of type is deprecated; in a future version of numpy, it will be understood as (type, (1,)) / '(1,)type'.\n",
      "  _np_qint32 = np.dtype([(\"qint32\", np.int32, 1)])\n",
      "/usr/local/lib/python3.6/dist-packages/tensorflow/python/framework/dtypes.py:525: FutureWarning: Passing (type, 1) or '1type' as a synonym of type is deprecated; in a future version of numpy, it will be understood as (type, (1,)) / '(1,)type'.\n",
      "  np_resource = np.dtype([(\"resource\", np.ubyte, 1)])\n",
      "/usr/local/lib/python3.6/dist-packages/tensorboard/compat/tensorflow_stub/dtypes.py:541: FutureWarning: Passing (type, 1) or '1type' as a synonym of type is deprecated; in a future version of numpy, it will be understood as (type, (1,)) / '(1,)type'.\n",
      "  _np_qint8 = np.dtype([(\"qint8\", np.int8, 1)])\n",
      "/usr/local/lib/python3.6/dist-packages/tensorboard/compat/tensorflow_stub/dtypes.py:542: FutureWarning: Passing (type, 1) or '1type' as a synonym of type is deprecated; in a future version of numpy, it will be understood as (type, (1,)) / '(1,)type'.\n",
      "  _np_quint8 = np.dtype([(\"quint8\", np.uint8, 1)])\n",
      "/usr/local/lib/python3.6/dist-packages/tensorboard/compat/tensorflow_stub/dtypes.py:543: FutureWarning: Passing (type, 1) or '1type' as a synonym of type is deprecated; in a future version of numpy, it will be understood as (type, (1,)) / '(1,)type'.\n",
      "  _np_qint16 = np.dtype([(\"qint16\", np.int16, 1)])\n",
      "/usr/local/lib/python3.6/dist-packages/tensorboard/compat/tensorflow_stub/dtypes.py:544: FutureWarning: Passing (type, 1) or '1type' as a synonym of type is deprecated; in a future version of numpy, it will be understood as (type, (1,)) / '(1,)type'.\n",
      "  _np_quint16 = np.dtype([(\"quint16\", np.uint16, 1)])\n",
      "/usr/local/lib/python3.6/dist-packages/tensorboard/compat/tensorflow_stub/dtypes.py:545: FutureWarning: Passing (type, 1) or '1type' as a synonym of type is deprecated; in a future version of numpy, it will be understood as (type, (1,)) / '(1,)type'.\n",
      "  _np_qint32 = np.dtype([(\"qint32\", np.int32, 1)])\n",
      "/usr/local/lib/python3.6/dist-packages/tensorboard/compat/tensorflow_stub/dtypes.py:550: FutureWarning: Passing (type, 1) or '1type' as a synonym of type is deprecated; in a future version of numpy, it will be understood as (type, (1,)) / '(1,)type'.\n",
      "  np_resource = np.dtype([(\"resource\", np.ubyte, 1)])\n"
     ]
    }
   ],
   "source": [
    "import torch \n",
    "import torch.nn as nn\n",
    "import random\n",
    "\n",
    "import numpy as np\n",
    "import tensorflow as tf\n",
    "\n",
    "import matplotlib.pyplot as plt\n",
    "\n",
    "from sklearn.model_selection import train_test_split\n",
    "from torch.utils.data import DataLoader, Dataset\n",
    "\n",
    "import torch.nn.functional as F\n",
    "import torch, gc\n",
    "import torchvision\n",
    "from torchvision import datasets, transforms\n",
    "\n",
    "import ssl\n",
    "ssl._create_default_https_context = ssl._create_unverified_context\n",
    "\n",
    "from tqdm import tqdm_notebook as tqdm"
   ]
  },
  {
   "cell_type": "code",
   "execution_count": 2,
   "metadata": {},
   "outputs": [
    {
     "name": "stdout",
     "output_type": "stream",
     "text": [
      "(50000, 32, 32, 3) (50000, 1)\n",
      "<class 'numpy.ndarray'>\n"
     ]
    }
   ],
   "source": [
    "(x_train_all, y_train_all), (x_test, y_test) = tf.keras.datasets.cifar10.load_data()\n",
    "print(x_train_all.shape, y_train_all.shape)\n",
    "print(type(x_train_all))"
   ]
  },
  {
   "cell_type": "code",
   "execution_count": 3,
   "metadata": {},
   "outputs": [],
   "source": [
    "class_names = [\"airplane\", \"automobile\", \"bird\", \"cat\", \"deer\", \"dog\", \"frog\", \"horse\", \"ship\", \"truck\"]"
   ]
  },
  {
   "cell_type": "code",
   "execution_count": 4,
   "metadata": {},
   "outputs": [],
   "source": [
    "# fig = plt.figure(figsize=(15,7))\n",
    "\n",
    "# for i in range(10):\n",
    "#     plottable_image = x_train_all[i]\n",
    "    \n",
    "#     ax = fig.add_subplot(2, 5, i+1)\n",
    "#     ax.title.set_text(class_names[y_train_all[i][0]])\n",
    "#     ax.imshow(plottable_image)"
   ]
  },
  {
   "cell_type": "code",
   "execution_count": 5,
   "metadata": {},
   "outputs": [],
   "source": [
    "from torchvision.transforms import transforms as TT\n",
    "from torchvision.transforms import functional as FF\n",
    "from torchvision import transforms, datasets"
   ]
  },
  {
   "cell_type": "code",
   "execution_count": 6,
   "metadata": {},
   "outputs": [],
   "source": [
    "random_seed = 123\n",
    "np.random.seed(random_seed)\n",
    "torch.manual_seed(random_seed)\n",
    "random.seed(random_seed)"
   ]
  },
  {
   "cell_type": "code",
   "execution_count": 7,
   "metadata": {},
   "outputs": [
    {
     "name": "stdout",
     "output_type": "stream",
     "text": [
      "50000\n",
      "[323  99 231  18  84 107 124  58 215 226]\n"
     ]
    }
   ],
   "source": [
    "rand_ratate_angle = np.random.randint(1,360, size=len(y_train_all))\n",
    "print(len(rand_ratate_angle))\n",
    "print(rand_ratate_angle[:10])"
   ]
  },
  {
   "cell_type": "code",
   "execution_count": 8,
   "metadata": {},
   "outputs": [],
   "source": [
    "x_train_all_rotate = [FF.normalize(TT.ToTensor()(FF.rotate(transforms.ToPILImage()(x), rand_ratate_angle[i] )),(0.5, 0.5, 0.5),(0.5, 0.5, 0.5)) for i, x in enumerate(x_train_all)]\n",
    "y_train_all_rotate = y_train_all"
   ]
  },
  {
   "cell_type": "code",
   "execution_count": 9,
   "metadata": {},
   "outputs": [
    {
     "name": "stderr",
     "output_type": "stream",
     "text": [
      "Clipping input data to the valid range for imshow with RGB data ([0..1] for floats or [0..255] for integers).\n",
      "Clipping input data to the valid range for imshow with RGB data ([0..1] for floats or [0..255] for integers).\n",
      "Clipping input data to the valid range for imshow with RGB data ([0..1] for floats or [0..255] for integers).\n",
      "Clipping input data to the valid range for imshow with RGB data ([0..1] for floats or [0..255] for integers).\n",
      "Clipping input data to the valid range for imshow with RGB data ([0..1] for floats or [0..255] for integers).\n",
      "Clipping input data to the valid range for imshow with RGB data ([0..1] for floats or [0..255] for integers).\n",
      "Clipping input data to the valid range for imshow with RGB data ([0..1] for floats or [0..255] for integers).\n",
      "Clipping input data to the valid range for imshow with RGB data ([0..1] for floats or [0..255] for integers).\n",
      "Clipping input data to the valid range for imshow with RGB data ([0..1] for floats or [0..255] for integers).\n",
      "Clipping input data to the valid range for imshow with RGB data ([0..1] for floats or [0..255] for integers).\n"
     ]
    },
    {
     "data": {
      "image/png": "[encoded data removed]",
      "text/plain": [
       "<Figure size 1080x504 with 10 Axes>"
      ]
     },
     "metadata": {
      "needs_background": "light"
     },
     "output_type": "display_data"
    }
   ],
   "source": [
    "fig = plt.figure(figsize=(15,7))\n",
    "\n",
    "for i in range(10):\n",
    "    plottable_image = np.transpose(x_train_all_rotate[i], (1, 2, 0))\n",
    "    \n",
    "    ax = fig.add_subplot(2, 5, i+1)\n",
    "    ax.title.set_text(class_names[y_train_all[i][0]])\n",
    "    ax.imshow(plottable_image)"
   ]
  },
  {
   "cell_type": "code",
   "execution_count": 10,
   "metadata": {},
   "outputs": [
    {
     "name": "stdout",
     "output_type": "stream",
     "text": [
      "frog\n",
      "truck\n",
      "truck\n",
      "deer\n",
      "automobile\n",
      "automobile\n",
      "bird\n",
      "horse\n",
      "ship\n",
      "cat\n"
     ]
    }
   ],
   "source": [
    "for i in range(10):\n",
    "    print(class_names[y_train_all[i][0]])"
   ]
  },
  {
   "cell_type": "code",
   "execution_count": 11,
   "metadata": {},
   "outputs": [],
   "source": [
    "'''\n",
    "PIL 이미지, numpy 배열 -> pytorch Tensor\n",
    "H W C -> C H W 로 바꿔줘야 함\n",
    "원래 이미지 x_train_all 은 (H W C)\n",
    "'''\n",
    "\n",
    "x_train_all_hflip = [FF.normalize(TT.ToTensor()(FF.hflip(transforms.ToPILImage()(x))),(0.5, 0.5, 0.5),(0.5, 0.5, 0.5)) for x in x_train_all]\n",
    "y_train_all_hflip = y_train_all"
   ]
  },
  {
   "cell_type": "code",
   "execution_count": 12,
   "metadata": {},
   "outputs": [],
   "source": [
    "# print(x_train_all_hflip[1])\n",
    "# print(class_names[y_train_all_hflip[1][0]])\n",
    "# plt.imshow(np.transpose(x_train_all_hflip[1],(1, 2, 0)))"
   ]
  },
  {
   "cell_type": "code",
   "execution_count": 13,
   "metadata": {},
   "outputs": [],
   "source": [
    "x_train_all_vflip = [FF.normalize(TT.ToTensor()(FF.vflip(transforms.ToPILImage()(x))),(0.5, 0.5, 0.5),(0.5, 0.5, 0.5)) for x in x_train_all]\n",
    "y_train_all_vflip = y_train_all"
   ]
  },
  {
   "cell_type": "code",
   "execution_count": 14,
   "metadata": {},
   "outputs": [],
   "source": [
    "# print(x_train_all_vflip[1])\n",
    "# print(class_names[y_train_all_vflip[1][0]])\n",
    "# plt.imshow(np.transpose(x_train_all_vflip[1],(1, 2, 0)))"
   ]
  },
  {
   "cell_type": "code",
   "execution_count": 15,
   "metadata": {},
   "outputs": [],
   "source": [
    "x_train_all_org = [FF.normalize(TT.ToTensor()(x),(0.5, 0.5, 0.5),(0.5, 0.5, 0.5)) for x in x_train_all] ## 자료형 list : tensor 들의 list\n",
    "y_train_all_org = y_train_all ## np.array"
   ]
  },
  {
   "cell_type": "code",
   "execution_count": 19,
   "metadata": {},
   "outputs": [],
   "source": [
    "x_train_all_list_of_tensors = x_train_all_org + x_train_all_vflip + x_train_all_hflip + x_train_all_rotate\n",
    "y_train_all_list_of_tensors = y_train_all_org.tolist() + y_train_all_vflip.tolist() + y_train_all_hflip.tolist() + y_train_all_rotate.tolist()"
   ]
  },
  {
   "cell_type": "code",
   "execution_count": 20,
   "metadata": {},
   "outputs": [],
   "source": [
    "x_train_all_torch = torch.stack(x_train_all_org + x_train_all_vflip + x_train_all_hflip + x_train_all_rotate)\n",
    "y_train_all_torch = torch.LongTensor(y_train_all_list_of_tensors)"
   ]
  },
  {
   "cell_type": "code",
   "execution_count": 21,
   "metadata": {},
   "outputs": [
    {
     "name": "stdout",
     "output_type": "stream",
     "text": [
      "torch.Size([200000, 3, 32, 32])\n",
      "torch.Size([200000, 1])\n"
     ]
    }
   ],
   "source": [
    "print(x_train_all_torch.shape)\n",
    "print(y_train_all_torch.shape)"
   ]
  },
  {
   "cell_type": "code",
   "execution_count": null,
   "metadata": {},
   "outputs": [],
   "source": [
    "# plt.imshow(x_train_all[23007])\n",
    "# print(class_names[y_train_all[23007][0]])"
   ]
  },
  {
   "cell_type": "code",
   "execution_count": null,
   "metadata": {},
   "outputs": [],
   "source": [
    "# plt.imshow(np.transpose(x_train_all_vflip[23007], (1, 2, 0)))\n",
    "# print(class_names[y_train_all_vflip[23007][0]])"
   ]
  },
  {
   "cell_type": "code",
   "execution_count": null,
   "metadata": {},
   "outputs": [],
   "source": [
    "# plt.imshow(np.transpose(x_train_all_hflip[23007], (1, 2, 0)))\n",
    "# print(class_names[y_train_all_hflip[23007][0]])"
   ]
  },
  {
   "cell_type": "code",
   "execution_count": null,
   "metadata": {},
   "outputs": [],
   "source": [
    "# plt.imshow(np.transpose(x_train_all_torch[73007], (1, 2, 0)))\n",
    "# print(class_names[y_train_all_torch[73007]])"
   ]
  },
  {
   "cell_type": "code",
   "execution_count": null,
   "metadata": {},
   "outputs": [],
   "source": [
    "# plt.imshow(np.transpose(x_train_all_torch[173007], (1, 2, 0)))\n",
    "# print(class_names[y_train_all_torch[173007]])"
   ]
  },
  {
   "cell_type": "code",
   "execution_count": 22,
   "metadata": {},
   "outputs": [],
   "source": [
    "x_train, x_valid, y_train, y_valid = train_test_split(np.array(x_train_all_torch),\n",
    "                                                      np.array(y_train_all_list_of_tensors), \n",
    "                                                      stratify=np.array(y_train_all_list_of_tensors),\n",
    "                                                     test_size=0.2,\n",
    "                                                     random_state=42)"
   ]
  },
  {
   "cell_type": "code",
   "execution_count": 25,
   "metadata": {},
   "outputs": [],
   "source": [
    "# gc.collect()\n",
    "# torch.cuda.empty_cache()"
   ]
  },
  {
   "cell_type": "code",
   "execution_count": 27,
   "metadata": {},
   "outputs": [],
   "source": [
    "x_train_torch = torch.FloatTensor(x_train).cuda() ### 40000개\n",
    "y_train_torch = torch.LongTensor(y_train.squeeze(1)).cuda()\n",
    "\n",
    "x_valid_torch = torch.FloatTensor(x_valid).cuda() ### 10000개\n",
    "y_valid_torch = torch.LongTensor(y_valid.squeeze(1)).cuda() "
   ]
  },
  {
   "cell_type": "code",
   "execution_count": 28,
   "metadata": {},
   "outputs": [
    {
     "name": "stdout",
     "output_type": "stream",
     "text": [
      "torch.Size([160000, 3, 32, 32])\n",
      "torch.Size([160000])\n"
     ]
    }
   ],
   "source": [
    "print(x_train_torch.shape)\n",
    "print(y_train_torch.shape)"
   ]
  },
  {
   "cell_type": "code",
   "execution_count": 29,
   "metadata": {},
   "outputs": [
    {
     "name": "stdout",
     "output_type": "stream",
     "text": [
      "torch.Size([10000, 3, 32, 32])\n",
      "torch.Size([10000])\n"
     ]
    }
   ],
   "source": [
    "x_test_transform = [FF.normalize(TT.ToTensor()(x),(0.5, 0.5, 0.5),(0.5, 0.5, 0.5)) for x in x_test]\n",
    "y_test_transform = y_test.squeeze(1).tolist()\n",
    "\n",
    "x_test_torch = torch.stack(x_test_transform, dim=0)\n",
    "y_test_torch = torch.LongTensor(y_test_transform)\n",
    "\n",
    "print(x_test_torch.shape)\n",
    "print(y_test_torch.shape)"
   ]
  },
  {
   "cell_type": "code",
   "execution_count": null,
   "metadata": {},
   "outputs": [],
   "source": [
    "# ## 0~1 사이의 값으로 정규화\n",
    "# x_train = x_train / 255\n",
    "# x_valid = x_valid / 255 \n",
    "# x_test = x_test / 255\n",
    "\n",
    "# y_train_encoded = tf.keras.utils.to_categorical(y_train)\n",
    "# y_valid_encoded = tf.keras.utils.to_categorical(y_valid)\n",
    "\n",
    "\n",
    "# x_train_torch = torch.FloatTensor(np.transpose(x_train, (0, 3, 1, 2))).cuda() ### 40000개\n",
    "# y_train_torch = torch.LongTensor(y_train.squeeze(1)).cuda()\n",
    "\n",
    "# x_valid_torch = torch.FloatTensor(np.transpose(x_valid, (0, 3, 1, 2))).cuda() ### 10000개\n",
    "# y_valid_torch = torch.LongTensor(y_valid.squeeze(1)).cuda() \n",
    "\n",
    "# x_test_torch = torch.FloatTensor(np.transpose(x_test, (0, 3, 1, 2))).cuda()\n",
    "# y_test_torch = torch.LongTensor(y_test.squeeze(1)).cuda()"
   ]
  },
  {
   "cell_type": "code",
   "execution_count": 30,
   "metadata": {},
   "outputs": [],
   "source": [
    "class CifarDataset(Dataset):\n",
    "    def __init__(self, x, y):\n",
    "        self.x_data = x\n",
    "        self.y_data = y\n",
    "        \n",
    "    def __getitem__(self, index):\n",
    "        x = self.x_data[index]\n",
    "        y = self.y_data[index]\n",
    "        return x, y\n",
    "    \n",
    "    def collate_fn(self, batch):\n",
    "        x, y = zip(*batch)\n",
    "        return x, y\n",
    "\n",
    "    def __len__(self):\n",
    "        return len(self.x_data)"
   ]
  },
  {
   "cell_type": "code",
   "execution_count": 104,
   "metadata": {},
   "outputs": [],
   "source": [
    "class ConvNet(nn.Module):\n",
    "    def __init__(self):\n",
    "        super(ConvNet, self).__init__()\n",
    "        \n",
    "        self.conv1 = nn.Conv2d(in_channels = 3, out_channels = 48, kernel_size = 3, padding = 1, stride = 2)\n",
    "        self.conv2 = nn.Conv2d(in_channels = 48, out_channels = 96, kernel_size = 3, padding = 1)\n",
    "        self.conv3 = nn.Conv2d(in_channels = 96, out_channels = 192, kernel_size = 3, padding = 1)\n",
    "        self.conv4 = nn.Conv2d(in_channels = 192, out_channels = 384, kernel_size = 3, padding = 1)\n",
    "        self.conv5 = nn.Conv2d(in_channels = 384, out_channels = 768, kernel_size = 3, padding = 1)\n",
    "        self.pool = nn.MaxPool2d(kernel_size = 3, stride = 2, padding=1)\n",
    "        self.fc1 = nn.Linear(1 * 1 * 768, 512)\n",
    "#         self.fc2 = nn.Linear(1024,512)\n",
    "        self.fc3 = nn.Linear(512, 10)\n",
    "        self.dropout1 = nn.Dropout(0.5)\n",
    "        self.dropout2 = nn.Dropout(0.25)\n",
    "        \n",
    "\n",
    "    def forward(self, x):\n",
    "       \n",
    "        x = F.relu(self.conv1(x)) # 32 * 32 * 3 -> 16 * 16 * 48\n",
    "        x = F.relu(self.conv2(x)) # 16 * 16 * 48 -> 16 * 16 * 96\n",
    "        x = self.pool(x) # 8 * 8 * 96\n",
    "        \n",
    "        x = F.relu(self.conv3(x))\n",
    "        x = self.dropout1(x)\n",
    "        x = self.pool(x) # 4 * 4 * 192\n",
    "        \n",
    "        x = F.relu(self.conv4(x))\n",
    "        x = self.dropout1(x)\n",
    "        x = self.pool(x) # 2 * 2 * 384\n",
    "        \n",
    "        x = F.relu(self.conv5(x))\n",
    "        x = self.dropout1(x)\n",
    "        x = self.pool(x) # 1 * 1 * 768\n",
    "        \n",
    "        x = x.view(-1, 1 * 1 * 768)\n",
    "        x = F.relu(self.fc1(x))\n",
    "#         x = F.relu(self.fc2(x))\n",
    "        x = self.fc3(x)\n",
    "        x = F.log_softmax(x, dim = 1) ### -> NLLLoss써야함!!!\n",
    "\n",
    "        return x\n",
    "        "
   ]
  },
  {
   "cell_type": "code",
   "execution_count": 109,
   "metadata": {},
   "outputs": [],
   "source": [
    "class Train(nn.Module):\n",
    "    def __init__(self, learning_rate=0.0001):\n",
    "        super(Train, self).__init__()\n",
    "        \n",
    "        self.model = ConvNet().cuda()\n",
    "\n",
    "        self.optim = torch.optim.Adam(self.model.parameters(), lr=learning_rate)\n",
    "        self.criterion = nn.NLLLoss()\n",
    "#         self.criterion = nn.CrossEntropyLoss()\n",
    "        \n",
    "        self.running_loss_history = []\n",
    "        self.running_correct_history = []\n",
    "        self.validation_loss_history = []\n",
    "        self.validation_correct_history = []\n",
    "    \n",
    "    \n",
    "    def predict(self, dataloader, valid=True):\n",
    "        self.model.eval()\n",
    "\n",
    "        validation_running_loss = 0.0\n",
    "        validation_running_correct = 0.0\n",
    "        \n",
    "        total_len = len(dataloader.dataset)\n",
    "        \n",
    "        with torch.no_grad():\n",
    "            for data in dataloader:\n",
    "                val_input = data[0].cuda()\n",
    "                val_label = data[1].cuda()\n",
    "\n",
    "                val_output = self.model(val_input)\n",
    "                val_loss = self.criterion(val_output, val_label)\n",
    "                val_preds = torch.argmax(val_output, 1)\n",
    "                \n",
    "                \n",
    "                validation_running_loss += val_loss.item()\n",
    "                validation_running_correct += (val_preds == val_label).sum().item()\n",
    "                \n",
    "            val_epoch_loss = validation_running_loss / total_len\n",
    "            val_epoch_acc = validation_running_correct / total_len\n",
    "\n",
    "       \n",
    "        if valid:\n",
    "            self.validation_loss_history.append(val_epoch_loss)\n",
    "            self.validation_correct_history.append(val_epoch_acc)\n",
    "\n",
    "        self.model.train()\n",
    "\n",
    "        return val_epoch_loss, val_epoch_acc\n",
    "        \n",
    "    \n",
    "    def train(self, dataloader, epochs=20):\n",
    "        global_step = 0\n",
    "        \n",
    "        \n",
    "        total_len = len(dataloader.dataset)\n",
    "\n",
    "        for e in range(epochs):\n",
    "            t = tqdm(dataloader)\n",
    "            running_loss = 0.0\n",
    "            running_correct = 0.0\n",
    "            for i, B in enumerate(t):\n",
    "                inputs = B[0]\n",
    "                labels = B[1] ## (B,1)\n",
    "                \n",
    "                outputs = self.model(inputs) \n",
    "\n",
    "                loss = self.criterion(outputs, labels) ## (32, 10) - (32)\n",
    "                \n",
    "                self.model.zero_grad()\n",
    "                self.optim.zero_grad()\n",
    "\n",
    "                loss.backward()\n",
    "                self.optim.step()\n",
    "                \n",
    "                preds = torch.argmax(outputs, 1)\n",
    "\n",
    "                running_correct += (preds == labels).sum().item()\n",
    "                running_loss += loss.item()\n",
    "                \n",
    "                global_step += 1\n",
    "\n",
    "            epoch_loss = running_loss / total_len\n",
    "            epoch_acc = running_correct / total_len\n",
    "            \n",
    "            self.running_loss_history.append(epoch_loss)\n",
    "            self.running_correct_history.append(epoch_acc)\n",
    "            \n",
    "            print(\"epoch: {} | global_step : {} | run_loss : {:.4f} | run_acc : {:%}\".format(e + 1, global_step, epoch_loss, epoch_acc))\n",
    "    \n",
    "            val_epoch_loss, val_epoch_acc = self.predict(evalloader)\n",
    "            print(\"epoch: {} | global_step : {} | val_loss : {:.4f} | val_acc : {:%}\".format(e + 1, global_step, val_epoch_loss, val_epoch_acc))\n",
    "            \n",
    "    \n",
    "    def print_graph(self):\n",
    "        fig = plt.figure(figsize=(12, 4))\n",
    "        ax1 = fig.add_subplot(1, 2, 1)\n",
    "        ax2 = fig.add_subplot(1, 2, 2)\n",
    "        x = np.linspace(1, len(self.running_correct_history),len(self.running_correct_history))\n",
    "        ax1.plot(x, self.running_loss_history, color='r', label=\"run_loss\")\n",
    "        ax1.plot(x, self.validation_loss_history,color='b', label=\"val_loss\")\n",
    "        ax1.set_title('loss')\n",
    "        ax2.plot(x, self.running_correct_history, label=\"run_acc\")\n",
    "        ax2.plot(x, self.validation_correct_history, label=\"val_acc\")\n",
    "        ax2.set_title('acc')\n",
    "        fig.legend()"
   ]
  },
  {
   "cell_type": "code",
   "execution_count": 106,
   "metadata": {},
   "outputs": [],
   "source": [
    "b_size=1000\n",
    "\n",
    "dataset = CifarDataset(x_train_torch, y_train_torch)\n",
    "dataloader = DataLoader(dataset, batch_size=b_size, shuffle=True, drop_last=True)\n",
    "\n",
    "testset = CifarDataset(x_test_torch, y_test_torch)\n",
    "testloader = DataLoader(testset, batch_size=b_size, shuffle=True, drop_last=True)\n",
    "\n",
    "evalset = CifarDataset(x_valid_torch, y_valid_torch)\n",
    "evalloader = DataLoader(evalset, batch_size=b_size, shuffle=True, drop_last=True)"
   ]
  },
  {
   "cell_type": "markdown",
   "metadata": {},
   "source": [
    "# *test_acc : 80.64%"
   ]
  },
  {
   "cell_type": "code",
   "execution_count": 110,
   "metadata": {},
   "outputs": [
    {
     "name": "stdout",
     "output_type": "stream",
     "text": [
      "Train(\n",
      "  (model): ConvNet(\n",
      "    (conv1): Conv2d(3, 48, kernel_size=(3, 3), stride=(2, 2), padding=(1, 1))\n",
      "    (conv2): Conv2d(48, 96, kernel_size=(3, 3), stride=(1, 1), padding=(1, 1))\n",
      "    (conv3): Conv2d(96, 192, kernel_size=(3, 3), stride=(1, 1), padding=(1, 1))\n",
      "    (conv4): Conv2d(192, 384, kernel_size=(3, 3), stride=(1, 1), padding=(1, 1))\n",
      "    (conv5): Conv2d(384, 768, kernel_size=(3, 3), stride=(1, 1), padding=(1, 1))\n",
      "    (pool): MaxPool2d(kernel_size=3, stride=2, padding=1, dilation=1, ceil_mode=False)\n",
      "    (fc1): Linear(in_features=768, out_features=512, bias=True)\n",
      "    (fc3): Linear(in_features=512, out_features=10, bias=True)\n",
      "    (dropout1): Dropout(p=0.5, inplace=False)\n",
      "    (dropout2): Dropout(p=0.25, inplace=False)\n",
      "  )\n",
      "  (criterion): NLLLoss()\n",
      ")\n"
     ]
    },
    {
     "data": {
      "application/vnd.jupyter.widget-view+json": {
       "model_id": "a1f07d46f4d348e28912be6d94b8678a",
       "version_major": 2,
       "version_minor": 0
      },
      "text/plain": [
       "HBox(children=(IntProgress(value=0, max=160), HTML(value='')))"
      ]
     },
     "metadata": {},
     "output_type": "display_data"
    },
    {
     "name": "stdout",
     "output_type": "stream",
     "text": [
      "\n",
      "epoch: 1 | global_step : 160 | run_loss : 0.0018 | run_acc : 32.295000%\n",
      "epoch: 1 | global_step : 160 | val_loss : 0.0019 | val_acc : 43.932500%\n"
     ]
    },
    {
     "data": {
      "application/vnd.jupyter.widget-view+json": {
       "model_id": "7cafe9245133496db4120cac5ff3715b",
       "version_major": 2,
       "version_minor": 0
      },
      "text/plain": [
       "HBox(children=(IntProgress(value=0, max=160), HTML(value='')))"
      ]
     },
     "metadata": {},
     "output_type": "display_data"
    },
    {
     "name": "stdout",
     "output_type": "stream",
     "text": [
      "\n",
      "epoch: 2 | global_step : 320 | run_loss : 0.0014 | run_acc : 49.782500%\n",
      "epoch: 2 | global_step : 320 | val_loss : 0.0016 | val_acc : 54.900000%\n"
     ]
    },
    {
     "data": {
      "application/vnd.jupyter.widget-view+json": {
       "model_id": "97f69f9541674feabbf1fdc4f50f85a4",
       "version_major": 2,
       "version_minor": 0
      },
      "text/plain": [
       "HBox(children=(IntProgress(value=0, max=160), HTML(value='')))"
      ]
     },
     "metadata": {},
     "output_type": "display_data"
    },
    {
     "name": "stdout",
     "output_type": "stream",
     "text": [
      "\n",
      "epoch: 3 | global_step : 480 | run_loss : 0.0012 | run_acc : 58.035000%\n",
      "epoch: 3 | global_step : 480 | val_loss : 0.0015 | val_acc : 60.157500%\n"
     ]
    },
    {
     "data": {
      "application/vnd.jupyter.widget-view+json": {
       "model_id": "6cc7579301714d128cedfea29b44b5b9",
       "version_major": 2,
       "version_minor": 0
      },
      "text/plain": [
       "HBox(children=(IntProgress(value=0, max=160), HTML(value='')))"
      ]
     },
     "metadata": {},
     "output_type": "display_data"
    },
    {
     "name": "stdout",
     "output_type": "stream",
     "text": [
      "\n",
      "epoch: 4 | global_step : 640 | run_loss : 0.0010 | run_acc : 62.588125%\n",
      "epoch: 4 | global_step : 640 | val_loss : 0.0014 | val_acc : 62.682500%\n"
     ]
    },
    {
     "data": {
      "application/vnd.jupyter.widget-view+json": {
       "model_id": "2539f2e67f3c4150b5cc11364ec04b0f",
       "version_major": 2,
       "version_minor": 0
      },
      "text/plain": [
       "HBox(children=(IntProgress(value=0, max=160), HTML(value='')))"
      ]
     },
     "metadata": {},
     "output_type": "display_data"
    },
    {
     "name": "stdout",
     "output_type": "stream",
     "text": [
      "\n",
      "epoch: 5 | global_step : 800 | run_loss : 0.0010 | run_acc : 65.570625%\n",
      "epoch: 5 | global_step : 800 | val_loss : 0.0013 | val_acc : 66.212500%\n"
     ]
    },
    {
     "data": {
      "application/vnd.jupyter.widget-view+json": {
       "model_id": "78d51bf4e52947cd9abb7a85ea345b81",
       "version_major": 2,
       "version_minor": 0
      },
      "text/plain": [
       "HBox(children=(IntProgress(value=0, max=160), HTML(value='')))"
      ]
     },
     "metadata": {},
     "output_type": "display_data"
    },
    {
     "name": "stdout",
     "output_type": "stream",
     "text": [
      "\n",
      "epoch: 6 | global_step : 960 | run_loss : 0.0009 | run_acc : 67.996250%\n",
      "epoch: 6 | global_step : 960 | val_loss : 0.0013 | val_acc : 67.092500%\n"
     ]
    },
    {
     "data": {
      "application/vnd.jupyter.widget-view+json": {
       "model_id": "def21ba6296847ffb1594985d500d17e",
       "version_major": 2,
       "version_minor": 0
      },
      "text/plain": [
       "HBox(children=(IntProgress(value=0, max=160), HTML(value='')))"
      ]
     },
     "metadata": {},
     "output_type": "display_data"
    },
    {
     "name": "stdout",
     "output_type": "stream",
     "text": [
      "\n",
      "epoch: 7 | global_step : 1120 | run_loss : 0.0009 | run_acc : 69.401250%\n",
      "epoch: 7 | global_step : 1120 | val_loss : 0.0013 | val_acc : 68.555000%\n"
     ]
    },
    {
     "data": {
      "application/vnd.jupyter.widget-view+json": {
       "model_id": "b52165f429224652ae815ed8ff3d0c28",
       "version_major": 2,
       "version_minor": 0
      },
      "text/plain": [
       "HBox(children=(IntProgress(value=0, max=160), HTML(value='')))"
      ]
     },
     "metadata": {},
     "output_type": "display_data"
    },
    {
     "name": "stdout",
     "output_type": "stream",
     "text": [
      "\n",
      "epoch: 8 | global_step : 1280 | run_loss : 0.0008 | run_acc : 70.807500%\n",
      "epoch: 8 | global_step : 1280 | val_loss : 0.0012 | val_acc : 69.412500%\n"
     ]
    },
    {
     "data": {
      "application/vnd.jupyter.widget-view+json": {
       "model_id": "1b6cd0438c234b039d0bb296ab85a2bf",
       "version_major": 2,
       "version_minor": 0
      },
      "text/plain": [
       "HBox(children=(IntProgress(value=0, max=160), HTML(value='')))"
      ]
     },
     "metadata": {},
     "output_type": "display_data"
    },
    {
     "name": "stdout",
     "output_type": "stream",
     "text": [
      "\n",
      "epoch: 9 | global_step : 1440 | run_loss : 0.0008 | run_acc : 71.992500%\n",
      "epoch: 9 | global_step : 1440 | val_loss : 0.0012 | val_acc : 70.785000%\n"
     ]
    },
    {
     "data": {
      "application/vnd.jupyter.widget-view+json": {
       "model_id": "473f1431db3447158823bd40f94c7f09",
       "version_major": 2,
       "version_minor": 0
      },
      "text/plain": [
       "HBox(children=(IntProgress(value=0, max=160), HTML(value='')))"
      ]
     },
     "metadata": {},
     "output_type": "display_data"
    },
    {
     "name": "stdout",
     "output_type": "stream",
     "text": [
      "\n",
      "epoch: 10 | global_step : 1600 | run_loss : 0.0008 | run_acc : 73.003750%\n",
      "epoch: 10 | global_step : 1600 | val_loss : 0.0011 | val_acc : 72.505000%\n"
     ]
    },
    {
     "data": {
      "application/vnd.jupyter.widget-view+json": {
       "model_id": "611c0832cc0e49b1a45d6d07e59b908c",
       "version_major": 2,
       "version_minor": 0
      },
      "text/plain": [
       "HBox(children=(IntProgress(value=0, max=160), HTML(value='')))"
      ]
     },
     "metadata": {},
     "output_type": "display_data"
    },
    {
     "name": "stdout",
     "output_type": "stream",
     "text": [
      "\n",
      "epoch: 11 | global_step : 1760 | run_loss : 0.0007 | run_acc : 74.153750%\n",
      "epoch: 11 | global_step : 1760 | val_loss : 0.0011 | val_acc : 72.420000%\n"
     ]
    },
    {
     "data": {
      "application/vnd.jupyter.widget-view+json": {
       "model_id": "1d771d3b29094941ae5440e7b6244f94",
       "version_major": 2,
       "version_minor": 0
      },
      "text/plain": [
       "HBox(children=(IntProgress(value=0, max=160), HTML(value='')))"
      ]
     },
     "metadata": {},
     "output_type": "display_data"
    },
    {
     "name": "stdout",
     "output_type": "stream",
     "text": [
      "\n",
      "epoch: 12 | global_step : 1920 | run_loss : 0.0007 | run_acc : 74.800625%\n",
      "epoch: 12 | global_step : 1920 | val_loss : 0.0010 | val_acc : 73.002500%\n"
     ]
    },
    {
     "data": {
      "application/vnd.jupyter.widget-view+json": {
       "model_id": "833674c8e46843e6911cdb95e238549c",
       "version_major": 2,
       "version_minor": 0
      },
      "text/plain": [
       "HBox(children=(IntProgress(value=0, max=160), HTML(value='')))"
      ]
     },
     "metadata": {},
     "output_type": "display_data"
    },
    {
     "name": "stdout",
     "output_type": "stream",
     "text": [
      "\n",
      "epoch: 13 | global_step : 2080 | run_loss : 0.0007 | run_acc : 75.586875%\n",
      "epoch: 13 | global_step : 2080 | val_loss : 0.0011 | val_acc : 71.670000%\n"
     ]
    },
    {
     "data": {
      "application/vnd.jupyter.widget-view+json": {
       "model_id": "09e522aeada340a1afa338dd7b10dee0",
       "version_major": 2,
       "version_minor": 0
      },
      "text/plain": [
       "HBox(children=(IntProgress(value=0, max=160), HTML(value='')))"
      ]
     },
     "metadata": {},
     "output_type": "display_data"
    },
    {
     "name": "stdout",
     "output_type": "stream",
     "text": [
      "\n",
      "epoch: 14 | global_step : 2240 | run_loss : 0.0007 | run_acc : 76.537500%\n",
      "epoch: 14 | global_step : 2240 | val_loss : 0.0010 | val_acc : 73.147500%\n"
     ]
    },
    {
     "data": {
      "application/vnd.jupyter.widget-view+json": {
       "model_id": "17a06c336c594b9db022ab798c3ae90a",
       "version_major": 2,
       "version_minor": 0
      },
      "text/plain": [
       "HBox(children=(IntProgress(value=0, max=160), HTML(value='')))"
      ]
     },
     "metadata": {},
     "output_type": "display_data"
    },
    {
     "name": "stdout",
     "output_type": "stream",
     "text": [
      "\n",
      "epoch: 15 | global_step : 2400 | run_loss : 0.0006 | run_acc : 76.938125%\n",
      "epoch: 15 | global_step : 2400 | val_loss : 0.0010 | val_acc : 73.310000%\n"
     ]
    },
    {
     "data": {
      "application/vnd.jupyter.widget-view+json": {
       "model_id": "f6297c9d27ef466bbb181cb0dcbcdbbf",
       "version_major": 2,
       "version_minor": 0
      },
      "text/plain": [
       "HBox(children=(IntProgress(value=0, max=160), HTML(value='')))"
      ]
     },
     "metadata": {},
     "output_type": "display_data"
    },
    {
     "name": "stdout",
     "output_type": "stream",
     "text": [
      "\n",
      "epoch: 16 | global_step : 2560 | run_loss : 0.0006 | run_acc : 77.472500%\n",
      "epoch: 16 | global_step : 2560 | val_loss : 0.0010 | val_acc : 73.762500%\n"
     ]
    },
    {
     "data": {
      "application/vnd.jupyter.widget-view+json": {
       "model_id": "e94a70c118b74a9484a5c195d1447674",
       "version_major": 2,
       "version_minor": 0
      },
      "text/plain": [
       "HBox(children=(IntProgress(value=0, max=160), HTML(value='')))"
      ]
     },
     "metadata": {},
     "output_type": "display_data"
    },
    {
     "name": "stdout",
     "output_type": "stream",
     "text": [
      "\n",
      "epoch: 17 | global_step : 2720 | run_loss : 0.0006 | run_acc : 77.926875%\n",
      "epoch: 17 | global_step : 2720 | val_loss : 0.0009 | val_acc : 74.835000%\n"
     ]
    },
    {
     "data": {
      "application/vnd.jupyter.widget-view+json": {
       "model_id": "e3e0f16935ef4b51b59d906b3cc6675c",
       "version_major": 2,
       "version_minor": 0
      },
      "text/plain": [
       "HBox(children=(IntProgress(value=0, max=160), HTML(value='')))"
      ]
     },
     "metadata": {},
     "output_type": "display_data"
    },
    {
     "name": "stdout",
     "output_type": "stream",
     "text": [
      "\n",
      "epoch: 18 | global_step : 2880 | run_loss : 0.0006 | run_acc : 78.526875%\n",
      "epoch: 18 | global_step : 2880 | val_loss : 0.0010 | val_acc : 75.055000%\n"
     ]
    },
    {
     "data": {
      "application/vnd.jupyter.widget-view+json": {
       "model_id": "2b03820eff084d4fa769c337ba1f609f",
       "version_major": 2,
       "version_minor": 0
      },
      "text/plain": [
       "HBox(children=(IntProgress(value=0, max=160), HTML(value='')))"
      ]
     },
     "metadata": {},
     "output_type": "display_data"
    },
    {
     "name": "stdout",
     "output_type": "stream",
     "text": [
      "\n",
      "epoch: 19 | global_step : 3040 | run_loss : 0.0006 | run_acc : 78.754375%\n",
      "epoch: 19 | global_step : 3040 | val_loss : 0.0009 | val_acc : 75.102500%\n"
     ]
    },
    {
     "data": {
      "application/vnd.jupyter.widget-view+json": {
       "model_id": "1d26893cfab6454f959669464a78111e",
       "version_major": 2,
       "version_minor": 0
      },
      "text/plain": [
       "HBox(children=(IntProgress(value=0, max=160), HTML(value='')))"
      ]
     },
     "metadata": {},
     "output_type": "display_data"
    },
    {
     "name": "stdout",
     "output_type": "stream",
     "text": [
      "\n",
      "epoch: 20 | global_step : 3200 | run_loss : 0.0006 | run_acc : 79.175000%\n",
      "epoch: 20 | global_step : 3200 | val_loss : 0.0009 | val_acc : 75.150000%\n"
     ]
    },
    {
     "data": {
      "application/vnd.jupyter.widget-view+json": {
       "model_id": "2e85eb4fcb2445c7be5efbfb0925a6f8",
       "version_major": 2,
       "version_minor": 0
      },
      "text/plain": [
       "HBox(children=(IntProgress(value=0, max=160), HTML(value='')))"
      ]
     },
     "metadata": {},
     "output_type": "display_data"
    },
    {
     "name": "stdout",
     "output_type": "stream",
     "text": [
      "\n",
      "epoch: 21 | global_step : 3360 | run_loss : 0.0006 | run_acc : 79.597500%\n",
      "epoch: 21 | global_step : 3360 | val_loss : 0.0009 | val_acc : 74.052500%\n"
     ]
    },
    {
     "data": {
      "application/vnd.jupyter.widget-view+json": {
       "model_id": "07a3e80b0b6640d7aa3b185d8b6445c2",
       "version_major": 2,
       "version_minor": 0
      },
      "text/plain": [
       "HBox(children=(IntProgress(value=0, max=160), HTML(value='')))"
      ]
     },
     "metadata": {},
     "output_type": "display_data"
    },
    {
     "name": "stdout",
     "output_type": "stream",
     "text": [
      "\n",
      "epoch: 22 | global_step : 3520 | run_loss : 0.0006 | run_acc : 79.906250%\n",
      "epoch: 22 | global_step : 3520 | val_loss : 0.0009 | val_acc : 75.462500%\n"
     ]
    },
    {
     "data": {
      "application/vnd.jupyter.widget-view+json": {
       "model_id": "3a89a04fa062437aaa92a33cb52b0c88",
       "version_major": 2,
       "version_minor": 0
      },
      "text/plain": [
       "HBox(children=(IntProgress(value=0, max=160), HTML(value='')))"
      ]
     },
     "metadata": {},
     "output_type": "display_data"
    },
    {
     "name": "stdout",
     "output_type": "stream",
     "text": [
      "\n",
      "epoch: 23 | global_step : 3680 | run_loss : 0.0005 | run_acc : 80.213750%\n",
      "epoch: 23 | global_step : 3680 | val_loss : 0.0009 | val_acc : 74.880000%\n"
     ]
    },
    {
     "data": {
      "application/vnd.jupyter.widget-view+json": {
       "model_id": "1f6e69fdad6049e18c5744d26bd16208",
       "version_major": 2,
       "version_minor": 0
      },
      "text/plain": [
       "HBox(children=(IntProgress(value=0, max=160), HTML(value='')))"
      ]
     },
     "metadata": {},
     "output_type": "display_data"
    },
    {
     "name": "stdout",
     "output_type": "stream",
     "text": [
      "\n",
      "epoch: 24 | global_step : 3840 | run_loss : 0.0005 | run_acc : 80.737500%\n",
      "epoch: 24 | global_step : 3840 | val_loss : 0.0009 | val_acc : 76.230000%\n"
     ]
    },
    {
     "data": {
      "application/vnd.jupyter.widget-view+json": {
       "model_id": "695974eba39d4b58bc04dc9f2abf41de",
       "version_major": 2,
       "version_minor": 0
      },
      "text/plain": [
       "HBox(children=(IntProgress(value=0, max=160), HTML(value='')))"
      ]
     },
     "metadata": {},
     "output_type": "display_data"
    },
    {
     "name": "stdout",
     "output_type": "stream",
     "text": [
      "\n",
      "epoch: 25 | global_step : 4000 | run_loss : 0.0005 | run_acc : 80.980625%\n",
      "epoch: 25 | global_step : 4000 | val_loss : 0.0009 | val_acc : 75.407500%\n"
     ]
    },
    {
     "data": {
      "application/vnd.jupyter.widget-view+json": {
       "model_id": "6aeff9a3ad6243bca515e36dc6f04295",
       "version_major": 2,
       "version_minor": 0
      },
      "text/plain": [
       "HBox(children=(IntProgress(value=0, max=160), HTML(value='')))"
      ]
     },
     "metadata": {},
     "output_type": "display_data"
    },
    {
     "name": "stdout",
     "output_type": "stream",
     "text": [
      "\n",
      "epoch: 26 | global_step : 4160 | run_loss : 0.0005 | run_acc : 81.469375%\n",
      "epoch: 26 | global_step : 4160 | val_loss : 0.0009 | val_acc : 76.077500%\n"
     ]
    },
    {
     "data": {
      "application/vnd.jupyter.widget-view+json": {
       "model_id": "dadd9a759eb54314a6849c29fda08cd9",
       "version_major": 2,
       "version_minor": 0
      },
      "text/plain": [
       "HBox(children=(IntProgress(value=0, max=160), HTML(value='')))"
      ]
     },
     "metadata": {},
     "output_type": "display_data"
    },
    {
     "name": "stdout",
     "output_type": "stream",
     "text": [
      "\n",
      "epoch: 27 | global_step : 4320 | run_loss : 0.0005 | run_acc : 81.558750%\n",
      "epoch: 27 | global_step : 4320 | val_loss : 0.0008 | val_acc : 76.277500%\n"
     ]
    },
    {
     "data": {
      "application/vnd.jupyter.widget-view+json": {
       "model_id": "2bfe16ad141a47b1bd778904a7076377",
       "version_major": 2,
       "version_minor": 0
      },
      "text/plain": [
       "HBox(children=(IntProgress(value=0, max=160), HTML(value='')))"
      ]
     },
     "metadata": {},
     "output_type": "display_data"
    },
    {
     "name": "stdout",
     "output_type": "stream",
     "text": [
      "\n",
      "epoch: 28 | global_step : 4480 | run_loss : 0.0005 | run_acc : 81.940625%\n",
      "epoch: 28 | global_step : 4480 | val_loss : 0.0008 | val_acc : 76.265000%\n"
     ]
    },
    {
     "data": {
      "application/vnd.jupyter.widget-view+json": {
       "model_id": "ee418fb6a75e4c22ac9a0e743cf76df1",
       "version_major": 2,
       "version_minor": 0
      },
      "text/plain": [
       "HBox(children=(IntProgress(value=0, max=160), HTML(value='')))"
      ]
     },
     "metadata": {},
     "output_type": "display_data"
    },
    {
     "name": "stdout",
     "output_type": "stream",
     "text": [
      "\n",
      "epoch: 29 | global_step : 4640 | run_loss : 0.0005 | run_acc : 82.180000%\n",
      "epoch: 29 | global_step : 4640 | val_loss : 0.0009 | val_acc : 76.170000%\n"
     ]
    },
    {
     "data": {
      "application/vnd.jupyter.widget-view+json": {
       "model_id": "3e5a0ceb42c1463483d035cf957d907b",
       "version_major": 2,
       "version_minor": 0
      },
      "text/plain": [
       "HBox(children=(IntProgress(value=0, max=160), HTML(value='')))"
      ]
     },
     "metadata": {},
     "output_type": "display_data"
    },
    {
     "name": "stdout",
     "output_type": "stream",
     "text": [
      "\n",
      "epoch: 30 | global_step : 4800 | run_loss : 0.0005 | run_acc : 82.245625%\n",
      "epoch: 30 | global_step : 4800 | val_loss : 0.0008 | val_acc : 76.930000%\n"
     ]
    },
    {
     "data": {
      "application/vnd.jupyter.widget-view+json": {
       "model_id": "9d8de9b46fd24394bbbb5c29161f7f9e",
       "version_major": 2,
       "version_minor": 0
      },
      "text/plain": [
       "HBox(children=(IntProgress(value=0, max=160), HTML(value='')))"
      ]
     },
     "metadata": {},
     "output_type": "display_data"
    },
    {
     "name": "stdout",
     "output_type": "stream",
     "text": [
      "\n",
      "epoch: 31 | global_step : 4960 | run_loss : 0.0005 | run_acc : 82.527500%\n",
      "epoch: 31 | global_step : 4960 | val_loss : 0.0008 | val_acc : 76.197500%\n"
     ]
    },
    {
     "data": {
      "application/vnd.jupyter.widget-view+json": {
       "model_id": "7a3368f1b7e5418ba5db0bff76a5162b",
       "version_major": 2,
       "version_minor": 0
      },
      "text/plain": [
       "HBox(children=(IntProgress(value=0, max=160), HTML(value='')))"
      ]
     },
     "metadata": {},
     "output_type": "display_data"
    },
    {
     "name": "stdout",
     "output_type": "stream",
     "text": [
      "\n",
      "epoch: 32 | global_step : 5120 | run_loss : 0.0005 | run_acc : 83.107500%\n",
      "epoch: 32 | global_step : 5120 | val_loss : 0.0008 | val_acc : 76.830000%\n"
     ]
    },
    {
     "data": {
      "application/vnd.jupyter.widget-view+json": {
       "model_id": "34401f6e46f6451bb96880d7c93369f0",
       "version_major": 2,
       "version_minor": 0
      },
      "text/plain": [
       "HBox(children=(IntProgress(value=0, max=160), HTML(value='')))"
      ]
     },
     "metadata": {},
     "output_type": "display_data"
    },
    {
     "name": "stdout",
     "output_type": "stream",
     "text": [
      "\n",
      "epoch: 33 | global_step : 5280 | run_loss : 0.0005 | run_acc : 82.950000%\n",
      "epoch: 33 | global_step : 5280 | val_loss : 0.0008 | val_acc : 77.532500%\n"
     ]
    },
    {
     "data": {
      "application/vnd.jupyter.widget-view+json": {
       "model_id": "89ee4548400348be86b0558069c79179",
       "version_major": 2,
       "version_minor": 0
      },
      "text/plain": [
       "HBox(children=(IntProgress(value=0, max=160), HTML(value='')))"
      ]
     },
     "metadata": {},
     "output_type": "display_data"
    },
    {
     "name": "stdout",
     "output_type": "stream",
     "text": [
      "\n",
      "epoch: 34 | global_step : 5440 | run_loss : 0.0005 | run_acc : 83.308125%\n",
      "epoch: 34 | global_step : 5440 | val_loss : 0.0008 | val_acc : 76.587500%\n"
     ]
    },
    {
     "data": {
      "application/vnd.jupyter.widget-view+json": {
       "model_id": "ebf44018c7f6415fb35ff8ae2263c7b4",
       "version_major": 2,
       "version_minor": 0
      },
      "text/plain": [
       "HBox(children=(IntProgress(value=0, max=160), HTML(value='')))"
      ]
     },
     "metadata": {},
     "output_type": "display_data"
    },
    {
     "name": "stdout",
     "output_type": "stream",
     "text": [
      "\n",
      "epoch: 35 | global_step : 5600 | run_loss : 0.0005 | run_acc : 83.470000%\n",
      "epoch: 35 | global_step : 5600 | val_loss : 0.0008 | val_acc : 76.967500%\n"
     ]
    },
    {
     "data": {
      "application/vnd.jupyter.widget-view+json": {
       "model_id": "22e5411ad8324dca8214cbb787524694",
       "version_major": 2,
       "version_minor": 0
      },
      "text/plain": [
       "HBox(children=(IntProgress(value=0, max=160), HTML(value='')))"
      ]
     },
     "metadata": {},
     "output_type": "display_data"
    },
    {
     "name": "stdout",
     "output_type": "stream",
     "text": [
      "\n",
      "epoch: 36 | global_step : 5760 | run_loss : 0.0004 | run_acc : 83.722500%\n",
      "epoch: 36 | global_step : 5760 | val_loss : 0.0008 | val_acc : 77.292500%\n"
     ]
    },
    {
     "data": {
      "application/vnd.jupyter.widget-view+json": {
       "model_id": "00ec86d584544423a714e07706470fcb",
       "version_major": 2,
       "version_minor": 0
      },
      "text/plain": [
       "HBox(children=(IntProgress(value=0, max=160), HTML(value='')))"
      ]
     },
     "metadata": {},
     "output_type": "display_data"
    },
    {
     "name": "stdout",
     "output_type": "stream",
     "text": [
      "\n",
      "epoch: 37 | global_step : 5920 | run_loss : 0.0004 | run_acc : 83.813125%\n",
      "epoch: 37 | global_step : 5920 | val_loss : 0.0008 | val_acc : 77.432500%\n"
     ]
    },
    {
     "data": {
      "application/vnd.jupyter.widget-view+json": {
       "model_id": "9c5358329c324c7d91d643423082df39",
       "version_major": 2,
       "version_minor": 0
      },
      "text/plain": [
       "HBox(children=(IntProgress(value=0, max=160), HTML(value='')))"
      ]
     },
     "metadata": {},
     "output_type": "display_data"
    },
    {
     "name": "stdout",
     "output_type": "stream",
     "text": [
      "\n",
      "epoch: 38 | global_step : 6080 | run_loss : 0.0004 | run_acc : 84.128125%\n",
      "epoch: 38 | global_step : 6080 | val_loss : 0.0008 | val_acc : 77.545000%\n"
     ]
    },
    {
     "data": {
      "application/vnd.jupyter.widget-view+json": {
       "model_id": "048196c36e4e40d4a4abbc0d437b1ca9",
       "version_major": 2,
       "version_minor": 0
      },
      "text/plain": [
       "HBox(children=(IntProgress(value=0, max=160), HTML(value='')))"
      ]
     },
     "metadata": {},
     "output_type": "display_data"
    },
    {
     "name": "stdout",
     "output_type": "stream",
     "text": [
      "\n",
      "epoch: 39 | global_step : 6240 | run_loss : 0.0004 | run_acc : 84.330625%\n",
      "epoch: 39 | global_step : 6240 | val_loss : 0.0008 | val_acc : 76.775000%\n"
     ]
    },
    {
     "data": {
      "application/vnd.jupyter.widget-view+json": {
       "model_id": "03d85ff0d8e846e791f0c9d0531e00de",
       "version_major": 2,
       "version_minor": 0
      },
      "text/plain": [
       "HBox(children=(IntProgress(value=0, max=160), HTML(value='')))"
      ]
     },
     "metadata": {},
     "output_type": "display_data"
    },
    {
     "name": "stdout",
     "output_type": "stream",
     "text": [
      "\n",
      "epoch: 40 | global_step : 6400 | run_loss : 0.0004 | run_acc : 84.363750%\n",
      "epoch: 40 | global_step : 6400 | val_loss : 0.0008 | val_acc : 77.440000%\n"
     ]
    },
    {
     "data": {
      "application/vnd.jupyter.widget-view+json": {
       "model_id": "a6aea5bc42444d1fa6f38d9fe3afcbca",
       "version_major": 2,
       "version_minor": 0
      },
      "text/plain": [
       "HBox(children=(IntProgress(value=0, max=160), HTML(value='')))"
      ]
     },
     "metadata": {},
     "output_type": "display_data"
    },
    {
     "name": "stdout",
     "output_type": "stream",
     "text": [
      "\n",
      "epoch: 41 | global_step : 6560 | run_loss : 0.0004 | run_acc : 84.739375%\n",
      "epoch: 41 | global_step : 6560 | val_loss : 0.0008 | val_acc : 77.362500%\n"
     ]
    },
    {
     "data": {
      "application/vnd.jupyter.widget-view+json": {
       "model_id": "70ad41b68126405393ebac95a076f4c3",
       "version_major": 2,
       "version_minor": 0
      },
      "text/plain": [
       "HBox(children=(IntProgress(value=0, max=160), HTML(value='')))"
      ]
     },
     "metadata": {},
     "output_type": "display_data"
    },
    {
     "name": "stdout",
     "output_type": "stream",
     "text": [
      "\n",
      "epoch: 42 | global_step : 6720 | run_loss : 0.0004 | run_acc : 84.800000%\n",
      "epoch: 42 | global_step : 6720 | val_loss : 0.0008 | val_acc : 78.080000%\n"
     ]
    },
    {
     "data": {
      "application/vnd.jupyter.widget-view+json": {
       "model_id": "4480e3360f064e4aa6bf11b9354becb5",
       "version_major": 2,
       "version_minor": 0
      },
      "text/plain": [
       "HBox(children=(IntProgress(value=0, max=160), HTML(value='')))"
      ]
     },
     "metadata": {},
     "output_type": "display_data"
    },
    {
     "name": "stdout",
     "output_type": "stream",
     "text": [
      "\n",
      "epoch: 43 | global_step : 6880 | run_loss : 0.0004 | run_acc : 85.001250%\n",
      "epoch: 43 | global_step : 6880 | val_loss : 0.0008 | val_acc : 77.722500%\n"
     ]
    },
    {
     "data": {
      "application/vnd.jupyter.widget-view+json": {
       "model_id": "6a4362f4046d4608b3127f605c237afe",
       "version_major": 2,
       "version_minor": 0
      },
      "text/plain": [
       "HBox(children=(IntProgress(value=0, max=160), HTML(value='')))"
      ]
     },
     "metadata": {},
     "output_type": "display_data"
    },
    {
     "name": "stdout",
     "output_type": "stream",
     "text": [
      "\n",
      "epoch: 44 | global_step : 7040 | run_loss : 0.0004 | run_acc : 85.057500%\n",
      "epoch: 44 | global_step : 7040 | val_loss : 0.0008 | val_acc : 77.762500%\n"
     ]
    },
    {
     "data": {
      "application/vnd.jupyter.widget-view+json": {
       "model_id": "fe59f9de845e4c2d98559690a274882a",
       "version_major": 2,
       "version_minor": 0
      },
      "text/plain": [
       "HBox(children=(IntProgress(value=0, max=160), HTML(value='')))"
      ]
     },
     "metadata": {},
     "output_type": "display_data"
    },
    {
     "name": "stdout",
     "output_type": "stream",
     "text": [
      "\n",
      "epoch: 45 | global_step : 7200 | run_loss : 0.0004 | run_acc : 85.152500%\n",
      "epoch: 45 | global_step : 7200 | val_loss : 0.0007 | val_acc : 78.150000%\n"
     ]
    },
    {
     "data": {
      "application/vnd.jupyter.widget-view+json": {
       "model_id": "24579336cd0444eeba51438c2a741a22",
       "version_major": 2,
       "version_minor": 0
      },
      "text/plain": [
       "HBox(children=(IntProgress(value=0, max=160), HTML(value='')))"
      ]
     },
     "metadata": {},
     "output_type": "display_data"
    },
    {
     "name": "stdout",
     "output_type": "stream",
     "text": [
      "\n",
      "epoch: 46 | global_step : 7360 | run_loss : 0.0004 | run_acc : 85.170000%\n",
      "epoch: 46 | global_step : 7360 | val_loss : 0.0008 | val_acc : 77.915000%\n"
     ]
    },
    {
     "data": {
      "application/vnd.jupyter.widget-view+json": {
       "model_id": "170dcff803ee463d9c613c2c367d3b20",
       "version_major": 2,
       "version_minor": 0
      },
      "text/plain": [
       "HBox(children=(IntProgress(value=0, max=160), HTML(value='')))"
      ]
     },
     "metadata": {},
     "output_type": "display_data"
    },
    {
     "name": "stdout",
     "output_type": "stream",
     "text": [
      "\n",
      "epoch: 47 | global_step : 7520 | run_loss : 0.0004 | run_acc : 85.562500%\n",
      "epoch: 47 | global_step : 7520 | val_loss : 0.0008 | val_acc : 78.100000%\n",
      "===============================================================================\n",
      "test_loss : 0.0007 | test_acc : 80.640000%\n",
      "===============================================================================\n"
     ]
    },
    {
     "data": {
      "image/png": "[encoded data removed]",
      "text/plain": [
       "<Figure size 864x288 with 2 Axes>"
      ]
     },
     "metadata": {
      "needs_background": "light"
     },
     "output_type": "display_data"
    }
   ],
   "source": [
    "'''\n",
    "batch_size = 1000\n",
    "데이터 : 20만개\n",
    "conv5 768 -> 512 -> 10\n",
    "\n",
    "'''\n",
    "\n",
    "random_seed = 123\n",
    "np.random.seed(random_seed)\n",
    "torch.manual_seed(random_seed)\n",
    "random.seed(random_seed)\n",
    "\n",
    "gc.collect()\n",
    "torch.cuda.empty_cache()\n",
    "\n",
    "myT = Train(learning_rate=1e-3)\n",
    "print(myT)\n",
    "myT.train(dataloader, epochs=47) #### 81.58%  67에폭\n",
    "\n",
    "print(\"===============================================================================\")\n",
    "test_loss, test_acc = myT.predict(testloader, False)\n",
    "print(\"test_loss : {:.4f} | test_acc : {:%}\".format(test_loss, test_acc))\n",
    "print(\"===============================================================================\")\n",
    "\n",
    "myT.print_graph()"
   ]
  },
  {
   "cell_type": "markdown",
   "metadata": {},
   "source": [
    "## * 다른 버전 테스트 "
   ]
  }
 ],
 "metadata": {
  "kernelspec": {
   "display_name": "Python 3",
   "language": "python",
   "name": "python3"
  },
  "language_info": {
   "codemirror_mode": {
    "name": "ipython",
    "version": 3
   },
   "file_extension": ".py",
   "mimetype": "text/x-python",
   "name": "python",
   "nbconvert_exporter": "python",
   "pygments_lexer": "ipython3",
   "version": "3.6.8"
  }
 },
 "nbformat": 4,
 "nbformat_minor": 2
}
