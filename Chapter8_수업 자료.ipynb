{
  "nbformat": 4,
  "nbformat_minor": 0,
  "metadata": {
    "colab": {
      "name": "Untitled0.ipynb",
      "provenance": [],
      "authorship_tag": "ABX9TyPQemV5h7bJ5Rv4wE7G0zXa",
      "include_colab_link": true
    },
    "kernelspec": {
      "name": "python3",
      "display_name": "Python 3"
    },
    "language_info": {
      "name": "python"
    }
  },
  "cells": [
    {
      "cell_type": "markdown",
      "metadata": {
        "id": "view-in-github",
        "colab_type": "text"
      },
      "source": [
        "<a href=\"https://colab.research.google.com/github/music-ai-644/AI_Study_2022/blob/main/Chapter8_%EC%88%98%EC%97%85%20%EC%9E%90%EB%A3%8C.ipynb\" target=\"_parent\"><img src=\"https://colab.research.google.com/assets/colab-badge.svg\" alt=\"Open In Colab\"/></a>"
      ]
    },
    {
      "cell_type": "code",
      "execution_count": 1,
      "metadata": {
        "id": "IMRHgENqVdcU"
      },
      "outputs": [],
      "source": [
        "import matplotlib.pyplot as plt \n",
        "import tensorflow as tf\n",
        "import numpy as np "
      ]
    },
    {
      "cell_type": "code",
      "source": [
        "(x_train_all, y_train_all), (x_test, y_test) = tf.keras.datasets.mnist.load_data()"
      ],
      "metadata": {
        "id": "AeZiHPuBVgce",
        "colab": {
          "base_uri": "https://localhost:8080/"
        },
        "outputId": "72818e0c-4b44-4810-ae8c-adc0fd958d77"
      },
      "execution_count": 2,
      "outputs": [
        {
          "output_type": "stream",
          "name": "stdout",
          "text": [
            "Downloading data from https://storage.googleapis.com/tensorflow/tf-keras-datasets/mnist.npz\n",
            "11493376/11490434 [==============================] - 0s 0us/step\n",
            "11501568/11490434 [==============================] - 0s 0us/step\n"
          ]
        }
      ]
    },
    {
      "cell_type": "code",
      "source": [
        "fig = plt.figure(figsize=(15, 4))\n",
        "\n",
        "for i in range(10):\n",
        "    plottable_image = np.reshape(x_train_all[i], (28, 28))\n",
        "    ax = fig.add_subplot(2, 5, i+1)\n",
        "    ax.imshow(plottable_image, cmap='gray_r')"
      ],
      "metadata": {
        "colab": {
          "base_uri": "https://localhost:8080/",
          "height": 268
        },
        "id": "KqZcE_KvV7_w",
        "outputId": "e0174193-ad3c-4e9b-9bad-8896d16de24c"
      },
      "execution_count": 3,
      "outputs": [
        {
          "output_type": "display_data",
          "data": {
            "text/plain": [
              "<Figure size 1080x288 with 10 Axes>"
            ],
            "image/png": "[encoded data removed]"
          },
          "metadata": {
            "needs_background": "light"
          }
        }
      ]
    },
    {
      "cell_type": "code",
      "source": [
        "from sklearn.model_selection import train_test_split \n",
        "x_train, x_valid, y_train, y_valid = train_test_split(x_train_all, y_train_all, stratify=y_train_all, test_size=0.2, random_state=42)"
      ],
      "metadata": {
        "id": "6hRrkl0MYjtf"
      },
      "execution_count": 4,
      "outputs": []
    },
    {
      "cell_type": "code",
      "source": [
        "print(\"학습 데이터셋 클래스별 샘플 수 : \", np.bincount(y_train))\n",
        "print(\"평가 데이터셋 클래스별 샘플 수 : \", np.bincount(y_valid))"
      ],
      "metadata": {
        "colab": {
          "base_uri": "https://localhost:8080/"
        },
        "id": "KV8-3RyM77wG",
        "outputId": "02e21c06-9ad6-445f-fca3-af6618ad1ca2"
      },
      "execution_count": 5,
      "outputs": [
        {
          "output_type": "stream",
          "name": "stdout",
          "text": [
            "학습 데이터셋 클래스별 샘플 수 :  [4738 5394 4766 4905 4674 4337 4734 5012 4681 4759]\n",
            "평가 데이터셋 클래스별 샘플 수 :  [1185 1348 1192 1226 1168 1084 1184 1253 1170 1190]\n"
          ]
        }
      ]
    },
    {
      "cell_type": "code",
      "source": [
        "x_train = x_train / 255\n",
        "x_valid = x_valid / 255 \n",
        "x_test = x_test / 255"
      ],
      "metadata": {
        "id": "NhZZk3xO-oD6"
      },
      "execution_count": 6,
      "outputs": []
    },
    {
      "cell_type": "code",
      "source": [
        "y_train_encoded = tf.keras.utils.to_categorical(y_train)\n",
        "y_valid_encoded = tf.keras.utils.to_categorical(y_valid)"
      ],
      "metadata": {
        "id": "vgg4WjtQ-1Uj"
      },
      "execution_count": 7,
      "outputs": []
    },
    {
      "cell_type": "code",
      "source": [
        "import torch\n",
        "x_train_torch = torch.FloatTensor(x_train)\n",
        "y_train_torch = torch.FloatTensor(y_train_encoded)\n",
        "x_valid_torch = torch.FloatTensor(x_valid)\n",
        "y_valid_torch = torch.FloatTensor(y_valid_encoded) \n",
        "x_test_torch = torch.FloatTensor(x_test)\n",
        "y_test_torch = torch.FloatTensor(y_test)"
      ],
      "metadata": {
        "id": "qnQdS3hC-9Y1"
      },
      "execution_count": 8,
      "outputs": []
    },
    {
      "cell_type": "code",
      "source": [
        "import torch.nn as nn\n",
        "from torch.utils.data import Dataset, DataLoader"
      ],
      "metadata": {
        "id": "XQdNujZG-_wB"
      },
      "execution_count": 9,
      "outputs": []
    },
    {
      "cell_type": "code",
      "source": [
        "class MNISTDataset(Dataset):\n",
        "  def __init__(self, x, y):\n",
        "    self.x_data = x\n",
        "    self.y_data = y\n",
        "  \n",
        "  def __getitem__(self, index):\n",
        "    x = self.x_data[index]\n",
        "    y = self.y_data[index]\n",
        "    return x, y\n",
        "  \n",
        "  def collate_fn(self, batch):\n",
        "    x, y = zip(*batch)\n",
        "    return x, y\n",
        "\n",
        "  def __len__(self):\n",
        "    return len(self.x_data)"
      ],
      "metadata": {
        "id": "PeaZr0cW_CaN"
      },
      "execution_count": 10,
      "outputs": []
    },
    {
      "cell_type": "code",
      "source": [
        "dataset = MNISTDataset(x_train_torch, y_train_torch)\n",
        "dataloader = DataLoader(dataset, batch_size=32, shuffle=True, drop_last=True)"
      ],
      "metadata": {
        "id": "x79gTlDC_H8i"
      },
      "execution_count": 11,
      "outputs": []
    },
    {
      "cell_type": "code",
      "source": [
        "from tqdm import tqdm \n",
        "import random \n",
        "\n",
        "random_seed = 123\n",
        "np.random.seed(random_seed)\n",
        "torch.manual_seed(random_seed)\n",
        "random.seed(random_seed)\n",
        "\n",
        "class MyModel(nn.Module):\n",
        "  def __init__(self):\n",
        "    super(MyModel, self).__init__()\n",
        "    self.net = nn.Sequential(\n",
        "        nn.Conv2d(in_channels=1, out_channels=10, kernel_size=3, stride=1, padding='same'),      \n",
        "        nn.ReLU(),\n",
        "        nn.Dropout(0.3),\n",
        "        nn.Conv2d(in_channels=10, out_channels=1, kernel_size=3, stride=1, padding='same'),\n",
        "        nn.ReLU(),\n",
        "        nn.MaxPool2d(kernel_size=3),\n",
        "        nn.Dropout(0.3),\n",
        "    )\n",
        "    \n",
        "    self.linear = nn.Linear(81, 10)\n",
        "  \n",
        "  def forward(self, x):\n",
        "    output = self.net(x)\n",
        "    output = output.view(-1, 1, 81)\n",
        "    output = self.linear(output)\n",
        "    return output "
      ],
      "metadata": {
        "id": "bljjZ8HA_LG6"
      },
      "execution_count": 25,
      "outputs": []
    },
    {
      "cell_type": "code",
      "source": [
        "model = MyModel()\n",
        "optim = torch.optim.Adam(model.parameters(), lr=1e-4)\n",
        "criterion = nn.CrossEntropyLoss()\n",
        "\n",
        "global_step = 0 \n",
        "for epoch in range(10):\n",
        "  t = tqdm(dataloader, ncols=100)\n",
        "  for i, batch in enumerate(t):\n",
        "    x_batch = batch[0]\n",
        "    y_batch = batch[1]\n",
        "    output = model(x_batch.unsqueeze(1))\n",
        "    loss = criterion(output.squeeze(1), y_batch)\n",
        "    model.zero_grad() \n",
        "    optim.zero_grad()\n",
        "    loss.backward()\n",
        "    optim.step()\n",
        "\n",
        "    global_step += 1\n",
        "    t.set_description(\"epoch: {} | global_step: {:8d} | loss: {:.4f}\".format(epoch + 1, global_step, loss))\n",
        "\n",
        "  with torch.no_grad():\n",
        "    model.eval()\n",
        "    predicts = model(x_valid_torch.unsqueeze(1))\n",
        "    predicts = torch.argmax(predicts.squeeze(1), 1)\n",
        "\n",
        "    correct = 0 \n",
        "    for i in range(len(predicts)):\n",
        "      if predicts[i].item() == y_valid[i]:\n",
        "        correct += 1\n",
        "    acc = correct / len(predicts)\n",
        "    print(\"epoch: {} | global_step: {} | valid acc: {:%}\".format(epoch + 1, global_step, acc))\n",
        "    model.train()"
      ],
      "metadata": {
        "id": "7FGy7gh_CG59",
        "outputId": "80a70c41-27a1-41e0-855e-f30c40a8766a",
        "colab": {
          "base_uri": "https://localhost:8080/"
        }
      },
      "execution_count": 31,
      "outputs": [
        {
          "output_type": "stream",
          "name": "stderr",
          "text": [
            "epoch: 1 | global_step:     1500 | loss: 1.3375: 100%|██████████| 1500/1500 [01:12<00:00, 20.65it/s]\n"
          ]
        },
        {
          "output_type": "stream",
          "name": "stdout",
          "text": [
            "epoch: 1 | global_step: 1500 | valid acc: 77.541667%\n"
          ]
        },
        {
          "output_type": "stream",
          "name": "stderr",
          "text": [
            "epoch: 2 | global_step:     3000 | loss: 1.2540: 100%|██████████| 1500/1500 [01:09<00:00, 21.53it/s]\n"
          ]
        },
        {
          "output_type": "stream",
          "name": "stdout",
          "text": [
            "epoch: 2 | global_step: 3000 | valid acc: 82.341667%\n"
          ]
        },
        {
          "output_type": "stream",
          "name": "stderr",
          "text": [
            "epoch: 3 | global_step:     4500 | loss: 0.8398: 100%|██████████| 1500/1500 [01:07<00:00, 22.09it/s]\n"
          ]
        },
        {
          "output_type": "stream",
          "name": "stdout",
          "text": [
            "epoch: 3 | global_step: 4500 | valid acc: 83.941667%\n"
          ]
        },
        {
          "output_type": "stream",
          "name": "stderr",
          "text": [
            "epoch: 4 | global_step:     6000 | loss: 0.5431: 100%|██████████| 1500/1500 [01:09<00:00, 21.60it/s]\n"
          ]
        },
        {
          "output_type": "stream",
          "name": "stdout",
          "text": [
            "epoch: 4 | global_step: 6000 | valid acc: 84.975000%\n"
          ]
        },
        {
          "output_type": "stream",
          "name": "stderr",
          "text": [
            "epoch: 5 | global_step:     7500 | loss: 0.6273: 100%|██████████| 1500/1500 [01:07<00:00, 22.17it/s]\n"
          ]
        },
        {
          "output_type": "stream",
          "name": "stdout",
          "text": [
            "epoch: 5 | global_step: 7500 | valid acc: 85.358333%\n"
          ]
        },
        {
          "output_type": "stream",
          "name": "stderr",
          "text": [
            "epoch: 6 | global_step:     9000 | loss: 0.4324: 100%|██████████| 1500/1500 [01:08<00:00, 21.86it/s]\n"
          ]
        },
        {
          "output_type": "stream",
          "name": "stdout",
          "text": [
            "epoch: 6 | global_step: 9000 | valid acc: 85.883333%\n"
          ]
        },
        {
          "output_type": "stream",
          "name": "stderr",
          "text": [
            "epoch: 7 | global_step:    10500 | loss: 0.4499: 100%|██████████| 1500/1500 [01:09<00:00, 21.73it/s]\n"
          ]
        },
        {
          "output_type": "stream",
          "name": "stdout",
          "text": [
            "epoch: 7 | global_step: 10500 | valid acc: 85.916667%\n"
          ]
        },
        {
          "output_type": "stream",
          "name": "stderr",
          "text": [
            "epoch: 8 | global_step:    12000 | loss: 0.7485: 100%|██████████| 1500/1500 [01:30<00:00, 16.66it/s]\n"
          ]
        },
        {
          "output_type": "stream",
          "name": "stdout",
          "text": [
            "epoch: 8 | global_step: 12000 | valid acc: 86.200000%\n"
          ]
        },
        {
          "output_type": "stream",
          "name": "stderr",
          "text": [
            "epoch: 9 | global_step:    13500 | loss: 1.2479: 100%|██████████| 1500/1500 [01:28<00:00, 16.90it/s]\n"
          ]
        },
        {
          "output_type": "stream",
          "name": "stdout",
          "text": [
            "epoch: 9 | global_step: 13500 | valid acc: 85.908333%\n"
          ]
        },
        {
          "output_type": "stream",
          "name": "stderr",
          "text": [
            "epoch: 10 | global_step:    15000 | loss: 0.8275: 100%|█████████| 1500/1500 [01:29<00:00, 16.72it/s]\n"
          ]
        },
        {
          "output_type": "stream",
          "name": "stdout",
          "text": [
            "epoch: 10 | global_step: 15000 | valid acc: 86.433333%\n"
          ]
        }
      ]
    },
    {
      "cell_type": "code",
      "source": [
        "with torch.no_grad():\n",
        "  model.eval()\n",
        "  predict = model(x_test_torch.unsqueeze(1))\n",
        "  predict = torch.argmax(predict.squeeze(1), 1)"
      ],
      "metadata": {
        "id": "AjjOC02cA6_m"
      },
      "execution_count": 32,
      "outputs": []
    },
    {
      "cell_type": "code",
      "source": [
        "correct = 0 \n",
        "for i in range(len(predict)):\n",
        "  if predict[i].item() == y_test[i]:\n",
        "    correct += 1\n",
        "acc = correct/len(predict)\n",
        "print(\"Test accuracy : {:.2%}\".format(acc))"
      ],
      "metadata": {
        "colab": {
          "base_uri": "https://localhost:8080/"
        },
        "id": "USlMv0T1A_hk",
        "outputId": "03d7d18d-7597-480a-d82a-5127f89b7c0d"
      },
      "execution_count": 33,
      "outputs": [
        {
          "output_type": "stream",
          "name": "stdout",
          "text": [
            "Test accuracy : 87.26%\n"
          ]
        }
      ]
    },
    {
      "cell_type": "code",
      "source": [
        "fig = plt.figure(figsize=(15, 7))\n",
        "\n",
        "for i in range(5):\n",
        "    plottable_image = x_test[i]\n",
        "    ax = fig.add_subplot(2, 5, i+1)\n",
        "    ax.title.set_text(str(y_test[i]))\n",
        "    ax.imshow(plottable_image, cmap='gray_r')\n",
        "  \n",
        "for i in range(5):\n",
        "    plottable_image = x_test[i]\n",
        "    ax = fig.add_subplot(2, 5, i+6)\n",
        "    ax.title.set_text(str(predict[i].item()))\n",
        "    ax.imshow(plottable_image, cmap='gray_r')\n",
        "\n",
        "plt.show()"
      ],
      "metadata": {
        "colab": {
          "base_uri": "https://localhost:8080/",
          "height": 416
        },
        "id": "EOhPxQLrBBik",
        "outputId": "cee415aa-993e-4f9b-88a0-9f0102660865"
      },
      "execution_count": 35,
      "outputs": [
        {
          "output_type": "display_data",
          "data": {
            "text/plain": [
              "<Figure size 1080x504 with 10 Axes>"
            ],
            "image/png": "[encoded data removed]"
          },
          "metadata": {
            "needs_background": "light"
          }
        }
      ]
    },
    {
      "cell_type": "code",
      "source": [
        ""
      ],
      "metadata": {
        "id": "s0wsF8LNBfgE"
      },
      "execution_count": null,
      "outputs": []
    }
  ]
}