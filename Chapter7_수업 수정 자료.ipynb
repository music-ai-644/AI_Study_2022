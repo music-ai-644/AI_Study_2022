{
  "nbformat": 4,
  "nbformat_minor": 0,
  "metadata": {
    "colab": {
      "name": "Untitled0.ipynb",
      "provenance": [],
      "collapsed_sections": [],
      "authorship_tag": "ABX9TyMjGAsoaC3ZBloi61HdZqGG",
      "include_colab_link": true
    },
    "kernelspec": {
      "name": "python3",
      "display_name": "Python 3"
    },
    "language_info": {
      "name": "python"
    },
    "accelerator": "GPU",
    "gpuClass": "standard"
  },
  "cells": [
    {
      "cell_type": "markdown",
      "metadata": {
        "id": "view-in-github",
        "colab_type": "text"
      },
      "source": [
        "<a href=\"https://colab.research.google.com/github/music-ai-644/AI_Study_2022/blob/main/Chapter7_%EC%88%98%EC%97%85%20%EC%88%98%EC%A0%95%20%EC%9E%90%EB%A3%8C.ipynb\" target=\"_parent\"><img src=\"https://colab.research.google.com/assets/colab-badge.svg\" alt=\"Open In Colab\"/></a>"
      ]
    },
    {
      "cell_type": "code",
      "source": [
        "import numpy as np "
      ],
      "metadata": {
        "id": "YlKdt0gUckh0"
      },
      "execution_count": 2,
      "outputs": []
    },
    {
      "cell_type": "code",
      "source": [
        "a = np.array([0.2, -0.11, 1.2, 5.4])"
      ],
      "metadata": {
        "id": "dDJLlouSckkX"
      },
      "execution_count": 3,
      "outputs": []
    },
    {
      "cell_type": "markdown",
      "source": [
        "### 위의 소프트 맥스 함수를 취한 값을 구하시오.\n",
        "# $\\frac{\\exp(z_i)}{\\sum_{i=1}^{n}\\exp{z_i}}$"
      ],
      "metadata": {
        "id": "YdZqsjXOdFI_"
      }
    },
    {
      "cell_type": "code",
      "source": [
        "np.exp(a)"
      ],
      "metadata": {
        "id": "-6kKMmpdcknB",
        "outputId": "c58cd7ec-1c85-45d0-9d73-1e5d5a44ae63",
        "colab": {
          "base_uri": "https://localhost:8080/"
        }
      },
      "execution_count": 4,
      "outputs": [
        {
          "output_type": "execute_result",
          "data": {
            "text/plain": [
              "array([  1.22140276,   0.89583414,   3.32011692, 221.4064162 ])"
            ]
          },
          "metadata": {},
          "execution_count": 4
        }
      ]
    },
    {
      "cell_type": "code",
      "source": [
        "np.exp(a)/np.sum(np.exp(a))"
      ],
      "metadata": {
        "colab": {
          "base_uri": "https://localhost:8080/"
        },
        "id": "AwoZ76Ytckpx",
        "outputId": "17cc3eaa-15bd-4c75-e930-c53f86961b8b"
      },
      "execution_count": 5,
      "outputs": [
        {
          "output_type": "execute_result",
          "data": {
            "text/plain": [
              "array([0.00538433, 0.00394912, 0.01463614, 0.9760304 ])"
            ]
          },
          "metadata": {},
          "execution_count": 5
        }
      ]
    },
    {
      "cell_type": "code",
      "source": [
        "output = np.exp(a)/np.sum(np.exp(a))\n",
        "predict = np.argmax(output)\n",
        "print(predict)"
      ],
      "metadata": {
        "outputId": "f193678e-daed-4fc8-ff3c-06d66682e438",
        "colab": {
          "base_uri": "https://localhost:8080/"
        },
        "id": "AwaL0k-gmrH9"
      },
      "execution_count": 6,
      "outputs": [
        {
          "output_type": "stream",
          "name": "stdout",
          "text": [
            "3\n"
          ]
        }
      ]
    },
    {
      "cell_type": "code",
      "source": [
        "def softmax(x):\n",
        "  return np.exp(a)/np.sum(np.exp(a))"
      ],
      "metadata": {
        "id": "b0q7aSECcksK"
      },
      "execution_count": 7,
      "outputs": []
    },
    {
      "cell_type": "code",
      "source": [
        "softmax(a)"
      ],
      "metadata": {
        "id": "pQv-iNeycku_",
        "outputId": "037fae1d-d57d-430b-d090-742edc22c3aa",
        "colab": {
          "base_uri": "https://localhost:8080/"
        }
      },
      "execution_count": 8,
      "outputs": [
        {
          "output_type": "execute_result",
          "data": {
            "text/plain": [
              "array([0.00538433, 0.00394912, 0.01463614, 0.9760304 ])"
            ]
          },
          "metadata": {},
          "execution_count": 8
        }
      ]
    },
    {
      "cell_type": "code",
      "source": [
        "import torch "
      ],
      "metadata": {
        "id": "n9TpNteMckxe"
      },
      "execution_count": 9,
      "outputs": []
    },
    {
      "cell_type": "code",
      "source": [
        "a = torch.FloatTensor([2])\n",
        "print(a == 2)  # torch 끼리 비교\n",
        "print(a.item() == 2)  # 스칼라(값) 끼리 비교 "
      ],
      "metadata": {
        "id": "AmtdMyK6nFe4",
        "outputId": "baab0441-b949-428a-8d2b-8e04d805b0a2",
        "colab": {
          "base_uri": "https://localhost:8080/"
        }
      },
      "execution_count": 10,
      "outputs": [
        {
          "output_type": "stream",
          "name": "stdout",
          "text": [
            "tensor([True])\n",
            "True\n"
          ]
        }
      ]
    },
    {
      "cell_type": "code",
      "execution_count": 11,
      "metadata": {
        "id": "IMRHgENqVdcU"
      },
      "outputs": [],
      "source": [
        "import matplotlib.pyplot as plt \n",
        "import tensorflow as tf\n",
        "import numpy as np "
      ]
    },
    {
      "cell_type": "markdown",
      "source": [
        "### 1. 데이터셋 준비하기"
      ],
      "metadata": {
        "id": "LK6Onul0hHO7"
      }
    },
    {
      "cell_type": "code",
      "source": [
        "(x_train_all, y_train_all), (x_test, y_test) = tf.keras.datasets.fashion_mnist.load_data()\n",
        "print(x_train_all.shape, y_train_all.shape)"
      ],
      "metadata": {
        "colab": {
          "base_uri": "https://localhost:8080/"
        },
        "id": "zqZHtX9tZT0o",
        "outputId": "f015ee1c-6145-4996-d356-a9d75a997a2e"
      },
      "execution_count": 12,
      "outputs": [
        {
          "output_type": "stream",
          "name": "stdout",
          "text": [
            "Downloading data from https://storage.googleapis.com/tensorflow/tf-keras-datasets/train-labels-idx1-ubyte.gz\n",
            "32768/29515 [=================================] - 0s 0us/step\n",
            "40960/29515 [=========================================] - 0s 0us/step\n",
            "Downloading data from https://storage.googleapis.com/tensorflow/tf-keras-datasets/train-images-idx3-ubyte.gz\n",
            "26427392/26421880 [==============================] - 0s 0us/step\n",
            "26435584/26421880 [==============================] - 0s 0us/step\n",
            "Downloading data from https://storage.googleapis.com/tensorflow/tf-keras-datasets/t10k-labels-idx1-ubyte.gz\n",
            "16384/5148 [===============================================================================================] - 0s 0us/step\n",
            "Downloading data from https://storage.googleapis.com/tensorflow/tf-keras-datasets/t10k-images-idx3-ubyte.gz\n",
            "4423680/4422102 [==============================] - 0s 0us/step\n",
            "4431872/4422102 [==============================] - 0s 0us/step\n",
            "(60000, 28, 28) (60000,)\n"
          ]
        }
      ]
    },
    {
      "cell_type": "code",
      "source": [
        "print(y_train_all[:10])"
      ],
      "metadata": {
        "colab": {
          "base_uri": "https://localhost:8080/"
        },
        "id": "nzRKULkAdBJM",
        "outputId": "bd9a9258-cb75-4284-8c76-4b379337c3d5"
      },
      "execution_count": 13,
      "outputs": [
        {
          "output_type": "stream",
          "name": "stdout",
          "text": [
            "[9 0 0 3 0 2 7 2 5 5]\n"
          ]
        }
      ]
    },
    {
      "cell_type": "code",
      "source": [
        "class_names = [\"T-shirts\", \"Pants\", \"Sweater\", \"Dress\", \"Coat\", \"Sandal\", \"Shirts\", \"Sneakers\", \"Bag\", \"Boots\"]"
      ],
      "metadata": {
        "id": "j5G8drgkZzPl"
      },
      "execution_count": 14,
      "outputs": []
    },
    {
      "cell_type": "code",
      "source": [
        "fig = plt.figure(figsize=(15, 7))\n",
        "\n",
        "for i in range(10):\n",
        "    plottable_image = np.reshape(x_train_all[i], (28, 28))\n",
        "    ax = fig.add_subplot(2, 5, i+1)\n",
        "    ax.title.set_text(class_names[y_train_all[i]])\n",
        "    ax.imshow(plottable_image, cmap='gray_r')"
      ],
      "metadata": {
        "colab": {
          "base_uri": "https://localhost:8080/",
          "height": 416
        },
        "id": "KqZcE_KvV7_w",
        "outputId": "3a67d271-58b5-4b74-d355-83ebf8a56082"
      },
      "execution_count": 15,
      "outputs": [
        {
          "output_type": "display_data",
          "data": {
            "text/plain": [
              "<Figure size 1080x504 with 10 Axes>"
            ],
            "image/png": "[encoded data removed]"
          },
          "metadata": {
            "needs_background": "light"
          }
        }
      ]
    },
    {
      "cell_type": "code",
      "source": [
        "from sklearn.model_selection import train_test_split \n",
        "x_train, x_valid, y_train, y_valid = train_test_split(x_train_all, y_train_all, stratify=y_train_all, test_size=0.2, random_state=42)"
      ],
      "metadata": {
        "id": "6hRrkl0MYjtf"
      },
      "execution_count": 16,
      "outputs": []
    },
    {
      "cell_type": "code",
      "source": [
        "print(\"학습 데이터셋 클래스별 샘플 수 : \", np.bincount(y_train))\n",
        "print(\"평가 데이터셋 클래스별 샘플 수 : \", np.bincount(y_valid))"
      ],
      "metadata": {
        "colab": {
          "base_uri": "https://localhost:8080/"
        },
        "id": "5Z8_tDpZcYqc",
        "outputId": "f451a4c2-8a90-47c8-e064-7cf1e7e916de"
      },
      "execution_count": 17,
      "outputs": [
        {
          "output_type": "stream",
          "name": "stdout",
          "text": [
            "학습 데이터셋 클래스별 샘플 수 :  [4800 4800 4800 4800 4800 4800 4800 4800 4800 4800]\n",
            "평가 데이터셋 클래스별 샘플 수 :  [1200 1200 1200 1200 1200 1200 1200 1200 1200 1200]\n"
          ]
        }
      ]
    },
    {
      "cell_type": "code",
      "source": [
        "x_train = x_train / 255  # 0 ~ 1부터의 값으로 변환 \n",
        "x_valid = x_valid / 255 \n",
        "x_test = x_test / 255 "
      ],
      "metadata": {
        "id": "Bic9Vu3EdZK_"
      },
      "execution_count": 18,
      "outputs": []
    },
    {
      "cell_type": "code",
      "source": [
        "x_train_reshape = x_train.reshape(-1, 784)  # 28 x 28 -> 784 \n",
        "x_valid_reshape = x_valid.reshape(-1, 784)\n",
        "x_test_reshape = x_test.reshape(-1, 784)\n",
        "\n",
        "print(\"학습 데이터 셋의 형태 : \", x_train_reshape.shape)\n",
        "print(\"검증 데이터 셋의 형태 : \", x_valid_reshape.shape)"
      ],
      "metadata": {
        "colab": {
          "base_uri": "https://localhost:8080/"
        },
        "id": "SUBTSKIxdj1u",
        "outputId": "49d4edd4-3ef8-4c4a-8019-6817c7bd21dc"
      },
      "execution_count": 19,
      "outputs": [
        {
          "output_type": "stream",
          "name": "stdout",
          "text": [
            "학습 데이터 셋의 형태 :  (48000, 784)\n",
            "검증 데이터 셋의 형태 :  (12000, 784)\n"
          ]
        }
      ]
    },
    {
      "cell_type": "markdown",
      "source": [
        "### 2. 원핫 인코딩하기"
      ],
      "metadata": {
        "id": "v4dxgtE3hB86"
      }
    },
    {
      "cell_type": "code",
      "source": [
        "tf.keras.utils.to_categorical([0, 1, 3])"
      ],
      "metadata": {
        "colab": {
          "base_uri": "https://localhost:8080/"
        },
        "id": "_KDYxS4Ed9wq",
        "outputId": "f79c4ca4-b06b-4c6e-afb6-d8cb0e1a4a41"
      },
      "execution_count": 20,
      "outputs": [
        {
          "output_type": "execute_result",
          "data": {
            "text/plain": [
              "array([[1., 0., 0., 0.],\n",
              "       [0., 1., 0., 0.],\n",
              "       [0., 0., 0., 1.]], dtype=float32)"
            ]
          },
          "metadata": {},
          "execution_count": 20
        }
      ]
    },
    {
      "cell_type": "code",
      "source": [
        "y_train_encoded = tf.keras.utils.to_categorical(y_train)\n",
        "y_valid_encoded = tf.keras.utils.to_categorical(y_valid)"
      ],
      "metadata": {
        "id": "5_wlQnf6hYZA"
      },
      "execution_count": 21,
      "outputs": []
    },
    {
      "cell_type": "code",
      "source": [
        "print(y_train[0], y_train_encoded[0], class_names[y_train[0]])"
      ],
      "metadata": {
        "colab": {
          "base_uri": "https://localhost:8080/"
        },
        "id": "QCTnR5vahixo",
        "outputId": "c669f27f-9207-4a2a-9f69-a906780b21ad"
      },
      "execution_count": 22,
      "outputs": [
        {
          "output_type": "stream",
          "name": "stdout",
          "text": [
            "6 [0. 0. 0. 0. 0. 0. 1. 0. 0. 0.] Shirts\n"
          ]
        }
      ]
    },
    {
      "cell_type": "code",
      "source": [
        "import torch\n",
        "x_train_torch = torch.FloatTensor(x_train_reshape)\n",
        "y_train_torch = torch.FloatTensor(y_train_encoded)\n",
        "x_valid_torch = torch.FloatTensor(x_valid_reshape)\n",
        "y_valid_torch = torch.FloatTensor(y_valid_encoded) \n",
        "x_test_torch = torch.FloatTensor(x_test_reshape)\n",
        "y_test_torch = torch.FloatTensor(y_test)"
      ],
      "metadata": {
        "id": "l2VwMF5BkpqA",
        "outputId": "30c6749f-767f-4f54-e7f6-074ba8e82758",
        "colab": {
          "base_uri": "https://localhost:8080/"
        }
      },
      "execution_count": 23,
      "outputs": [
        {
          "output_type": "stream",
          "name": "stderr",
          "text": [
            "/usr/local/lib/python3.7/dist-packages/ipykernel_launcher.py:7: UserWarning: The given NumPy array is not writable, and PyTorch does not support non-writable tensors. This means writing to this tensor will result in undefined behavior. You may want to copy the array to protect its data or make it writable before converting it to a tensor. This type of warning will be suppressed for the rest of this program. (Triggered internally at  ../torch/csrc/utils/tensor_numpy.cpp:172.)\n",
            "  import sys\n"
          ]
        }
      ]
    },
    {
      "cell_type": "markdown",
      "source": [
        "### 3. 신경망 만들기"
      ],
      "metadata": {
        "id": "mLnXLGTUhzA5"
      }
    },
    {
      "cell_type": "code",
      "source": [
        "import torch.nn as nn\n",
        "from torch.utils.data import Dataset, DataLoader"
      ],
      "metadata": {
        "id": "d_7QBuEPiqdp"
      },
      "execution_count": 24,
      "outputs": []
    },
    {
      "cell_type": "code",
      "source": [
        "class FashionDataset(Dataset):\n",
        "  def __init__(self, x, y):\n",
        "    '''\n",
        "    x 100개를 데이터 다 불러와서 메모리에 올릴 수 있다.  \n",
        "    x가 100개이고 메모리에는 10개를 올릴 수 밖에 없다면\n",
        "    너무 무거워서 파일의 경로 100개를 적어줌\n",
        "    '''\n",
        "    self.x_data = x  \n",
        "    self.y_data = y\n",
        "  \n",
        "  def __getitem__(self, index):\n",
        "    x = self.x_data[index]  # 샘플을 하나를 선택 \n",
        "    # x = np.load(x)  # x_data가 경로만 들어있다면 \n",
        "    y = self.y_data[index]\n",
        "    return x, y\n",
        "  \n",
        "  def collate_fn(self, batch):\n",
        "    x, y = zip(*batch)  # batch size만큼 있음 \n",
        "    return x, y\n",
        "\n",
        "  def __len__(self):\n",
        "    return len(self.x_data)"
      ],
      "metadata": {
        "id": "B984FMwSlSyC"
      },
      "execution_count": 25,
      "outputs": []
    },
    {
      "cell_type": "code",
      "source": [
        "dataset = FashionDataset(x_train_torch, y_train_torch)\n",
        "dataloader = DataLoader(dataset, batch_size=32, shuffle=True, drop_last=True)"
      ],
      "metadata": {
        "id": "Wu2wSvwSmq1v"
      },
      "execution_count": 26,
      "outputs": []
    },
    {
      "cell_type": "code",
      "source": [
        "for b in dataloader:\n",
        "  x_batch = b[0]\n",
        "  y_batch = b[1]\n",
        "  print(\"배치 사이즈 : \", len(x_batch))\n",
        "  print(\"데이터 크기 : \", x_batch.size())\n",
        "  print(\"타겟 크기 : \", y_batch.size())\n",
        "  break"
      ],
      "metadata": {
        "id": "uzRq4tEOlHdx",
        "outputId": "1c64c497-dedc-414b-c4f3-c74f7b1b8121",
        "colab": {
          "base_uri": "https://localhost:8080/"
        }
      },
      "execution_count": 27,
      "outputs": [
        {
          "output_type": "stream",
          "name": "stdout",
          "text": [
            "배치 사이즈 :  32\n",
            "데이터 크기 :  torch.Size([32, 784])\n",
            "타겟 크기 :  torch.Size([32, 10])\n"
          ]
        }
      ]
    },
    {
      "cell_type": "code",
      "source": [
        "from tqdm import tqdm \n",
        "import random \n",
        "\n",
        "random_seed = 123\n",
        "np.random.seed(random_seed)\n",
        "torch.manual_seed(random_seed)\n",
        "random.seed(random_seed)\n",
        "\n",
        "model = nn.Sequential(\n",
        "    nn.Linear(784, 100),\n",
        "    nn.ReLU(), \n",
        "    nn.Linear(100, 10)\n",
        "    )\n",
        "\n",
        "optim = torch.optim.Adam(model.parameters(), lr=1e-4)\n",
        "criterion = nn.CrossEntropyLoss()\n",
        "\n",
        "global_step = 0 \n",
        "for epoch in range(10):  # epoch은 훈련 데이터셋을 한 번 다 보는 것을 epoch\n",
        "  t = tqdm(dataloader, ncols=100)\n",
        "  for i, batch in enumerate(t):\n",
        "    x_batch = batch[0]\n",
        "    y_batch = batch[1]\n",
        "    output = model(x_batch)\n",
        "    loss = criterion(output, y_batch)\n",
        "\n",
        "    model.zero_grad() \n",
        "    optim.zero_grad()\n",
        "    loss.backward()  # 그래디언트 (기울기) 구하고\n",
        "    optim.step()  # 적용 (업데이트)\n",
        "\n",
        "    global_step += 1\n",
        "    t.set_description(\"epoch: {} | global_step: {:8d} | loss: {:.4f}\".format(epoch + 1, global_step, loss))\n",
        "\n",
        "  predicts = model(x_valid_torch)\n",
        "  predicts = torch.argmax(predicts, 1)\n",
        "\n",
        "  correct = 0 \n",
        "  for i in range(len(predicts)):\n",
        "    if predicts[i].item() == y_valid[i]:  # torch에서 scalar값 가져오기 위하여 item() \n",
        "      correct += 1\n",
        "  acc = correct / len(predicts)\n",
        "  print(\"epoch: {} | global_step: {} | valid acc: {:%}\".format(epoch + 1, global_step, acc))"
      ],
      "metadata": {
        "colab": {
          "base_uri": "https://localhost:8080/"
        },
        "id": "NFvQvWjskhxi",
        "outputId": "e0ffce21-b887-442e-c3f4-4345b661f50a"
      },
      "execution_count": 28,
      "outputs": [
        {
          "output_type": "stream",
          "name": "stderr",
          "text": [
            "epoch: 1 | global_step:     1500 | loss: 0.6852: 100%|█████████| 1500/1500 [00:12<00:00, 119.11it/s]\n"
          ]
        },
        {
          "output_type": "stream",
          "name": "stdout",
          "text": [
            "epoch: 1 | global_step: 1500 | valid acc: 80.475000%\n"
          ]
        },
        {
          "output_type": "stream",
          "name": "stderr",
          "text": [
            "epoch: 2 | global_step:     3000 | loss: 0.4901: 100%|█████████| 1500/1500 [00:09<00:00, 163.54it/s]\n"
          ]
        },
        {
          "output_type": "stream",
          "name": "stdout",
          "text": [
            "epoch: 2 | global_step: 3000 | valid acc: 83.016667%\n"
          ]
        },
        {
          "output_type": "stream",
          "name": "stderr",
          "text": [
            "epoch: 3 | global_step:     4500 | loss: 0.6082: 100%|█████████| 1500/1500 [00:08<00:00, 171.18it/s]\n"
          ]
        },
        {
          "output_type": "stream",
          "name": "stdout",
          "text": [
            "epoch: 3 | global_step: 4500 | valid acc: 84.150000%\n"
          ]
        },
        {
          "output_type": "stream",
          "name": "stderr",
          "text": [
            "epoch: 4 | global_step:     6000 | loss: 0.7648: 100%|█████████| 1500/1500 [00:08<00:00, 172.15it/s]\n"
          ]
        },
        {
          "output_type": "stream",
          "name": "stdout",
          "text": [
            "epoch: 4 | global_step: 6000 | valid acc: 85.000000%\n"
          ]
        },
        {
          "output_type": "stream",
          "name": "stderr",
          "text": [
            "epoch: 5 | global_step:     7500 | loss: 0.5250: 100%|█████████| 1500/1500 [00:08<00:00, 171.25it/s]\n"
          ]
        },
        {
          "output_type": "stream",
          "name": "stdout",
          "text": [
            "epoch: 5 | global_step: 7500 | valid acc: 85.383333%\n"
          ]
        },
        {
          "output_type": "stream",
          "name": "stderr",
          "text": [
            "epoch: 6 | global_step:     9000 | loss: 0.5153: 100%|█████████| 1500/1500 [00:08<00:00, 170.58it/s]\n"
          ]
        },
        {
          "output_type": "stream",
          "name": "stdout",
          "text": [
            "epoch: 6 | global_step: 9000 | valid acc: 85.575000%\n"
          ]
        },
        {
          "output_type": "stream",
          "name": "stderr",
          "text": [
            "epoch: 7 | global_step:    10500 | loss: 0.6055: 100%|█████████| 1500/1500 [00:09<00:00, 163.16it/s]\n"
          ]
        },
        {
          "output_type": "stream",
          "name": "stdout",
          "text": [
            "epoch: 7 | global_step: 10500 | valid acc: 85.425000%\n"
          ]
        },
        {
          "output_type": "stream",
          "name": "stderr",
          "text": [
            "epoch: 8 | global_step:    12000 | loss: 0.3786: 100%|█████████| 1500/1500 [00:08<00:00, 171.26it/s]\n"
          ]
        },
        {
          "output_type": "stream",
          "name": "stdout",
          "text": [
            "epoch: 8 | global_step: 12000 | valid acc: 86.258333%\n"
          ]
        },
        {
          "output_type": "stream",
          "name": "stderr",
          "text": [
            "epoch: 9 | global_step:    13500 | loss: 0.5760: 100%|█████████| 1500/1500 [00:09<00:00, 155.53it/s]\n"
          ]
        },
        {
          "output_type": "stream",
          "name": "stdout",
          "text": [
            "epoch: 9 | global_step: 13500 | valid acc: 86.475000%\n"
          ]
        },
        {
          "output_type": "stream",
          "name": "stderr",
          "text": [
            "epoch: 10 | global_step:    15000 | loss: 0.2206: 100%|████████| 1500/1500 [00:08<00:00, 172.43it/s]\n"
          ]
        },
        {
          "output_type": "stream",
          "name": "stdout",
          "text": [
            "epoch: 10 | global_step: 15000 | valid acc: 86.616667%\n"
          ]
        }
      ]
    },
    {
      "cell_type": "code",
      "source": [
        "predict = model(x_test_torch)\n",
        "predict = torch.argmax(predict, 1)"
      ],
      "metadata": {
        "id": "wd-XsSljm4kO"
      },
      "execution_count": 29,
      "outputs": []
    },
    {
      "cell_type": "code",
      "source": [
        "correct = 0 \n",
        "for i in range(len(predict)):\n",
        "  if predict[i].item() == y_test[i]:\n",
        "    correct += 1\n",
        "acc = correct/len(predict)\n",
        "print(\"Test accuracy : {:.2%}\".format(acc))"
      ],
      "metadata": {
        "colab": {
          "base_uri": "https://localhost:8080/"
        },
        "id": "vC9hwtKKm4nI",
        "outputId": "d275041a-a9a7-465b-fcfc-a0504e8d7cb1"
      },
      "execution_count": 30,
      "outputs": [
        {
          "output_type": "stream",
          "name": "stdout",
          "text": [
            "Test accuracy : 84.91%\n"
          ]
        }
      ]
    },
    {
      "cell_type": "code",
      "source": [
        "fig = plt.figure(figsize=(15, 7))\n",
        "\n",
        "for i in range(5):\n",
        "    plottable_image = x_test[i+15]\n",
        "    ax = fig.add_subplot(2, 5, i+1)\n",
        "    ax.title.set_text(class_names[y_test[i+15]])\n",
        "    ax.imshow(plottable_image, cmap='gray_r')\n",
        "  \n",
        "for i in range(5):\n",
        "    plottable_image = x_test[i+15]\n",
        "    ax = fig.add_subplot(2, 5, i+6)\n",
        "    ax.title.set_text(class_names[predict[i+15].item()])\n",
        "    ax.imshow(plottable_image, cmap='gray_r')\n",
        "\n",
        "plt.show()"
      ],
      "metadata": {
        "colab": {
          "base_uri": "https://localhost:8080/",
          "height": 416
        },
        "id": "56Ng7RqVvw-U",
        "outputId": "d2615308-6866-4a70-ffc6-f505e6bdf917"
      },
      "execution_count": 32,
      "outputs": [
        {
          "output_type": "display_data",
          "data": {
            "text/plain": [
              "<Figure size 1080x504 with 10 Axes>"
            ],
            "image/png": "[encoded data removed]"
          },
          "metadata": {
            "needs_background": "light"
          }
        }
      ]
    },
    {
      "cell_type": "code",
      "source": [
        ""
      ],
      "metadata": {
        "id": "4BhAEWoxwNBm"
      },
      "execution_count": 31,
      "outputs": []
    }
  ]
}